{
 "cells": [
  {
   "cell_type": "markdown",
   "id": "cac84a4e",
   "metadata": {},
   "source": [
    "# This notebook contains code for creating and evaluating the baseline model and subsequent models"
   ]
  },
  {
   "cell_type": "code",
   "execution_count": 1,
   "id": "829ae459",
   "metadata": {},
   "outputs": [],
   "source": [
    "reset -fs"
   ]
  },
  {
   "cell_type": "code",
   "execution_count": 2,
   "id": "e7ca6890",
   "metadata": {},
   "outputs": [],
   "source": [
    "import pandas as pd\n",
    "import numpy as np\n",
    "import seaborn as sns\n",
    "import matplotlib.pyplot as plt\n",
    "import matplotlib.cm as cm\n",
    "import os\n",
    "\n",
    "from sklearn.preprocessing import StandardScaler\n",
    "from sklearn.linear_model import LogisticRegression\n",
    "from sklearn.ensemble import RandomForestClassifier, StackingClassifier\n",
    "from sklearn.model_selection import KFold\n",
    "from sklearn.model_selection import GridSearchCV, StratifiedKFold\n",
    "from sklearn.model_selection import cross_validate\n",
    "from sklearn.model_selection import train_test_split\n",
    "from sklearn.model_selection import RepeatedStratifiedKFold\n",
    "from sklearn.metrics import f1_score,recall_score,precision_score,fbeta_score,make_scorer,roc_auc_score,roc_curve,confusion_matrix,precision_recall_curve,classification_report\n",
    "from sklearn.feature_selection import SelectFromModel\n",
    "\n",
    "import imblearn.over_sampling"
   ]
  },
  {
   "cell_type": "code",
   "execution_count": 3,
   "id": "62fa3265",
   "metadata": {},
   "outputs": [
    {
     "data": {
      "text/plain": [
       "'/Users/chloebergsma-safar/Desktop/Metis/NBM_Classification_Project/Metis-Classification'"
      ]
     },
     "execution_count": 3,
     "metadata": {},
     "output_type": "execute_result"
    }
   ],
   "source": [
    "os.getcwd()"
   ]
  },
  {
   "cell_type": "code",
   "execution_count": 4,
   "id": "3ee879d4",
   "metadata": {},
   "outputs": [],
   "source": [
    "os.chdir('/Users/chloebergsma-safar/Desktop/Metis/NBM_Classification_Project')"
   ]
  },
  {
   "cell_type": "markdown",
   "id": "516a00a4",
   "metadata": {},
   "source": [
    "# Read in dataset for modeling"
   ]
  },
  {
   "cell_type": "code",
   "execution_count": 5,
   "id": "6376b9d2",
   "metadata": {},
   "outputs": [],
   "source": [
    "subjects_incidents = pd.read_csv('nypd_force_df_rev2.csv')"
   ]
  },
  {
   "cell_type": "code",
   "execution_count": 6,
   "id": "5c1362da",
   "metadata": {},
   "outputs": [
    {
     "data": {
      "text/plain": [
       "Index(['subject_id', 'tri_incident_number', 'subject_injury_level',\n",
       "       'subject_injured', 'subject_age', 'subject_race', 'subject_gender',\n",
       "       'force_against_mos', 'subject_used_force', 'occurrence_date',\n",
       "       ...\n",
       "       'member_assignment_FIXED POST', 'member_assignment_INVESTIGATION',\n",
       "       'member_assignment_NCO', 'member_assignment_OFF DUTY',\n",
       "       'member_assignment_OTHER', 'member_assignment_SCOOTER',\n",
       "       'member_injured_all_Y', 'race_diff_all_Y', 'race_diff_Y',\n",
       "       'subject_injured_target'],\n",
       "      dtype='object', length=101)"
      ]
     },
     "execution_count": 6,
     "metadata": {},
     "output_type": "execute_result"
    }
   ],
   "source": [
    "subjects_incidents.columns"
   ]
  },
  {
   "cell_type": "code",
   "execution_count": 7,
   "id": "01657264",
   "metadata": {},
   "outputs": [
    {
     "data": {
      "text/plain": [
       "0    31589\n",
       "1      683\n",
       "Name: subject_injured_target, dtype: int64"
      ]
     },
     "execution_count": 7,
     "metadata": {},
     "output_type": "execute_result"
    }
   ],
   "source": [
    "subjects_incidents['subject_injured_target'].value_counts()"
   ]
  },
  {
   "cell_type": "markdown",
   "id": "c1f20d13",
   "metadata": {},
   "source": [
    "Drop rows with NaN in the subject age column, since logistic regression can't handle NaNs"
   ]
  },
  {
   "cell_type": "code",
   "execution_count": 8,
   "id": "a6588298",
   "metadata": {},
   "outputs": [],
   "source": [
    "subjects_incidents_no_null = subjects_incidents.dropna()"
   ]
  },
  {
   "cell_type": "markdown",
   "id": "95f73f77",
   "metadata": {},
   "source": [
    "Create dataframe of features I'll actually use (plus subject_id and tri_incident_number, which are needed for splitting into train/val/split) and the target variable"
   ]
  },
  {
   "cell_type": "code",
   "execution_count": 9,
   "id": "162c1674",
   "metadata": {},
   "outputs": [],
   "source": [
    "df_X = subjects_incidents_no_null[['subject_id','tri_incident_number','subject_age',\n",
    "                                   'num_subjects','num_members','race_diff_all_Y',\n",
    "                                   'member_injured_all_Y',\n",
    "       'member_injured_Y','race_diff_Y','subject_used_force_Y','forcetype_Electrical Weapon',\n",
    "       'forcetype_Firearm','forcetype_Impact Weapon','forcetype_OC Spray',\n",
    "       'forcetype_Police Canine','forcetype_Restraining Mesh Blanket',\n",
    "       'basis_encounter_AMBUSH OF MEMBER', 'basis_encounter_ANIMAL CONDITION',\n",
    "       'basis_encounter_CRIME/VIOLATION IN PROGRESS',\n",
    "       'basis_encounter_CROWD CONTROL',\n",
    "       'basis_encounter_DETECTIVE INVESTIGATION', 'basis_encounter_HOME VISIT',\n",
    "       'basis_encounter_HOSTAGE/BARRICADED',\n",
    "       'basis_encounter_IN CUSTODY INJURY',\n",
    "       'basis_encounter_NON-CRIME CALLS FOR SERVICE',\n",
    "       'basis_encounter_ORDER OF PROTECTION', 'basis_encounter_OTHER',\n",
    "       'basis_encounter_PAST CRIME/VIOLATION',\n",
    "       'basis_encounter_PERSON IN CRISIS', 'basis_encounter_PRISONER',\n",
    "       'basis_encounter_SEARCH WARRANT', 'basis_encounter_TRANSIT EJECTION',\n",
    "       'basis_encounter_VTL INFRACTION',\n",
    "       'basis_encounter_WANTED SUSPECT (E.G. WARRANT, I CARD)',\n",
    "       'patrol_borough_PBBN', 'patrol_borough_PBBS', 'patrol_borough_PBBX',\n",
    "       'patrol_borough_PBMN', 'patrol_borough_PBMS', 'patrol_borough_PBQN',\n",
    "       'patrol_borough_PBQS', 'subject_gender_FEMALE', 'subject_gender_MALE',\n",
    "       'subject_race_AMER INDIAN', 'subject_race_ASIAN', 'subject_race_BLACK',\n",
    "       'subject_race_HISPANIC', 'subject_race_UNK/OTH',\n",
    "       'force_against_mos_Cutting Instrument',\n",
    "       'force_against_mos_Displayed Weapon', 'force_against_mos_Firearm',\n",
    "       'force_against_mos_Impact Weapon', 'force_against_mos_Physical Force',\n",
    "       'member_race_AMER INDIAN','member_race_ASIAN', 'member_race_BLACK', \n",
    "       'member_race_HISPANIC',\n",
    "       'member_race_UNK/OTH', 'member_gender_FEMALE', 'member_rank_Captain',\n",
    "       'member_rank_Chief', 'member_rank_Deputy Inspector',\n",
    "       'member_rank_Detective', 'member_rank_Inspector',\n",
    "       'member_rank_Lieutenant', 'member_rank_Other', 'member_rank_RECODE',\n",
    "       'member_rank_Sergeant', 'member_assignment_ANTI-CRIME',\n",
    "       'member_assignment_FIXED POST', 'member_assignment_INVESTIGATION',\n",
    "       'member_assignment_NCO', 'member_assignment_OFF DUTY',\n",
    "       'member_assignment_OTHER', 'member_assignment_SCOOTER','subject_injured_target']]"
   ]
  },
  {
   "cell_type": "markdown",
   "id": "bd625277",
   "metadata": {},
   "source": [
    "# Model Preparation"
   ]
  },
  {
   "cell_type": "markdown",
   "id": "16d2cb52",
   "metadata": {},
   "source": [
    "First, since I'm using logistic regression and I have numeric variables on different scales, I need to standardize them so they're on the same scale."
   ]
  },
  {
   "cell_type": "code",
   "execution_count": 10,
   "id": "dd2fa80b",
   "metadata": {},
   "outputs": [
    {
     "name": "stderr",
     "output_type": "stream",
     "text": [
      "/var/folders/39/jt9qcrmn79dgs0dxlm65sdn40000gn/T/ipykernel_64423/1532820943.py:4: SettingWithCopyWarning: \n",
      "A value is trying to be set on a copy of a slice from a DataFrame.\n",
      "Try using .loc[row_indexer,col_indexer] = value instead\n",
      "\n",
      "See the caveats in the documentation: https://pandas.pydata.org/pandas-docs/stable/user_guide/indexing.html#returning-a-view-versus-a-copy\n",
      "  df_X[cols_to_scale] = scaler.fit_transform(df_X[cols_to_scale])\n"
     ]
    }
   ],
   "source": [
    "# scale numeric features\n",
    "cols_to_scale = ['num_members','num_subjects','subject_age']\n",
    "scaler = StandardScaler()\n",
    "df_X[cols_to_scale] = scaler.fit_transform(df_X[cols_to_scale])"
   ]
  },
  {
   "cell_type": "markdown",
   "id": "417314ea",
   "metadata": {},
   "source": [
    "Next, I split my dataset twice: first, into training and test sets and then, from the training set into training and validation sets."
   ]
  },
  {
   "cell_type": "code",
   "execution_count": 11,
   "id": "826fc0c5",
   "metadata": {},
   "outputs": [],
   "source": [
    "# split the data into train/validate/test sets with stratified sampling\n",
    "    # to ensure the same proportion of the target variable in each set\n",
    "\n",
    "# train-test split\n",
    "X_train, X_te, y_train, y_te = train_test_split(df_X.iloc[:,1:], df_X['subject_injured_target'], test_size=0.2, stratify=df_X['subject_injured_target'], random_state=42)\n",
    "\n",
    "# train-val split\n",
    "X_tr, X_val, y_tr, y_val = train_test_split(X_train, y_train, stratify=y_train, test_size=0.25, random_state=42)"
   ]
  },
  {
   "cell_type": "code",
   "execution_count": 12,
   "id": "b236ea63",
   "metadata": {},
   "outputs": [
    {
     "name": "stdout",
     "output_type": "stream",
     "text": [
      "PROPORTION OF TARGET IN THE ORIGINAL DATA\n",
      "0    0.978603\n",
      "1    0.021397\n",
      "Name: subject_injured_target, dtype: float64\n",
      "\n",
      "PROPORTION OF TARGET IN THE TRAINING SET\n",
      "0    0.978581\n",
      "1    0.021419\n",
      "Name: subject_injured_target, dtype: float64\n",
      "\n",
      "PROPORTION OF TARGET IN THE VALIDATION SET\n",
      "0    0.978635\n",
      "1    0.021365\n",
      "Name: subject_injured_target, dtype: float64\n",
      "\n",
      "PROPORTION OF TARGET IN THE TEST SET\n",
      "0    0.978638\n",
      "1    0.021362\n",
      "Name: subject_injured_target, dtype: float64\n"
     ]
    }
   ],
   "source": [
    "print(f'PROPORTION OF TARGET IN THE ORIGINAL DATA\\n{df_X[\"subject_injured_target\"].value_counts() / len(df_X)}\\n\\n'+\n",
    "      f'PROPORTION OF TARGET IN THE TRAINING SET\\n{y_tr.value_counts() / len(y_tr)}\\n\\n'+\n",
    "      f'PROPORTION OF TARGET IN THE VALIDATION SET\\n{y_val.value_counts() / len(y_val)}\\n\\n'+\n",
    "      f'PROPORTION OF TARGET IN THE TEST SET\\n{y_te.value_counts() / len(y_te)}')"
   ]
  },
  {
   "cell_type": "markdown",
   "id": "d6429698",
   "metadata": {},
   "source": [
    "Now that I have my dataset ready, I can create a helper function that will allow me to cross-validate, create an ROC curve to plot it calculate the ROC AUC score, and create confusion matrices."
   ]
  },
  {
   "cell_type": "code",
   "execution_count": 13,
   "id": "d59fd1fd",
   "metadata": {},
   "outputs": [],
   "source": [
    "def cross_validate_roc_cm(model, X_train, y_train, X_validate, y_validate):\n",
    "    \n",
    "    scoring_metrics = {'f2_score': make_scorer(fbeta_score, beta=2),'rec': 'recall'}\n",
    "    \n",
    "    kf = KFold(n_splits=5, shuffle=True, random_state = 42)\n",
    "    cv_results = cross_validate(model, X_train, y_train, cv=kf, scoring=scoring_metrics)\n",
    "\n",
    "    # Report results\n",
    "    \n",
    "    print(f\"recall scores: {(cv_results['test_rec'])}\")\n",
    "    print(\"\")\n",
    "    print(f\"mean recall: {(np.mean(cv_results['test_rec'])):.3f}\")\n",
    "    print(\"\")\n",
    "    print(f\"f2 scores: {(cv_results['test_f2_score'])}\")\n",
    "    print(\"\")\n",
    "    print(f\"mean f2 score: {(np.mean(cv_results['test_f2_score'])):.3f}\")\n",
    "    \n",
    "    # calculate roc curve\n",
    "    fpr, tpr, thresholds = roc_curve(y_validate, model.predict_proba(X_validate)[:,1]) # lr.predict_proba(X_validate)[:,1] means use probabilities for the positive outcome only\n",
    "\n",
    "    # plot the roc curve for the model\n",
    "    plt.plot([0,1], [0,1], linestyle='--', label='No Skill')\n",
    "    plt.plot(fpr, tpr, marker='.', label='Model')\n",
    "\n",
    "    # axis labels and title\n",
    "    plt.xlabel('False Positive Rate')\n",
    "    plt.ylabel('True Positive Rate')\n",
    "    plt.title('ROC curve for serious subject injury problem')\n",
    "    plt.legend()\n",
    "    plt.show()\n",
    "    print(\"ROC AUC score = \", roc_auc_score(y_validate, model.predict_proba(X_validate)[:,1]))\n",
    "    \n",
    "    # create and plot confusion matrix with training data\n",
    "    con_mat = confusion_matrix(y_train, model.predict(X_train))\n",
    "    plt.figure(dpi=100)\n",
    "    sns.heatmap(con_mat, cmap=plt.cm.Blues, annot=True, square=True)\n",
    "\n",
    "    plt.xlabel('Predicted serious injury')\n",
    "    plt.ylabel('Actual serious injury')\n",
    "    plt.title('Confusion Matrix - Training data')\n",
    "    plt.show()\n",
    "    \n",
    "    # create and plot confusion matrix with validation data\n",
    "    con_mat_val = confusion_matrix(y_validate, model.predict(X_validate))\n",
    "    plt.figure(dpi=100)\n",
    "    sns.heatmap(con_mat_val, cmap=plt.cm.Blues, annot=True, square=True)\n",
    "\n",
    "    plt.xlabel('Predicted serious injury')\n",
    "    plt.ylabel('Actual serious injury')\n",
    "    plt.title('Confusion Matrix - Validation data')\n",
    "    plt.show()"
   ]
  },
  {
   "cell_type": "code",
   "execution_count": 14,
   "id": "4e36505b",
   "metadata": {},
   "outputs": [],
   "source": [
    "X_tr_3 = X_tr[['subject_age',\n",
    "       'member_injured_Y','subject_used_force_Y','race_diff_Y',\n",
    "               'member_injured_all_Y','race_diff_all_Y','forcetype_Electrical Weapon',\n",
    "       'forcetype_Firearm','forcetype_Impact Weapon','forcetype_OC Spray',\n",
    "       'forcetype_Police Canine','forcetype_Restraining Mesh Blanket',\n",
    "       'basis_encounter_AMBUSH OF MEMBER', 'basis_encounter_ANIMAL CONDITION',\n",
    "       'basis_encounter_CRIME/VIOLATION IN PROGRESS',\n",
    "       'basis_encounter_CROWD CONTROL',\n",
    "       'basis_encounter_DETECTIVE INVESTIGATION', 'basis_encounter_HOME VISIT',\n",
    "       'basis_encounter_HOSTAGE/BARRICADED',\n",
    "       'basis_encounter_IN CUSTODY INJURY',\n",
    "       'basis_encounter_NON-CRIME CALLS FOR SERVICE',\n",
    "       'basis_encounter_ORDER OF PROTECTION', 'basis_encounter_OTHER',\n",
    "       'basis_encounter_PAST CRIME/VIOLATION',\n",
    "       'basis_encounter_PERSON IN CRISIS', 'basis_encounter_PRISONER',\n",
    "       'basis_encounter_SEARCH WARRANT', 'basis_encounter_TRANSIT EJECTION',\n",
    "       'basis_encounter_VTL INFRACTION',\n",
    "       'basis_encounter_WANTED SUSPECT (E.G. WARRANT, I CARD)',\n",
    "       'patrol_borough_PBBN', 'patrol_borough_PBBS', 'patrol_borough_PBBX',\n",
    "       'patrol_borough_PBMN', 'patrol_borough_PBMS', 'patrol_borough_PBQN',\n",
    "       'patrol_borough_PBQS', 'subject_gender_FEMALE', 'subject_gender_MALE',\n",
    "       'subject_race_AMER INDIAN', 'subject_race_ASIAN', 'subject_race_BLACK',\n",
    "       'subject_race_HISPANIC', 'subject_race_UNK/OTH',\n",
    "       'member_race_AMER INDIAN','member_race_ASIAN', 'member_race_BLACK', \n",
    "       'member_race_HISPANIC',\n",
    "       'member_race_UNK/OTH', 'member_gender_FEMALE', 'member_rank_Captain',\n",
    "       'member_rank_Chief', 'member_rank_Deputy Inspector',\n",
    "       'member_rank_Detective', 'member_rank_Inspector',\n",
    "       'member_rank_Lieutenant', 'member_rank_Other', 'member_rank_RECODE',\n",
    "       'member_rank_Sergeant', 'member_assignment_ANTI-CRIME',\n",
    "       'member_assignment_FIXED POST', 'member_assignment_INVESTIGATION',\n",
    "       'member_assignment_NCO', 'member_assignment_OFF DUTY',\n",
    "       'member_assignment_OTHER', 'member_assignment_SCOOTER','num_members','num_subjects']]\n",
    "\n",
    "X_val_3 = X_val[['subject_age',\n",
    "       'member_injured_Y','subject_used_force_Y','race_diff_Y',\n",
    "               'member_injured_all_Y','race_diff_all_Y','forcetype_Electrical Weapon',\n",
    "       'forcetype_Firearm','forcetype_Impact Weapon','forcetype_OC Spray',\n",
    "       'forcetype_Police Canine','forcetype_Restraining Mesh Blanket',\n",
    "       'basis_encounter_AMBUSH OF MEMBER', 'basis_encounter_ANIMAL CONDITION',\n",
    "       'basis_encounter_CRIME/VIOLATION IN PROGRESS',\n",
    "       'basis_encounter_CROWD CONTROL',\n",
    "       'basis_encounter_DETECTIVE INVESTIGATION', 'basis_encounter_HOME VISIT',\n",
    "       'basis_encounter_HOSTAGE/BARRICADED',\n",
    "       'basis_encounter_IN CUSTODY INJURY',\n",
    "       'basis_encounter_NON-CRIME CALLS FOR SERVICE',\n",
    "       'basis_encounter_ORDER OF PROTECTION', 'basis_encounter_OTHER',\n",
    "       'basis_encounter_PAST CRIME/VIOLATION',\n",
    "       'basis_encounter_PERSON IN CRISIS', 'basis_encounter_PRISONER',\n",
    "       'basis_encounter_SEARCH WARRANT', 'basis_encounter_TRANSIT EJECTION',\n",
    "       'basis_encounter_VTL INFRACTION',\n",
    "       'basis_encounter_WANTED SUSPECT (E.G. WARRANT, I CARD)',\n",
    "       'patrol_borough_PBBN', 'patrol_borough_PBBS', 'patrol_borough_PBBX',\n",
    "       'patrol_borough_PBMN', 'patrol_borough_PBMS', 'patrol_borough_PBQN',\n",
    "       'patrol_borough_PBQS', 'subject_gender_FEMALE', 'subject_gender_MALE',\n",
    "       'subject_race_AMER INDIAN', 'subject_race_ASIAN', 'subject_race_BLACK',\n",
    "       'subject_race_HISPANIC', 'subject_race_UNK/OTH',\n",
    "       'member_race_AMER INDIAN','member_race_ASIAN', 'member_race_BLACK', \n",
    "       'member_race_HISPANIC',\n",
    "       'member_race_UNK/OTH', 'member_gender_FEMALE', 'member_rank_Captain',\n",
    "       'member_rank_Chief', 'member_rank_Deputy Inspector',\n",
    "       'member_rank_Detective', 'member_rank_Inspector',\n",
    "       'member_rank_Lieutenant', 'member_rank_Other', 'member_rank_RECODE',\n",
    "       'member_rank_Sergeant', 'member_assignment_ANTI-CRIME',\n",
    "       'member_assignment_FIXED POST', 'member_assignment_INVESTIGATION',\n",
    "       'member_assignment_NCO', 'member_assignment_OFF DUTY',\n",
    "       'member_assignment_OTHER', 'member_assignment_SCOOTER', 'num_members','num_subjects']]\n",
    "\n",
    "X_te_3 = X_te[['subject_age',\n",
    "       'member_injured_Y','subject_used_force_Y','race_diff_Y',\n",
    "               'member_injured_all_Y','race_diff_all_Y','forcetype_Electrical Weapon',\n",
    "       'forcetype_Firearm','forcetype_Impact Weapon','forcetype_OC Spray',\n",
    "       'forcetype_Police Canine','forcetype_Restraining Mesh Blanket',\n",
    "       'basis_encounter_AMBUSH OF MEMBER', 'basis_encounter_ANIMAL CONDITION',\n",
    "       'basis_encounter_CRIME/VIOLATION IN PROGRESS',\n",
    "       'basis_encounter_CROWD CONTROL',\n",
    "       'basis_encounter_DETECTIVE INVESTIGATION', 'basis_encounter_HOME VISIT',\n",
    "       'basis_encounter_HOSTAGE/BARRICADED',\n",
    "       'basis_encounter_IN CUSTODY INJURY',\n",
    "       'basis_encounter_NON-CRIME CALLS FOR SERVICE',\n",
    "       'basis_encounter_ORDER OF PROTECTION', 'basis_encounter_OTHER',\n",
    "       'basis_encounter_PAST CRIME/VIOLATION',\n",
    "       'basis_encounter_PERSON IN CRISIS', 'basis_encounter_PRISONER',\n",
    "       'basis_encounter_SEARCH WARRANT', 'basis_encounter_TRANSIT EJECTION',\n",
    "       'basis_encounter_VTL INFRACTION',\n",
    "       'basis_encounter_WANTED SUSPECT (E.G. WARRANT, I CARD)',\n",
    "       'patrol_borough_PBBN', 'patrol_borough_PBBS', 'patrol_borough_PBBX',\n",
    "       'patrol_borough_PBMN', 'patrol_borough_PBMS', 'patrol_borough_PBQN',\n",
    "       'patrol_borough_PBQS', 'subject_gender_FEMALE', 'subject_gender_MALE',\n",
    "       'subject_race_AMER INDIAN', 'subject_race_ASIAN', 'subject_race_BLACK',\n",
    "       'subject_race_HISPANIC', 'subject_race_UNK/OTH',\n",
    "       'member_race_AMER INDIAN','member_race_ASIAN', 'member_race_BLACK', \n",
    "       'member_race_HISPANIC',\n",
    "       'member_race_UNK/OTH', 'member_gender_FEMALE', 'member_rank_Captain',\n",
    "       'member_rank_Chief', 'member_rank_Deputy Inspector',\n",
    "       'member_rank_Detective', 'member_rank_Inspector',\n",
    "       'member_rank_Lieutenant', 'member_rank_Other', 'member_rank_RECODE',\n",
    "       'member_rank_Sergeant', 'member_assignment_ANTI-CRIME',\n",
    "       'member_assignment_FIXED POST', 'member_assignment_INVESTIGATION',\n",
    "       'member_assignment_NCO', 'member_assignment_OFF DUTY',\n",
    "       'member_assignment_OTHER', 'member_assignment_SCOOTER', 'num_members','num_subjects']]"
   ]
  },
  {
   "cell_type": "markdown",
   "id": "3b131cc8",
   "metadata": {},
   "source": [
    "# Feature selection using randomly over-sampled data"
   ]
  },
  {
   "cell_type": "code",
   "execution_count": 15,
   "id": "fdd22c51",
   "metadata": {},
   "outputs": [],
   "source": [
    "n_pos = np.sum(y_tr == 1)\n",
    "n_neg = np.sum(y_tr == 0)\n",
    "ratio = {1 : n_pos * 14, 0 : n_neg} \n",
    "\n",
    "ROS = imblearn.over_sampling.RandomOverSampler(sampling_strategy = ratio, random_state=42) \n",
    "X_tr_3_os_rf, y_tr_os_rf = ROS.fit_resample(X_tr_3, y_tr)"
   ]
  },
  {
   "cell_type": "code",
   "execution_count": 16,
   "id": "6dc337d0",
   "metadata": {},
   "outputs": [
    {
     "data": {
      "text/plain": [
       "SelectFromModel(estimator=RandomForestClassifier(random_state=42))"
      ]
     },
     "execution_count": 16,
     "metadata": {},
     "output_type": "execute_result"
    }
   ],
   "source": [
    "sel = SelectFromModel(RandomForestClassifier(random_state=42))\n",
    "sel.fit(X_tr_3_os_rf,y_tr_os_rf)"
   ]
  },
  {
   "cell_type": "code",
   "execution_count": 17,
   "id": "c912341c",
   "metadata": {},
   "outputs": [
    {
     "data": {
      "text/plain": [
       "array([ True,  True, False, False,  True,  True,  True,  True, False,\n",
       "       False, False, False, False, False,  True, False, False, False,\n",
       "       False, False, False, False, False, False,  True, False, False,\n",
       "       False, False, False,  True, False,  True,  True, False,  True,\n",
       "       False, False, False, False, False,  True,  True, False, False,\n",
       "       False, False,  True, False, False, False, False, False, False,\n",
       "       False, False, False, False, False, False, False, False, False,\n",
       "       False,  True, False,  True,  True])"
      ]
     },
     "execution_count": 17,
     "metadata": {},
     "output_type": "execute_result"
    }
   ],
   "source": [
    "sel.get_support()"
   ]
  },
  {
   "cell_type": "code",
   "execution_count": 18,
   "id": "bf0ba75d",
   "metadata": {},
   "outputs": [
    {
     "data": {
      "text/plain": [
       "18"
      ]
     },
     "execution_count": 18,
     "metadata": {},
     "output_type": "execute_result"
    }
   ],
   "source": [
    "selected_feat= X_tr_3.columns[(sel.get_support())]\n",
    "len(selected_feat)"
   ]
  },
  {
   "cell_type": "code",
   "execution_count": 19,
   "id": "434e80b0",
   "metadata": {},
   "outputs": [
    {
     "name": "stdout",
     "output_type": "stream",
     "text": [
      "Index(['subject_age', 'member_injured_Y', 'member_injured_all_Y',\n",
      "       'race_diff_all_Y', 'forcetype_Electrical Weapon', 'forcetype_Firearm',\n",
      "       'basis_encounter_CRIME/VIOLATION IN PROGRESS',\n",
      "       'basis_encounter_PERSON IN CRISIS', 'patrol_borough_PBBN',\n",
      "       'patrol_borough_PBBX', 'patrol_borough_PBMN', 'patrol_borough_PBQN',\n",
      "       'subject_race_BLACK', 'subject_race_HISPANIC', 'member_race_HISPANIC',\n",
      "       'member_assignment_OTHER', 'num_members', 'num_subjects'],\n",
      "      dtype='object')\n"
     ]
    }
   ],
   "source": [
    "print(selected_feat)"
   ]
  },
  {
   "cell_type": "markdown",
   "id": "110513c8",
   "metadata": {},
   "source": [
    "# Random Forest Model 6 (selected features minus 'member_injured_Y')\n",
    "\n",
    "- random over-sampling and selected features"
   ]
  },
  {
   "cell_type": "code",
   "execution_count": 20,
   "id": "4f705c81",
   "metadata": {},
   "outputs": [],
   "source": [
    "X_tr_3_sel = X_tr_3[['subject_age', 'member_injured_all_Y',\n",
    "       'race_diff_all_Y', 'forcetype_Electrical Weapon', 'forcetype_Firearm',\n",
    "       'basis_encounter_CRIME/VIOLATION IN PROGRESS',\n",
    "       'basis_encounter_PERSON IN CRISIS', 'patrol_borough_PBBN',\n",
    "       'patrol_borough_PBBX', 'patrol_borough_PBMN', 'patrol_borough_PBQN',\n",
    "       'subject_race_BLACK', 'subject_race_HISPANIC', 'member_race_HISPANIC',\n",
    "       'member_assignment_OTHER', 'num_members', 'num_subjects']]\n",
    "\n",
    "X_val_3_sel = X_val_3[['subject_age', 'member_injured_all_Y',\n",
    "       'race_diff_all_Y', 'forcetype_Electrical Weapon', 'forcetype_Firearm',\n",
    "       'basis_encounter_CRIME/VIOLATION IN PROGRESS',\n",
    "       'basis_encounter_PERSON IN CRISIS', 'patrol_borough_PBBN',\n",
    "       'patrol_borough_PBBX', 'patrol_borough_PBMN', 'patrol_borough_PBQN',\n",
    "       'subject_race_BLACK', 'subject_race_HISPANIC', 'member_race_HISPANIC',\n",
    "       'member_assignment_OTHER', 'num_members', 'num_subjects']]\n",
    "\n",
    "X_te_3_sel = X_te_3[['subject_age', 'member_injured_all_Y',\n",
    "       'race_diff_all_Y', 'forcetype_Electrical Weapon', 'forcetype_Firearm',\n",
    "       'basis_encounter_CRIME/VIOLATION IN PROGRESS',\n",
    "       'basis_encounter_PERSON IN CRISIS', 'patrol_borough_PBBN',\n",
    "       'patrol_borough_PBBX', 'patrol_borough_PBMN', 'patrol_borough_PBQN',\n",
    "       'subject_race_BLACK', 'subject_race_HISPANIC', 'member_race_HISPANIC',\n",
    "       'member_assignment_OTHER', 'num_members', 'num_subjects']]"
   ]
  },
  {
   "cell_type": "code",
   "execution_count": 21,
   "id": "986eeae9",
   "metadata": {},
   "outputs": [],
   "source": [
    "n_pos = np.sum(y_tr == 1)\n",
    "n_neg = np.sum(y_tr == 0)\n",
    "ratio = {1 : n_pos * 7, 0 : n_neg} \n",
    "\n",
    "ROS = imblearn.over_sampling.RandomOverSampler(sampling_strategy = ratio, random_state=42) \n",
    "X_tr_3_os_rf_sel, y_tr_os_rf_sel = ROS.fit_resample(X_tr_3_sel, y_tr)"
   ]
  },
  {
   "cell_type": "code",
   "execution_count": 22,
   "id": "c00eb84f",
   "metadata": {},
   "outputs": [
    {
     "name": "stdout",
     "output_type": "stream",
     "text": [
      "recall scores: [0.99440299 1.         0.98934281 0.99084249 0.99509002]\n",
      "\n",
      "mean recall: 0.994\n",
      "\n",
      "f2 scores: [0.9866716  0.98443721 0.97959902 0.97759306 0.98605255]\n",
      "\n",
      "mean f2 score: 0.983\n"
     ]
    },
    {
     "data": {
      "image/png": "[encoded data removed]",
      "text/plain": [
       "<Figure size 432x288 with 1 Axes>"
      ]
     },
     "metadata": {
      "needs_background": "light"
     },
     "output_type": "display_data"
    },
    {
     "name": "stdout",
     "output_type": "stream",
     "text": [
      "ROC AUC score =  0.8494235013008555\n"
     ]
    },
    {
     "data": {
      "image/png": "[encoded data removed]",
      "text/plain": [
       "<Figure size 600x400 with 2 Axes>"
      ]
     },
     "metadata": {
      "needs_background": "light"
     },
     "output_type": "display_data"
    },
    {
     "data": {
      "image/png": "[encoded data removed]",
      "text/plain": [
       "<Figure size 600x400 with 2 Axes>"
      ]
     },
     "metadata": {
      "needs_background": "light"
     },
     "output_type": "display_data"
    }
   ],
   "source": [
    "rf_6 = RandomForestClassifier(random_state=42)\n",
    "rf_6.fit(X_tr_3_os_rf_sel,y_tr_os_rf_sel)\n",
    "\n",
    "cross_validate_roc_cm(rf_6,X_tr_3_os_rf_sel,y_tr_os_rf_sel,X_val_3_sel,y_val)"
   ]
  },
  {
   "cell_type": "code",
   "execution_count": 23,
   "id": "5b393a05",
   "metadata": {},
   "outputs": [],
   "source": [
    "X_te_3_sel = X_te_3[['subject_age','member_injured_all_Y',\n",
    "       'race_diff_all_Y', 'forcetype_Electrical Weapon', 'forcetype_Firearm',\n",
    "       'basis_encounter_CRIME/VIOLATION IN PROGRESS',\n",
    "       'basis_encounter_PERSON IN CRISIS', 'patrol_borough_PBBN',\n",
    "       'patrol_borough_PBBX', 'patrol_borough_PBMN', 'patrol_borough_PBQN',\n",
    "       'subject_race_BLACK', 'subject_race_HISPANIC', 'member_race_HISPANIC',\n",
    "       'member_assignment_OTHER', 'num_members', 'num_subjects']]"
   ]
  },
  {
   "cell_type": "code",
   "execution_count": 24,
   "id": "07440f2b",
   "metadata": {},
   "outputs": [
    {
     "data": {
      "image/png": "[encoded data removed]",
      "text/plain": [
       "<Figure size 480x320 with 1 Axes>"
      ]
     },
     "metadata": {
      "needs_background": "light"
     },
     "output_type": "display_data"
    }
   ],
   "source": [
    "#plotting a precision/recall curve for different probability thresholds with the predictions\n",
    "\n",
    "precision_curve,recall_curve,threshold_curve = precision_recall_curve(y_te,rf_6.predict_proba(X_te_3_sel)[:,1])\n",
    "\n",
    "plt.figure(dpi=80)\n",
    "plt.plot(threshold_curve, precision_curve[1:],label='precision')\n",
    "plt.plot(threshold_curve, recall_curve[1:], label='recall')\n",
    "plt.legend(loc='lower left')\n",
    "plt.xlabel('Threshold (above this probability, label as injured)');\n",
    "plt.title('Precision and Recall Curves');"
   ]
  },
  {
   "cell_type": "code",
   "execution_count": 25,
   "id": "f6e1f88e",
   "metadata": {},
   "outputs": [
    {
     "name": "stdout",
     "output_type": "stream",
     "text": [
      "Precision:0.4943,Recall:0.6466,F2:0.6091\n"
     ]
    }
   ],
   "source": [
    "# calculate predicted probabilities of positive class with holdout set and adjust\n",
    "    # the probability threshold to maximize recall without sacrificing \n",
    "    # the precision score too much\n",
    "\n",
    "y_predict_rf_6 = (rf_6.predict_proba(X_te_3_sel)[:,1]>.25)\n",
    "print(\"Precision:{:6.4f},Recall:{:6.4f},F2:{:6.4f}\".format(precision_score(y_te, np.round(y_predict_rf_6)), \n",
    "                                                     recall_score(y_te, np.round(y_predict_rf_6)),\n",
    "                                                     fbeta_score(y_te, np.round(y_predict_rf_6), beta=2)))"
   ]
  },
  {
   "cell_type": "code",
   "execution_count": 26,
   "id": "2db1c6c0",
   "metadata": {},
   "outputs": [
    {
     "data": {
      "image/png": "[encoded data removed]",
      "text/plain": [
       "<Figure size 432x288 with 1 Axes>"
      ]
     },
     "metadata": {
      "needs_background": "light"
     },
     "output_type": "display_data"
    },
    {
     "data": {
      "text/plain": [
       "0.8160868690682886"
      ]
     },
     "execution_count": 26,
     "metadata": {},
     "output_type": "execute_result"
    }
   ],
   "source": [
    "# calculate roc curve\n",
    "# fpr, tpr, thresholds = roc_curve(y_te, y_predict_rf_6)\n",
    "\n",
    "# # plot the roc curve for the model\n",
    "# plt.plot([0,1], [0,1], linestyle='--', label='No Skill')\n",
    "# plt.plot(fpr, tpr, marker='.', label='Model')\n",
    "\n",
    "# # axis labels and title\n",
    "# plt.xlabel('False Positive Rate')\n",
    "# plt.ylabel('True Positive Rate')\n",
    "# plt.title('ROC curve for serious subject injury problem')\n",
    "# plt.legend()\n",
    "# plt.show()\n",
    "# print(\"ROC AUC score = \", roc_curve(y_te, rf_6.predict_proba(X_te_3_sel)[:,1]>.25))\n",
    "\n",
    "# calculate roc curve\n",
    "fpr, tpr, thresholds = roc_curve(y_te, (rf_6.predict_proba(X_te_3_sel)[:,1]>.25)) \n",
    "\n",
    "# plot the roc curve for the model\n",
    "plt.plot([0,1], [0,1], linestyle='--', label='No Skill')\n",
    "plt.plot(fpr, tpr, marker='.', label='Model')\n",
    "\n",
    "# axis labels and title\n",
    "plt.xlabel('False Positive Rate')\n",
    "plt.ylabel('True Positive Rate')\n",
    "plt.title('ROC curve for serious subject injury problem')\n",
    "plt.legend()\n",
    "plt.show()\n",
    "roc_auc_score(y_te, (rf_6.predict_proba(X_te_3_sel)[:,1]>.25))"
   ]
  },
  {
   "cell_type": "code",
   "execution_count": 28,
   "id": "647f6442",
   "metadata": {},
   "outputs": [
    {
     "data": {
      "text/plain": [
       "Index(['subject_age', 'member_injured_all_Y', 'race_diff_all_Y',\n",
       "       'forcetype_Electrical Weapon', 'forcetype_Firearm',\n",
       "       'basis_encounter_CRIME/VIOLATION IN PROGRESS',\n",
       "       'basis_encounter_PERSON IN CRISIS', 'patrol_borough_PBBN',\n",
       "       'patrol_borough_PBBX', 'patrol_borough_PBMN', 'patrol_borough_PBQN',\n",
       "       'subject_race_BLACK', 'subject_race_HISPANIC', 'member_race_HISPANIC',\n",
       "       'member_assignment_OTHER', 'num_members', 'num_subjects'],\n",
       "      dtype='object')"
      ]
     },
     "execution_count": 28,
     "metadata": {},
     "output_type": "execute_result"
    }
   ],
   "source": [
    "X_te_3_sel.columns"
   ]
  },
  {
   "cell_type": "code",
   "execution_count": 29,
   "id": "bb9153e6",
   "metadata": {},
   "outputs": [],
   "source": [
    "X_te_3_sel.columns = ['subject_age','members_of_service_injured',\n",
    "                               'subject_members_of_service_races_different',\n",
    "                               'force_type_electrical_weapon','force_type_firearm',\n",
    "                               'basis_for_encounter_crime/violation_in_progress',\n",
    "                               'basis_for_encounter_person_in_crisis',\n",
    "                               'patrol_borough_Brooklyn_North','patrol_borough_Bronx',\n",
    "                               'patrol_borough_Manhattan','patrol_borough_Queens_North',\n",
    "                               'subject_race_Black','subject_race_Hispanic',\n",
    "                                'member_of_service_race_Hispanic',\n",
    "                                'member_of_service_assignment_other','num_members_of_service',\n",
    "                               'num_subjects']"
   ]
  },
  {
   "cell_type": "code",
   "execution_count": 30,
   "id": "61655832",
   "metadata": {},
   "outputs": [
    {
     "data": {
      "text/plain": [
       "Text(0.5, 1.0, 'Feature Importance in Random Forest Classifier')"
      ]
     },
     "execution_count": 30,
     "metadata": {},
     "output_type": "execute_result"
    },
    {
     "data": {
      "image/png": "[encoded data removed]",
      "text/plain": [
       "<Figure size 432x288 with 1 Axes>"
      ]
     },
     "metadata": {
      "needs_background": "light"
     },
     "output_type": "display_data"
    }
   ],
   "source": [
    "# plot the final 17 features in descending order of relative importance\n",
    "\n",
    "importances = rf_6.feature_importances_\n",
    "\n",
    "sorted_indices = np.argsort(importances)[::-1]\n",
    "\n",
    "feat_importances = pd.Series(rf_6.feature_importances_, index=X_te_3_sel.columns)\n",
    "ax = feat_importances.nlargest(17).plot(kind='barh')\n",
    "ax.invert_yaxis()\n",
    "ax.set_xlabel('relative importance')\n",
    "ax.set_title('Feature Importance in Random Forest Classifier')"
   ]
  },
  {
   "cell_type": "code",
   "execution_count": 31,
   "id": "c1ad88e6",
   "metadata": {},
   "outputs": [
    {
     "name": "stderr",
     "output_type": "stream",
     "text": [
      "/var/folders/39/jt9qcrmn79dgs0dxlm65sdn40000gn/T/ipykernel_64423/3047163984.py:1: SettingWithCopyWarning: \n",
      "A value is trying to be set on a copy of a slice from a DataFrame.\n",
      "Try using .loc[row_indexer,col_indexer] = value instead\n",
      "\n",
      "See the caveats in the documentation: https://pandas.pydata.org/pandas-docs/stable/user_guide/indexing.html#returning-a-view-versus-a-copy\n",
      "  X_te_3_sel['predicted_prob'] = y_predict_rf_6\n"
     ]
    }
   ],
   "source": [
    "X_te_3_sel['predicted_prob'] = y_predict_rf_6"
   ]
  },
  {
   "cell_type": "code",
   "execution_count": 32,
   "id": "bccfce6e",
   "metadata": {},
   "outputs": [
    {
     "data": {
      "text/plain": [
       "False    6052\n",
       "True      174\n",
       "Name: predicted_prob, dtype: int64"
      ]
     },
     "execution_count": 32,
     "metadata": {},
     "output_type": "execute_result"
    }
   ],
   "source": [
    "X_te_3_sel.predicted_prob.value_counts()"
   ]
  },
  {
   "cell_type": "code",
   "execution_count": 33,
   "id": "ca71a092",
   "metadata": {},
   "outputs": [
    {
     "data": {
      "text/plain": [
       "<AxesSubplot:xlabel='subject_injured_target', ylabel='subject_age'>"
      ]
     },
     "execution_count": 33,
     "metadata": {},
     "output_type": "execute_result"
    },
    {
     "data": {
      "image/png": "[encoded data removed]",
      "text/plain": [
       "<Figure size 432x288 with 1 Axes>"
      ]
     },
     "metadata": {
      "needs_background": "light"
     },
     "output_type": "display_data"
    }
   ],
   "source": [
    "sns.boxplot(x='subject_injured_target', y='subject_age', data=subjects_incidents)"
   ]
  },
  {
   "cell_type": "code",
   "execution_count": 34,
   "id": "4e523905",
   "metadata": {},
   "outputs": [
    {
     "data": {
      "text/plain": [
       "<AxesSubplot:xlabel='subject_injured_target', ylabel='num_members'>"
      ]
     },
     "execution_count": 34,
     "metadata": {},
     "output_type": "execute_result"
    },
    {
     "data": {
      "image/png": "[encoded data removed]",
      "text/plain": [
       "<Figure size 432x288 with 1 Axes>"
      ]
     },
     "metadata": {
      "needs_background": "light"
     },
     "output_type": "display_data"
    }
   ],
   "source": [
    "sns.boxplot(x='subject_injured_target', y='num_members', data=subjects_incidents)"
   ]
  },
  {
   "cell_type": "code",
   "execution_count": 35,
   "id": "38e3504d",
   "metadata": {},
   "outputs": [
    {
     "data": {
      "text/plain": [
       "<seaborn.axisgrid.FacetGrid at 0x7fddd2505c40>"
      ]
     },
     "execution_count": 35,
     "metadata": {},
     "output_type": "execute_result"
    },
    {
     "data": {
      "image/png": "[encoded data removed]",
      "text/plain": [
       "<Figure size 360x360 with 1 Axes>"
      ]
     },
     "metadata": {
      "needs_background": "light"
     },
     "output_type": "display_data"
    }
   ],
   "source": [
    "sns.catplot(x='subject_mos_race_diff_all',y='subject_injured_target',kind='bar',data=subjects_incidents)"
   ]
  },
  {
   "cell_type": "code",
   "execution_count": 36,
   "id": "f228d042",
   "metadata": {},
   "outputs": [
    {
     "data": {
      "text/plain": [
       "<seaborn.axisgrid.FacetGrid at 0x7fddf54d2700>"
      ]
     },
     "execution_count": 36,
     "metadata": {},
     "output_type": "execute_result"
    },
    {
     "data": {
      "image/png": "[encoded data removed]",
      "text/plain": [
       "<Figure size 360x360 with 1 Axes>"
      ]
     },
     "metadata": {
      "needs_background": "light"
     },
     "output_type": "display_data"
    }
   ],
   "source": [
    "sns.catplot(x='forcetype_Firearm',y='subject_injured_target',kind='bar',data=subjects_incidents)"
   ]
  }
 ],
 "metadata": {
  "kernelspec": {
   "display_name": "Python 3 (ipykernel)",
   "language": "python",
   "name": "python3"
  },
  "language_info": {
   "codemirror_mode": {
    "name": "ipython",
    "version": 3
   },
   "file_extension": ".py",
   "mimetype": "text/x-python",
   "name": "python",
   "nbconvert_exporter": "python",
   "pygments_lexer": "ipython3",
   "version": "3.9.12"
  }
 },
 "nbformat": 4,
 "nbformat_minor": 5
}
