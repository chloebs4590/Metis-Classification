{
 "cells": [
  {
   "cell_type": "markdown",
   "id": "dadc7618",
   "metadata": {},
   "source": [
    "# Problem/need: Predicting whether police use of force will result in substantial physical injury, serious physical injury or death of a subject\n",
    "\n",
    "recall = tp/ap = tp/(tp+fn)\n",
    "\n",
    "Since false negatives (predicting that use of force doesn't result in a subject being substantially or seriously physically injured or dying when it actually does) are more costly, I'm going to weight recall more heavily than precision by using F2 as my evaluation metric."
   ]
  },
  {
   "cell_type": "code",
   "execution_count": 66,
   "id": "d728fe77",
   "metadata": {},
   "outputs": [],
   "source": [
    "import pandas as pd\n",
    "import numpy as np\n",
    "import seaborn as sns\n",
    "import matplotlib.pyplot as plt\n",
    "import matplotlib.cm as cm\n",
    "import statistics\n",
    "import os\n",
    "\n",
    "from sklearn.preprocessing import StandardScaler\n",
    "from sklearn.linear_model import LogisticRegression\n",
    "from sklearn.model_selection import KFold\n",
    "from sklearn.model_selection import cross_validate\n",
    "from sklearn.model_selection import train_test_split\n",
    "from sklearn.metrics import f1_score\n",
    "from sklearn.metrics import recall_score\n",
    "from sklearn.metrics import fbeta_score\n",
    "\n",
    "import imblearn.over_sampling"
   ]
  },
  {
   "cell_type": "code",
   "execution_count": 3,
   "id": "9f8c46d1",
   "metadata": {},
   "outputs": [
    {
     "data": {
      "text/plain": [
       "'/Users/chloebergsma-safar/Desktop/Metis/NBM_Classification_Project/Metis-Classification'"
      ]
     },
     "execution_count": 3,
     "metadata": {},
     "output_type": "execute_result"
    }
   ],
   "source": [
    "os.getcwd()"
   ]
  },
  {
   "cell_type": "code",
   "execution_count": 4,
   "id": "eb33d64f",
   "metadata": {},
   "outputs": [],
   "source": [
    "os.chdir('/Users/chloebergsma-safar/Desktop/Metis/NBM_Classification_Project')"
   ]
  },
  {
   "cell_type": "markdown",
   "id": "bd7c3f26",
   "metadata": {},
   "source": [
    "# Read in NYPD Use of Force datasets"
   ]
  },
  {
   "cell_type": "markdown",
   "id": "83039352",
   "metadata": {},
   "source": [
    "## incidents"
   ]
  },
  {
   "cell_type": "code",
   "execution_count": 5,
   "id": "3e8ef202",
   "metadata": {},
   "outputs": [],
   "source": [
    "incidents = pd.read_csv('NYPD_Use_of_Force_Incidents.csv')"
   ]
  },
  {
   "cell_type": "code",
   "execution_count": 6,
   "id": "0b3aa5f7",
   "metadata": {},
   "outputs": [
    {
     "data": {
      "text/plain": [
       "(13527, 7)"
      ]
     },
     "execution_count": 6,
     "metadata": {},
     "output_type": "execute_result"
    }
   ],
   "source": [
    "incidents.shape"
   ]
  },
  {
   "cell_type": "code",
   "execution_count": 7,
   "id": "64539b77",
   "metadata": {},
   "outputs": [
    {
     "name": "stdout",
     "output_type": "stream",
     "text": [
      "<class 'pandas.core.frame.DataFrame'>\n",
      "RangeIndex: 13527 entries, 0 to 13526\n",
      "Data columns (total 7 columns):\n",
      " #   Column               Non-Null Count  Dtype \n",
      "---  ------               --------------  ----- \n",
      " 0   TRI Incident Number  13527 non-null  int64 \n",
      " 1   ForceType            13527 non-null  object\n",
      " 2   Occurrence Date      13527 non-null  object\n",
      " 3   Incident Pct         13527 non-null  int64 \n",
      " 4   Patrol Borough       13527 non-null  object\n",
      " 5   YearMonthShort       13527 non-null  object\n",
      " 6   BasisForEncounter    13527 non-null  object\n",
      "dtypes: int64(2), object(5)\n",
      "memory usage: 739.9+ KB\n"
     ]
    }
   ],
   "source": [
    "incidents.info()"
   ]
  },
  {
   "cell_type": "markdown",
   "id": "f072cb2c",
   "metadata": {},
   "source": [
    "## members of service"
   ]
  },
  {
   "cell_type": "code",
   "execution_count": 8,
   "id": "494e2d68",
   "metadata": {},
   "outputs": [],
   "source": [
    "members = pd.read_csv('NYPD_Use_of_Force__Members_of_Service.csv')"
   ]
  },
  {
   "cell_type": "code",
   "execution_count": 9,
   "id": "bca15cc6",
   "metadata": {},
   "outputs": [
    {
     "data": {
      "text/plain": [
       "(31257, 8)"
      ]
     },
     "execution_count": 9,
     "metadata": {},
     "output_type": "execute_result"
    }
   ],
   "source": [
    "members.shape"
   ]
  },
  {
   "cell_type": "code",
   "execution_count": 10,
   "id": "35d92f4d",
   "metadata": {},
   "outputs": [
    {
     "name": "stdout",
     "output_type": "stream",
     "text": [
      "<class 'pandas.core.frame.DataFrame'>\n",
      "RangeIndex: 31257 entries, 0 to 31256\n",
      "Data columns (total 8 columns):\n",
      " #   Column               Non-Null Count  Dtype \n",
      "---  ------               --------------  ----- \n",
      " 0   TRI Incident Number  31257 non-null  int64 \n",
      " 1   ForceType            31257 non-null  object\n",
      " 2   InjuryLevel          31257 non-null  object\n",
      " 3   Member Injured       31257 non-null  object\n",
      " 4   Rank Grouped         31257 non-null  object\n",
      " 5   Assignment           31257 non-null  object\n",
      " 6   Member Gender        31257 non-null  object\n",
      " 7   Race                 31257 non-null  object\n",
      "dtypes: int64(1), object(7)\n",
      "memory usage: 1.9+ MB\n"
     ]
    }
   ],
   "source": [
    "members.info()"
   ]
  },
  {
   "cell_type": "markdown",
   "id": "e31a162c",
   "metadata": {},
   "source": [
    "## subjects"
   ]
  },
  {
   "cell_type": "code",
   "execution_count": 11,
   "id": "dcacca85",
   "metadata": {},
   "outputs": [],
   "source": [
    "subjects = pd.read_csv('NYPD_Use_of_Force__Subjects.csv')"
   ]
  },
  {
   "cell_type": "code",
   "execution_count": 12,
   "id": "9f5e8536",
   "metadata": {},
   "outputs": [
    {
     "data": {
      "text/plain": [
       "(13283, 8)"
      ]
     },
     "execution_count": 12,
     "metadata": {},
     "output_type": "execute_result"
    }
   ],
   "source": [
    "subjects.shape"
   ]
  },
  {
   "cell_type": "code",
   "execution_count": 13,
   "id": "62b0b643",
   "metadata": {},
   "outputs": [
    {
     "name": "stdout",
     "output_type": "stream",
     "text": [
      "<class 'pandas.core.frame.DataFrame'>\n",
      "RangeIndex: 13283 entries, 0 to 13282\n",
      "Data columns (total 8 columns):\n",
      " #   Column                Non-Null Count  Dtype  \n",
      "---  ------                --------------  -----  \n",
      " 0   TRI Incident Number   13283 non-null  int64  \n",
      " 1   Subject Injury Level  13283 non-null  object \n",
      " 2   Subject Injured       13283 non-null  object \n",
      " 3   Age                   12741 non-null  float64\n",
      " 4   Subject Race          13283 non-null  object \n",
      " 5   Subject Gender        13283 non-null  object \n",
      " 6   Force Against MOS     13283 non-null  object \n",
      " 7   Subject Used Force    13283 non-null  object \n",
      "dtypes: float64(1), int64(1), object(6)\n",
      "memory usage: 830.3+ KB\n"
     ]
    }
   ],
   "source": [
    "subjects.info()"
   ]
  },
  {
   "cell_type": "markdown",
   "id": "c23f57fe",
   "metadata": {},
   "source": [
    "# Brielfy analyze individual datasets"
   ]
  },
  {
   "cell_type": "markdown",
   "id": "6d237df8",
   "metadata": {},
   "source": [
    "## incidents"
   ]
  },
  {
   "cell_type": "code",
   "execution_count": 14,
   "id": "cdd10039",
   "metadata": {},
   "outputs": [
    {
     "data": {
      "text/plain": [
       "Index(['TRI Incident Number', 'ForceType', 'Occurrence Date', 'Incident Pct',\n",
       "       'Patrol Borough', 'YearMonthShort', 'BasisForEncounter'],\n",
       "      dtype='object')"
      ]
     },
     "execution_count": 14,
     "metadata": {},
     "output_type": "execute_result"
    }
   ],
   "source": [
    "incidents.columns"
   ]
  },
  {
   "cell_type": "code",
   "execution_count": 15,
   "id": "a046c56d",
   "metadata": {},
   "outputs": [
    {
     "data": {
      "text/plain": [
       "06/01/2020    82\n",
       "01/01/2020    69\n",
       "06/02/2020    64\n",
       "05/29/2020    63\n",
       "05/31/2020    51\n",
       "              ..\n",
       "07/17/2020     4\n",
       "07/18/2020     4\n",
       "03/28/2021     4\n",
       "07/16/2020     2\n",
       "07/06/2020     1\n",
       "Name: Occurrence Date, Length: 731, dtype: int64"
      ]
     },
     "execution_count": 15,
     "metadata": {},
     "output_type": "execute_result"
    }
   ],
   "source": [
    "incidents['Occurrence Date'].value_counts()"
   ]
  },
  {
   "cell_type": "code",
   "execution_count": 16,
   "id": "65cd00cf",
   "metadata": {},
   "outputs": [
    {
     "data": {
      "text/plain": [
       "Physical Force              10172\n",
       "Electrical Weapon            2855\n",
       "OC Spray                      259\n",
       "Impact Weapon                 142\n",
       "Firearm                        88\n",
       "Restraining Mesh Blanket        8\n",
       "Police Canine                   3\n",
       "Name: ForceType, dtype: int64"
      ]
     },
     "execution_count": 16,
     "metadata": {},
     "output_type": "execute_result"
    }
   ],
   "source": [
    "incidents['ForceType'].value_counts()"
   ]
  },
  {
   "cell_type": "code",
   "execution_count": 17,
   "id": "51ef3d36",
   "metadata": {},
   "outputs": [
    {
     "data": {
      "text/plain": [
       "CRIME/VIOLATION IN PROGRESS              5279\n",
       "PERSON IN CRISIS                         3235\n",
       "OTHER                                    1273\n",
       "PRISONER                                 1092\n",
       "CROWD CONTROL                             526\n",
       "VTL INFRACTION                            441\n",
       "WANTED SUSPECT (E.G. WARRANT, I CARD)     437\n",
       "PAST CRIME/VIOLATION                      402\n",
       "SUSPICIOUS ACTIVITY                       226\n",
       "DETECTIVE INVESTIGATION                   140\n",
       "TRANSIT EJECTION                          104\n",
       "NON-CRIME CALLS FOR SERVICE                95\n",
       "ORDER OF PROTECTION                        95\n",
       "IN CUSTODY INJURY                          71\n",
       "HOME VISIT                                 38\n",
       "AMBUSH OF MEMBER                           23\n",
       "SEARCH WARRANT                             23\n",
       "ANIMAL CONDITION                           14\n",
       "HOSTAGE/BARRICADED                         13\n",
       "Name: BasisForEncounter, dtype: int64"
      ]
     },
     "execution_count": 17,
     "metadata": {},
     "output_type": "execute_result"
    }
   ],
   "source": [
    "incidents['BasisForEncounter'].value_counts()"
   ]
  },
  {
   "cell_type": "markdown",
   "id": "e4a84c0d",
   "metadata": {},
   "source": [
    "## members"
   ]
  },
  {
   "cell_type": "code",
   "execution_count": 18,
   "id": "54c41e0c",
   "metadata": {},
   "outputs": [
    {
     "data": {
      "text/plain": [
       "Index(['TRI Incident Number', 'ForceType', 'InjuryLevel', 'Member Injured',\n",
       "       'Rank Grouped', 'Assignment', 'Member Gender', 'Race'],\n",
       "      dtype='object')"
      ]
     },
     "execution_count": 18,
     "metadata": {},
     "output_type": "execute_result"
    }
   ],
   "source": [
    "members.columns"
   ]
  },
  {
   "cell_type": "code",
   "execution_count": 19,
   "id": "ef767b6d",
   "metadata": {},
   "outputs": [
    {
     "data": {
      "text/plain": [
       "No Injury                      25794\n",
       "Physical Injury                 5062\n",
       "Substantial Physical Injury      261\n",
       "Serious Physical Injury          140\n",
       "Name: InjuryLevel, dtype: int64"
      ]
     },
     "execution_count": 19,
     "metadata": {},
     "output_type": "execute_result"
    }
   ],
   "source": [
    "members['InjuryLevel'].value_counts()"
   ]
  },
  {
   "cell_type": "code",
   "execution_count": 20,
   "id": "e825e077",
   "metadata": {},
   "outputs": [
    {
     "data": {
      "text/plain": [
       "Police Officer      26512\n",
       "Sergeant             2353\n",
       "Detective            1251\n",
       "Lieutenant            718\n",
       "Other                 290\n",
       "Captain                71\n",
       "Deputy Inspector       26\n",
       "Inspector              15\n",
       "Chief                  13\n",
       "RECODE                  8\n",
       "Name: Rank Grouped, dtype: int64"
      ]
     },
     "execution_count": 20,
     "metadata": {},
     "output_type": "execute_result"
    }
   ],
   "source": [
    "members['Rank Grouped'].value_counts()"
   ]
  },
  {
   "cell_type": "code",
   "execution_count": 21,
   "id": "5f5c4149",
   "metadata": {},
   "outputs": [
    {
     "data": {
      "text/plain": [
       "SECTOR/RESPONSE AUTO    19003\n",
       "OTHER                    6168\n",
       "FIXED POST               1919\n",
       "ANTI-CRIME               1897\n",
       "NCO                      1122\n",
       "INVESTIGATION            1055\n",
       "OFF DUTY                   71\n",
       "SCOOTER                    22\n",
       "Name: Assignment, dtype: int64"
      ]
     },
     "execution_count": 21,
     "metadata": {},
     "output_type": "execute_result"
    }
   ],
   "source": [
    "members['Assignment'].value_counts()"
   ]
  },
  {
   "cell_type": "code",
   "execution_count": 22,
   "id": "882a8cf0",
   "metadata": {},
   "outputs": [
    {
     "data": {
      "text/plain": [
       "MALE      27817\n",
       "FEMALE     3440\n",
       "Name: Member Gender, dtype: int64"
      ]
     },
     "execution_count": 22,
     "metadata": {},
     "output_type": "execute_result"
    }
   ],
   "source": [
    "members['Member Gender'].value_counts()"
   ]
  },
  {
   "cell_type": "code",
   "execution_count": 23,
   "id": "3c891e5e",
   "metadata": {},
   "outputs": [
    {
     "data": {
      "text/plain": [
       "WHITE          14767\n",
       "HISPANIC       10001\n",
       "BLACK           3775\n",
       "ASIAN           2673\n",
       "AMER INDIAN       25\n",
       "OTH/UNK           16\n",
       "Name: Race, dtype: int64"
      ]
     },
     "execution_count": 23,
     "metadata": {},
     "output_type": "execute_result"
    }
   ],
   "source": [
    "members['Race'].value_counts()"
   ]
  },
  {
   "cell_type": "markdown",
   "id": "4435412a",
   "metadata": {},
   "source": [
    "## subjects"
   ]
  },
  {
   "cell_type": "code",
   "execution_count": 24,
   "id": "0b4f7a3c",
   "metadata": {},
   "outputs": [
    {
     "data": {
      "text/plain": [
       "Index(['TRI Incident Number', 'Subject Injury Level', 'Subject Injured', 'Age',\n",
       "       'Subject Race', 'Subject Gender', 'Force Against MOS',\n",
       "       'Subject Used Force'],\n",
       "      dtype='object')"
      ]
     },
     "execution_count": 24,
     "metadata": {},
     "output_type": "execute_result"
    }
   ],
   "source": [
    "subjects.columns"
   ]
  },
  {
   "cell_type": "code",
   "execution_count": 25,
   "id": "99b3c91b",
   "metadata": {},
   "outputs": [
    {
     "data": {
      "text/plain": [
       "No Injury                      8988\n",
       "Physical Injury                4009\n",
       "Substantial Physical Injury     151\n",
       "Serious Physical Injury         115\n",
       "Death                            20\n",
       "Name: Subject Injury Level, dtype: int64"
      ]
     },
     "execution_count": 25,
     "metadata": {},
     "output_type": "execute_result"
    }
   ],
   "source": [
    "subjects['Subject Injury Level'].value_counts()"
   ]
  },
  {
   "cell_type": "code",
   "execution_count": 26,
   "id": "b81c75c6",
   "metadata": {},
   "outputs": [
    {
     "data": {
      "text/plain": [
       "Physical Force        11552\n",
       "No Force               1434\n",
       "Displayed Weapon        158\n",
       "Impact Weapon           100\n",
       "Firearm                  22\n",
       "Cutting Instrument       17\n",
       "Name: Force Against MOS, dtype: int64"
      ]
     },
     "execution_count": 26,
     "metadata": {},
     "output_type": "execute_result"
    }
   ],
   "source": [
    "subjects['Force Against MOS'].value_counts()"
   ]
  },
  {
   "cell_type": "code",
   "execution_count": 27,
   "id": "8a618252",
   "metadata": {},
   "outputs": [
    {
     "data": {
      "text/plain": [
       "BLACK          7386\n",
       "HISPANIC       3841\n",
       "WHITE          1167\n",
       "UNK/OTH         531\n",
       "ASIAN           329\n",
       "AMER INDIAN      29\n",
       "Name: Subject Race, dtype: int64"
      ]
     },
     "execution_count": 27,
     "metadata": {},
     "output_type": "execute_result"
    }
   ],
   "source": [
    "subjects['Subject Race'].value_counts()"
   ]
  },
  {
   "cell_type": "markdown",
   "id": "4e1292b9",
   "metadata": {},
   "source": [
    "# Clean individual datasets"
   ]
  },
  {
   "cell_type": "code",
   "execution_count": 28,
   "id": "ff2394b9",
   "metadata": {},
   "outputs": [],
   "source": [
    "# clean up column names in datasets\n",
    "\n",
    "incidents.columns = incidents.columns.str.lower().str.replace(' ','_')\n",
    "members.columns = members.columns.str.lower().str.replace(' ','_')\n",
    "subjects.columns = subjects.columns.str.lower().str.replace(' ','_')"
   ]
  },
  {
   "cell_type": "code",
   "execution_count": 29,
   "id": "d738bdc7",
   "metadata": {},
   "outputs": [],
   "source": [
    "incidents['occurrence_date_rev'] = pd.to_datetime(incidents['occurrence_date'])"
   ]
  },
  {
   "cell_type": "code",
   "execution_count": 30,
   "id": "2d9af1da",
   "metadata": {},
   "outputs": [
    {
     "data": {
      "text/plain": [
       "Timestamp('2020-01-01 00:00:00')"
      ]
     },
     "execution_count": 30,
     "metadata": {},
     "output_type": "execute_result"
    }
   ],
   "source": [
    "incidents['occurrence_date_rev'].min()"
   ]
  },
  {
   "cell_type": "code",
   "execution_count": 31,
   "id": "3f55f4c7",
   "metadata": {},
   "outputs": [
    {
     "data": {
      "text/plain": [
       "Timestamp('2021-12-31 00:00:00')"
      ]
     },
     "execution_count": 31,
     "metadata": {},
     "output_type": "execute_result"
    }
   ],
   "source": [
    "incidents['occurrence_date_rev'].max()"
   ]
  },
  {
   "cell_type": "code",
   "execution_count": 32,
   "id": "3dc8003c",
   "metadata": {},
   "outputs": [],
   "source": [
    "incidents['year'] = incidents['occurrence_date_rev'].dt.year\n",
    "incidents['month'] = incidents['occurrence_date_rev'].dt.month"
   ]
  },
  {
   "cell_type": "markdown",
   "id": "0569a6cf",
   "metadata": {},
   "source": [
    "# Merge subjects and incidents datasets\n",
    "\n",
    "Each observation = subject of an incident"
   ]
  },
  {
   "cell_type": "code",
   "execution_count": 33,
   "id": "ac499a90",
   "metadata": {},
   "outputs": [],
   "source": [
    "subjects_incidents = subjects.merge(incidents,how='left',on='tri_incident_number')"
   ]
  },
  {
   "cell_type": "code",
   "execution_count": 34,
   "id": "8de60ced",
   "metadata": {},
   "outputs": [
    {
     "data": {
      "text/plain": [
       "(13283, 17)"
      ]
     },
     "execution_count": 34,
     "metadata": {},
     "output_type": "execute_result"
    }
   ],
   "source": [
    "subjects_incidents.shape"
   ]
  },
  {
   "cell_type": "code",
   "execution_count": 35,
   "id": "044bdbe3",
   "metadata": {},
   "outputs": [
    {
     "data": {
      "text/plain": [
       "(13283, 8)"
      ]
     },
     "execution_count": 35,
     "metadata": {},
     "output_type": "execute_result"
    }
   ],
   "source": [
    "subjects.shape"
   ]
  },
  {
   "cell_type": "code",
   "execution_count": 36,
   "id": "50d89c56",
   "metadata": {},
   "outputs": [
    {
     "data": {
      "text/plain": [
       "(13527, 10)"
      ]
     },
     "execution_count": 36,
     "metadata": {},
     "output_type": "execute_result"
    }
   ],
   "source": [
    "incidents.shape"
   ]
  },
  {
   "cell_type": "code",
   "execution_count": 37,
   "id": "c534713f",
   "metadata": {},
   "outputs": [
    {
     "data": {
      "text/plain": [
       "Index(['tri_incident_number', 'subject_injury_level', 'subject_injured', 'age',\n",
       "       'subject_race', 'subject_gender', 'force_against_mos',\n",
       "       'subject_used_force', 'forcetype', 'occurrence_date', 'incident_pct',\n",
       "       'patrol_borough', 'yearmonthshort', 'basisforencounter',\n",
       "       'occurrence_date_rev', 'year', 'month'],\n",
       "      dtype='object')"
      ]
     },
     "execution_count": 37,
     "metadata": {},
     "output_type": "execute_result"
    }
   ],
   "source": [
    "subjects_incidents.columns"
   ]
  },
  {
   "cell_type": "code",
   "execution_count": 38,
   "id": "1d088bfb",
   "metadata": {},
   "outputs": [
    {
     "data": {
      "text/plain": [
       "12633"
      ]
     },
     "execution_count": 38,
     "metadata": {},
     "output_type": "execute_result"
    }
   ],
   "source": [
    "subjects_incidents['tri_incident_number'].nunique()"
   ]
  },
  {
   "cell_type": "code",
   "execution_count": 39,
   "id": "5285acd9",
   "metadata": {},
   "outputs": [],
   "source": [
    "# create target variable\n",
    "\n",
    "injury_levels = ['Substantial Physical Injury','Serious Physical Injury','Death']\n",
    "\n",
    "subjects_incidents['subject_inj_death'] = subjects_incidents['subject_injury_level'].apply(lambda x: 1 if x in injury_levels else 0)"
   ]
  },
  {
   "cell_type": "code",
   "execution_count": 40,
   "id": "f6c6783e",
   "metadata": {},
   "outputs": [],
   "source": [
    "# create first feature variable -> force against member of service or not\n",
    "\n",
    "subjects_incidents = pd.get_dummies(subjects_incidents, columns=['subject_used_force'], drop_first=True)"
   ]
  },
  {
   "cell_type": "markdown",
   "id": "91c8b83a",
   "metadata": {},
   "source": [
    "# EDA and Baselining"
   ]
  },
  {
   "cell_type": "code",
   "execution_count": 42,
   "id": "861aa2b7",
   "metadata": {},
   "outputs": [
    {
     "name": "stdout",
     "output_type": "stream",
     "text": [
      "0    0.978469\n",
      "1    0.021531\n",
      "Name: subject_inj_death, dtype: float64\n"
     ]
    },
    {
     "data": {
      "text/plain": [
       "<AxesSubplot:>"
      ]
     },
     "execution_count": 42,
     "metadata": {},
     "output_type": "execute_result"
    },
    {
     "data": {
      "image/png": "[encoded data removed]",
      "text/plain": [
       "<Figure size 432x288 with 1 Axes>"
      ]
     },
     "metadata": {
      "needs_background": "light"
     },
     "output_type": "display_data"
    }
   ],
   "source": [
    "# check how imbalanced the target variable is\n",
    "\n",
    "target_pcts = subjects_incidents.subject_inj_death.value_counts(normalize=True) \n",
    "print(target_pcts)\n",
    "\n",
    "target_pcts.plot(kind='bar') # very imbalanced!"
   ]
  },
  {
   "cell_type": "code",
   "execution_count": 44,
   "id": "713dec13",
   "metadata": {},
   "outputs": [
    {
     "data": {
      "image/png": "[encoded data removed]",
      "text/plain": [
       "<Figure size 275.25x180 with 2 Axes>"
      ]
     },
     "metadata": {
      "needs_background": "light"
     },
     "output_type": "display_data"
    }
   ],
   "source": [
    "# create a helper function for plotting feature(s) vs target variable \n",
    "\n",
    "def plot_features(df, sample_size=500):\n",
    "    \n",
    "    sample = (df.sample(1000, random_state=44)) \n",
    "    sns.pairplot(sample,hue='subject_inj_death', plot_kws=dict(alpha=.3, edgecolor='none'))\n",
    "\n",
    "plot_features(subjects_incidents[['subject_used_force_Y','subject_inj_death']])"
   ]
  },
  {
   "cell_type": "code",
   "execution_count": 58,
   "id": "01350193",
   "metadata": {},
   "outputs": [],
   "source": [
    "subjects_incidents.columns\n",
    "\n",
    "X_1 = np.array(subjects_incidents['subject_used_force_Y']).reshape(-1,1)\n",
    "y = np.array(subjects_incidents['subject_inj_death'])"
   ]
  },
  {
   "cell_type": "code",
   "execution_count": 59,
   "id": "e8279b6b",
   "metadata": {},
   "outputs": [
    {
     "data": {
      "text/plain": [
       "(13283,)"
      ]
     },
     "execution_count": 59,
     "metadata": {},
     "output_type": "execute_result"
    }
   ],
   "source": [
    "y.shape"
   ]
  },
  {
   "cell_type": "code",
   "execution_count": 60,
   "id": "162f5413",
   "metadata": {},
   "outputs": [
    {
     "data": {
      "text/plain": [
       "(13283, 1)"
      ]
     },
     "execution_count": 60,
     "metadata": {},
     "output_type": "execute_result"
    }
   ],
   "source": [
    "X_1.shape"
   ]
  },
  {
   "cell_type": "code",
   "execution_count": 61,
   "id": "73e3f90f",
   "metadata": {},
   "outputs": [],
   "source": [
    "# split data into training/validation and test data\n",
    "\n",
    "X_tr_val, X_te, y_tr_val, y_te = train_test_split(X_1, y, test_size=0.2, random_state=42)"
   ]
  },
  {
   "cell_type": "code",
   "execution_count": 79,
   "id": "f1d4a3a9",
   "metadata": {},
   "outputs": [
    {
     "name": "stdout",
     "output_type": "stream",
     "text": [
      "recall: [0. 0. 0. 0. 0.]\n",
      "\n",
      "mean recall: 0.000\n",
      "\n",
      "f2 score: 0.000\n"
     ]
    }
   ],
   "source": [
    "# simple logistic regression\n",
    "\n",
    "lr = LogisticRegression(solver='lbfgs')\n",
    "lr.fit(X_tr_val, y_tr_val)\n",
    "\n",
    "kf = KFold(n_splits=5, shuffle=True, random_state = 71)\n",
    "cv_results = cross_validate(lr, X_tr_val, y_tr_val, cv=kf, scoring='recall')\n",
    "\n",
    "y_pred = lr.predict(X_tr_val)\n",
    "\n",
    "print(f\"recall: {(cv_results['test_score'])}\")\n",
    "print(\"\")\n",
    "print(f\"mean recall: {(np.mean(cv_results['test_score'])):.3f}\")\n",
    "print(\"\")\n",
    "print(f\"f2 score: {fbeta_score(y_tr_val, y_pred, beta=2):.3f}\")"
   ]
  },
  {
   "cell_type": "code",
   "execution_count": 92,
   "id": "fee7a26c",
   "metadata": {},
   "outputs": [
    {
     "name": "stdout",
     "output_type": "stream",
     "text": [
      "recall: [0.10798122 0.         0.         0.         0.        ]\n",
      "\n",
      "mean recall: 0.022\n",
      "\n",
      "f2 score: 0.000\n"
     ]
    }
   ],
   "source": [
    "# logistic regression with over-sampling\n",
    "\n",
    "# setup for the ratio argument of RandomOverSampler initialization\n",
    "n_pos = np.sum(y_tr_val == 1)\n",
    "n_neg = np.sum(y_tr_val == 0)\n",
    "ratio = {1 : n_pos * 40, 0 : n_neg} \n",
    "\n",
    "# randomly oversample positive samples: create 10x as many \n",
    "ROS = imblearn.over_sampling.RandomOverSampler(sampling_strategy = ratio, random_state=42) \n",
    "    \n",
    "X_tr_val_rs, y_tr_val_rs = ROS.fit_resample(X_tr_val, y_tr_val)\n",
    "\n",
    "lr_os = LogisticRegression(solver='lbfgs')\n",
    "lr_os.fit(X_tr_val_rs, y_tr_val_rs)\n",
    "\n",
    "kf = KFold(n_splits=5, shuffle=True, random_state = 71)\n",
    "cv_results = cross_validate(lr_os, X_tr_val_rs, y_tr_val_rs, cv=kf, scoring='recall')\n",
    "\n",
    "y_pred = lr_os.predict(X_tr_val)\n",
    "\n",
    "print(f\"recall: {(cv_results['test_score'])}\")\n",
    "print(\"\")\n",
    "print(f\"mean recall: {(np.mean(cv_results['test_score'])):.3f}\")\n",
    "print(\"\")\n",
    "print(f\"f2 score: {fbeta_score(y_tr_val, y_pred, beta=2):.3f}\")"
   ]
  },
  {
   "cell_type": "code",
   "execution_count": null,
   "id": "dcd304a3",
   "metadata": {},
   "outputs": [],
   "source": [
    "#incidents_members = incidents.merge(members,how='left',on='TRI Incident Number')"
   ]
  },
  {
   "cell_type": "code",
   "execution_count": null,
   "id": "9c80ec8f",
   "metadata": {},
   "outputs": [],
   "source": [
    "#incidents_members.shape"
   ]
  },
  {
   "cell_type": "code",
   "execution_count": null,
   "id": "0ea24232",
   "metadata": {},
   "outputs": [],
   "source": [
    "#df_merged = incidents.merge(members,how='left',on='TRI Incident Number').merge(subjects, how='left', on='TRI Incident Number')"
   ]
  },
  {
   "cell_type": "code",
   "execution_count": null,
   "id": "38aa4ef7",
   "metadata": {},
   "outputs": [],
   "source": [
    "#df_merged.shape"
   ]
  },
  {
   "cell_type": "code",
   "execution_count": null,
   "id": "39d87a28",
   "metadata": {},
   "outputs": [],
   "source": [
    "#df_merged.columns"
   ]
  },
  {
   "cell_type": "code",
   "execution_count": null,
   "id": "3d9e702a",
   "metadata": {},
   "outputs": [],
   "source": [
    "#df_merged['TRI Incident Number'].nunique()"
   ]
  },
  {
   "cell_type": "code",
   "execution_count": null,
   "id": "b06d97f3",
   "metadata": {},
   "outputs": [],
   "source": []
  }
 ],
 "metadata": {
  "kernelspec": {
   "display_name": "Python [conda env:metis] *",
   "language": "python",
   "name": "conda-env-metis-py"
  },
  "language_info": {
   "codemirror_mode": {
    "name": "ipython",
    "version": 3
   },
   "file_extension": ".py",
   "mimetype": "text/x-python",
   "name": "python",
   "nbconvert_exporter": "python",
   "pygments_lexer": "ipython3",
   "version": "3.8.10"
  }
 },
 "nbformat": 4,
 "nbformat_minor": 5
}
