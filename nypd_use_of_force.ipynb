{
 "cells": [
  {
   "cell_type": "markdown",
   "id": "4e03877c",
   "metadata": {},
   "source": [
    "# Problem/need: Predicting whether a subject involved in a use of force incident will be injured or not\n",
    "\n",
    "recall = tp/ap = tp/(tp+fn)\n",
    "\n",
    "Since false negatives (predicting that use of force doesn't result in a subject being injured when it actually does) are more costly, I'm going to weight recall more heavily than precision by using F2 as my evaluation metric."
   ]
  },
  {
   "cell_type": "code",
   "execution_count": 1,
   "id": "a64dad96",
   "metadata": {},
   "outputs": [],
   "source": [
    "import pandas as pd\n",
    "import numpy as np\n",
    "import seaborn as sns\n",
    "import matplotlib.pyplot as plt\n",
    "import matplotlib.cm as cm\n",
    "import statistics\n",
    "import os\n",
    "\n",
    "from sklearn.preprocessing import StandardScaler\n",
    "from sklearn.linear_model import LogisticRegression\n",
    "from sklearn.model_selection import KFold\n",
    "from sklearn.model_selection import cross_validate\n",
    "from sklearn.model_selection import train_test_split\n",
    "from sklearn.metrics import f1_score\n",
    "from sklearn.metrics import recall_score\n",
    "from sklearn.metrics import fbeta_score\n",
    "\n",
    "import imblearn.over_sampling"
   ]
  },
  {
   "cell_type": "code",
   "execution_count": 2,
   "id": "3ff77bfe",
   "metadata": {},
   "outputs": [
    {
     "data": {
      "text/plain": [
       "'/Users/chloebergsma-safar/Desktop/Metis/NBM_Classification_Project/Metis-Classification'"
      ]
     },
     "execution_count": 2,
     "metadata": {},
     "output_type": "execute_result"
    }
   ],
   "source": [
    "os.getcwd()"
   ]
  },
  {
   "cell_type": "code",
   "execution_count": 3,
   "id": "cd4de2d6",
   "metadata": {},
   "outputs": [],
   "source": [
    "os.chdir('/Users/chloebergsma-safar/Desktop/Metis/NBM_Classification_Project')"
   ]
  },
  {
   "cell_type": "markdown",
   "id": "5ace292b",
   "metadata": {},
   "source": [
    "# Read in NYPD Use of Force datasets"
   ]
  },
  {
   "cell_type": "markdown",
   "id": "2dcb5e3a",
   "metadata": {},
   "source": [
    "## incidents"
   ]
  },
  {
   "cell_type": "code",
   "execution_count": 4,
   "id": "af8a098f",
   "metadata": {},
   "outputs": [],
   "source": [
    "incidents = pd.read_csv('NYPD_Use_of_Force_Incidents.csv')"
   ]
  },
  {
   "cell_type": "code",
   "execution_count": 5,
   "id": "d2d2b05a",
   "metadata": {},
   "outputs": [
    {
     "data": {
      "text/plain": [
       "(13527, 7)"
      ]
     },
     "execution_count": 5,
     "metadata": {},
     "output_type": "execute_result"
    }
   ],
   "source": [
    "incidents.shape"
   ]
  },
  {
   "cell_type": "code",
   "execution_count": 6,
   "id": "fd38df14",
   "metadata": {},
   "outputs": [
    {
     "name": "stdout",
     "output_type": "stream",
     "text": [
      "<class 'pandas.core.frame.DataFrame'>\n",
      "RangeIndex: 13527 entries, 0 to 13526\n",
      "Data columns (total 7 columns):\n",
      " #   Column               Non-Null Count  Dtype \n",
      "---  ------               --------------  ----- \n",
      " 0   TRI Incident Number  13527 non-null  int64 \n",
      " 1   ForceType            13527 non-null  object\n",
      " 2   Occurrence Date      13527 non-null  object\n",
      " 3   Incident Pct         13527 non-null  int64 \n",
      " 4   Patrol Borough       13527 non-null  object\n",
      " 5   YearMonthShort       13527 non-null  object\n",
      " 6   BasisForEncounter    13527 non-null  object\n",
      "dtypes: int64(2), object(5)\n",
      "memory usage: 739.9+ KB\n"
     ]
    }
   ],
   "source": [
    "incidents.info()"
   ]
  },
  {
   "cell_type": "markdown",
   "id": "3978095f",
   "metadata": {},
   "source": [
    "## members of service"
   ]
  },
  {
   "cell_type": "code",
   "execution_count": 7,
   "id": "bcf60f6f",
   "metadata": {},
   "outputs": [],
   "source": [
    "members = pd.read_csv('NYPD_Use_of_Force__Members_of_Service.csv')"
   ]
  },
  {
   "cell_type": "code",
   "execution_count": 8,
   "id": "bc76181f",
   "metadata": {},
   "outputs": [
    {
     "data": {
      "text/plain": [
       "(31257, 8)"
      ]
     },
     "execution_count": 8,
     "metadata": {},
     "output_type": "execute_result"
    }
   ],
   "source": [
    "members.shape"
   ]
  },
  {
   "cell_type": "code",
   "execution_count": 9,
   "id": "8107c02e",
   "metadata": {},
   "outputs": [
    {
     "name": "stdout",
     "output_type": "stream",
     "text": [
      "<class 'pandas.core.frame.DataFrame'>\n",
      "RangeIndex: 31257 entries, 0 to 31256\n",
      "Data columns (total 8 columns):\n",
      " #   Column               Non-Null Count  Dtype \n",
      "---  ------               --------------  ----- \n",
      " 0   TRI Incident Number  31257 non-null  int64 \n",
      " 1   ForceType            31257 non-null  object\n",
      " 2   InjuryLevel          31257 non-null  object\n",
      " 3   Member Injured       31257 non-null  object\n",
      " 4   Rank Grouped         31257 non-null  object\n",
      " 5   Assignment           31257 non-null  object\n",
      " 6   Member Gender        31257 non-null  object\n",
      " 7   Race                 31257 non-null  object\n",
      "dtypes: int64(1), object(7)\n",
      "memory usage: 1.9+ MB\n"
     ]
    }
   ],
   "source": [
    "members.info()"
   ]
  },
  {
   "cell_type": "markdown",
   "id": "028fb0fb",
   "metadata": {},
   "source": [
    "## subjects"
   ]
  },
  {
   "cell_type": "code",
   "execution_count": 10,
   "id": "2c941327",
   "metadata": {},
   "outputs": [],
   "source": [
    "subjects = pd.read_csv('NYPD_Use_of_Force__Subjects.csv')"
   ]
  },
  {
   "cell_type": "code",
   "execution_count": 11,
   "id": "4a3b8262",
   "metadata": {},
   "outputs": [
    {
     "data": {
      "text/plain": [
       "(13283, 8)"
      ]
     },
     "execution_count": 11,
     "metadata": {},
     "output_type": "execute_result"
    }
   ],
   "source": [
    "subjects.shape"
   ]
  },
  {
   "cell_type": "code",
   "execution_count": 12,
   "id": "27d0d018",
   "metadata": {},
   "outputs": [
    {
     "name": "stdout",
     "output_type": "stream",
     "text": [
      "<class 'pandas.core.frame.DataFrame'>\n",
      "RangeIndex: 13283 entries, 0 to 13282\n",
      "Data columns (total 8 columns):\n",
      " #   Column                Non-Null Count  Dtype  \n",
      "---  ------                --------------  -----  \n",
      " 0   TRI Incident Number   13283 non-null  int64  \n",
      " 1   Subject Injury Level  13283 non-null  object \n",
      " 2   Subject Injured       13283 non-null  object \n",
      " 3   Age                   12741 non-null  float64\n",
      " 4   Subject Race          13283 non-null  object \n",
      " 5   Subject Gender        13283 non-null  object \n",
      " 6   Force Against MOS     13283 non-null  object \n",
      " 7   Subject Used Force    13283 non-null  object \n",
      "dtypes: float64(1), int64(1), object(6)\n",
      "memory usage: 830.3+ KB\n"
     ]
    }
   ],
   "source": [
    "subjects.info()"
   ]
  },
  {
   "cell_type": "markdown",
   "id": "73099042",
   "metadata": {},
   "source": [
    "# Brielfy analyze individual datasets"
   ]
  },
  {
   "cell_type": "markdown",
   "id": "dcd5346c",
   "metadata": {},
   "source": [
    "## incidents"
   ]
  },
  {
   "cell_type": "code",
   "execution_count": 13,
   "id": "842528db",
   "metadata": {},
   "outputs": [
    {
     "data": {
      "text/plain": [
       "Index(['TRI Incident Number', 'ForceType', 'Occurrence Date', 'Incident Pct',\n",
       "       'Patrol Borough', 'YearMonthShort', 'BasisForEncounter'],\n",
       "      dtype='object')"
      ]
     },
     "execution_count": 13,
     "metadata": {},
     "output_type": "execute_result"
    }
   ],
   "source": [
    "incidents.columns"
   ]
  },
  {
   "cell_type": "code",
   "execution_count": 14,
   "id": "ceb3b93e",
   "metadata": {},
   "outputs": [
    {
     "data": {
      "text/plain": [
       "06/01/2020    82\n",
       "01/01/2020    69\n",
       "06/02/2020    64\n",
       "05/29/2020    63\n",
       "05/31/2020    51\n",
       "              ..\n",
       "07/18/2020     4\n",
       "07/17/2020     4\n",
       "03/28/2021     4\n",
       "07/16/2020     2\n",
       "07/06/2020     1\n",
       "Name: Occurrence Date, Length: 731, dtype: int64"
      ]
     },
     "execution_count": 14,
     "metadata": {},
     "output_type": "execute_result"
    }
   ],
   "source": [
    "incidents['Occurrence Date'].value_counts()"
   ]
  },
  {
   "cell_type": "code",
   "execution_count": 15,
   "id": "875b3365",
   "metadata": {},
   "outputs": [
    {
     "data": {
      "text/plain": [
       "Physical Force              10172\n",
       "Electrical Weapon            2855\n",
       "OC Spray                      259\n",
       "Impact Weapon                 142\n",
       "Firearm                        88\n",
       "Restraining Mesh Blanket        8\n",
       "Police Canine                   3\n",
       "Name: ForceType, dtype: int64"
      ]
     },
     "execution_count": 15,
     "metadata": {},
     "output_type": "execute_result"
    }
   ],
   "source": [
    "incidents['ForceType'].value_counts()"
   ]
  },
  {
   "cell_type": "code",
   "execution_count": 16,
   "id": "92a07d02",
   "metadata": {},
   "outputs": [
    {
     "data": {
      "text/plain": [
       "CRIME/VIOLATION IN PROGRESS              5279\n",
       "PERSON IN CRISIS                         3235\n",
       "OTHER                                    1273\n",
       "PRISONER                                 1092\n",
       "CROWD CONTROL                             526\n",
       "VTL INFRACTION                            441\n",
       "WANTED SUSPECT (E.G. WARRANT, I CARD)     437\n",
       "PAST CRIME/VIOLATION                      402\n",
       "SUSPICIOUS ACTIVITY                       226\n",
       "DETECTIVE INVESTIGATION                   140\n",
       "TRANSIT EJECTION                          104\n",
       "ORDER OF PROTECTION                        95\n",
       "NON-CRIME CALLS FOR SERVICE                95\n",
       "IN CUSTODY INJURY                          71\n",
       "HOME VISIT                                 38\n",
       "AMBUSH OF MEMBER                           23\n",
       "SEARCH WARRANT                             23\n",
       "ANIMAL CONDITION                           14\n",
       "HOSTAGE/BARRICADED                         13\n",
       "Name: BasisForEncounter, dtype: int64"
      ]
     },
     "execution_count": 16,
     "metadata": {},
     "output_type": "execute_result"
    }
   ],
   "source": [
    "incidents['BasisForEncounter'].value_counts()"
   ]
  },
  {
   "cell_type": "markdown",
   "id": "070d1ac2",
   "metadata": {},
   "source": [
    "## members"
   ]
  },
  {
   "cell_type": "code",
   "execution_count": 17,
   "id": "cb7abb3b",
   "metadata": {},
   "outputs": [
    {
     "data": {
      "text/plain": [
       "Index(['TRI Incident Number', 'ForceType', 'InjuryLevel', 'Member Injured',\n",
       "       'Rank Grouped', 'Assignment', 'Member Gender', 'Race'],\n",
       "      dtype='object')"
      ]
     },
     "execution_count": 17,
     "metadata": {},
     "output_type": "execute_result"
    }
   ],
   "source": [
    "members.columns"
   ]
  },
  {
   "cell_type": "code",
   "execution_count": 18,
   "id": "1cd68312",
   "metadata": {},
   "outputs": [
    {
     "data": {
      "text/plain": [
       "No Injury                      25794\n",
       "Physical Injury                 5062\n",
       "Substantial Physical Injury      261\n",
       "Serious Physical Injury          140\n",
       "Name: InjuryLevel, dtype: int64"
      ]
     },
     "execution_count": 18,
     "metadata": {},
     "output_type": "execute_result"
    }
   ],
   "source": [
    "members['InjuryLevel'].value_counts()"
   ]
  },
  {
   "cell_type": "code",
   "execution_count": 19,
   "id": "6ccccbd8",
   "metadata": {},
   "outputs": [
    {
     "data": {
      "text/plain": [
       "Police Officer      26512\n",
       "Sergeant             2353\n",
       "Detective            1251\n",
       "Lieutenant            718\n",
       "Other                 290\n",
       "Captain                71\n",
       "Deputy Inspector       26\n",
       "Inspector              15\n",
       "Chief                  13\n",
       "RECODE                  8\n",
       "Name: Rank Grouped, dtype: int64"
      ]
     },
     "execution_count": 19,
     "metadata": {},
     "output_type": "execute_result"
    }
   ],
   "source": [
    "members['Rank Grouped'].value_counts()"
   ]
  },
  {
   "cell_type": "code",
   "execution_count": 20,
   "id": "d0132146",
   "metadata": {},
   "outputs": [
    {
     "data": {
      "text/plain": [
       "SECTOR/RESPONSE AUTO    19003\n",
       "OTHER                    6168\n",
       "FIXED POST               1919\n",
       "ANTI-CRIME               1897\n",
       "NCO                      1122\n",
       "INVESTIGATION            1055\n",
       "OFF DUTY                   71\n",
       "SCOOTER                    22\n",
       "Name: Assignment, dtype: int64"
      ]
     },
     "execution_count": 20,
     "metadata": {},
     "output_type": "execute_result"
    }
   ],
   "source": [
    "members['Assignment'].value_counts()"
   ]
  },
  {
   "cell_type": "code",
   "execution_count": 21,
   "id": "b8d6c420",
   "metadata": {},
   "outputs": [
    {
     "data": {
      "text/plain": [
       "MALE      27817\n",
       "FEMALE     3440\n",
       "Name: Member Gender, dtype: int64"
      ]
     },
     "execution_count": 21,
     "metadata": {},
     "output_type": "execute_result"
    }
   ],
   "source": [
    "members['Member Gender'].value_counts()"
   ]
  },
  {
   "cell_type": "code",
   "execution_count": 22,
   "id": "c4997f0b",
   "metadata": {},
   "outputs": [
    {
     "data": {
      "text/plain": [
       "WHITE          14767\n",
       "HISPANIC       10001\n",
       "BLACK           3775\n",
       "ASIAN           2673\n",
       "AMER INDIAN       25\n",
       "OTH/UNK           16\n",
       "Name: Race, dtype: int64"
      ]
     },
     "execution_count": 22,
     "metadata": {},
     "output_type": "execute_result"
    }
   ],
   "source": [
    "members['Race'].value_counts()"
   ]
  },
  {
   "cell_type": "markdown",
   "id": "cd2041ff",
   "metadata": {},
   "source": [
    "## subjects"
   ]
  },
  {
   "cell_type": "code",
   "execution_count": 23,
   "id": "6ae1ab5b",
   "metadata": {},
   "outputs": [
    {
     "data": {
      "text/plain": [
       "Index(['TRI Incident Number', 'Subject Injury Level', 'Subject Injured', 'Age',\n",
       "       'Subject Race', 'Subject Gender', 'Force Against MOS',\n",
       "       'Subject Used Force'],\n",
       "      dtype='object')"
      ]
     },
     "execution_count": 23,
     "metadata": {},
     "output_type": "execute_result"
    }
   ],
   "source": [
    "subjects.columns"
   ]
  },
  {
   "cell_type": "code",
   "execution_count": 24,
   "id": "2ac6a1fa",
   "metadata": {},
   "outputs": [
    {
     "data": {
      "text/plain": [
       "No Injury                      8988\n",
       "Physical Injury                4009\n",
       "Substantial Physical Injury     151\n",
       "Serious Physical Injury         115\n",
       "Death                            20\n",
       "Name: Subject Injury Level, dtype: int64"
      ]
     },
     "execution_count": 24,
     "metadata": {},
     "output_type": "execute_result"
    }
   ],
   "source": [
    "subjects['Subject Injury Level'].value_counts()"
   ]
  },
  {
   "cell_type": "code",
   "execution_count": 25,
   "id": "3603796a",
   "metadata": {},
   "outputs": [
    {
     "data": {
      "text/plain": [
       "Physical Force        11552\n",
       "No Force               1434\n",
       "Displayed Weapon        158\n",
       "Impact Weapon           100\n",
       "Firearm                  22\n",
       "Cutting Instrument       17\n",
       "Name: Force Against MOS, dtype: int64"
      ]
     },
     "execution_count": 25,
     "metadata": {},
     "output_type": "execute_result"
    }
   ],
   "source": [
    "subjects['Force Against MOS'].value_counts()"
   ]
  },
  {
   "cell_type": "code",
   "execution_count": 26,
   "id": "4bc18e39",
   "metadata": {},
   "outputs": [
    {
     "data": {
      "text/plain": [
       "BLACK          7386\n",
       "HISPANIC       3841\n",
       "WHITE          1167\n",
       "UNK/OTH         531\n",
       "ASIAN           329\n",
       "AMER INDIAN      29\n",
       "Name: Subject Race, dtype: int64"
      ]
     },
     "execution_count": 26,
     "metadata": {},
     "output_type": "execute_result"
    }
   ],
   "source": [
    "subjects['Subject Race'].value_counts()"
   ]
  },
  {
   "cell_type": "markdown",
   "id": "6a1d98d8",
   "metadata": {},
   "source": [
    "# Feature Types\n",
    "\n",
    "* **Incident** features: general information about ___all___ incidents involving NYPD use of force. Examples: the force type, when the incident occurred, incident precinct, the patrol borough, and the basis of encounter.\n",
    "* **Subject** features: information about specific subjects involved in use of force incidents. Examples: age, race, whether subject used force against a member of service, type of force used against member of service. \n",
    "* **Member of Service** features: information about specific members of service involved in use of force incidents. Examples: force type, whether member of service was injured, injury level, ranking group, assignment, gender, race. \n",
    "* **Incident-Subject-Member of Service** features: information about specific incidents involving subjects and members of service. Examples: number of subjects involved in an incident, number of members of service involved in an incident."
   ]
  },
  {
   "cell_type": "markdown",
   "id": "801ff3f4",
   "metadata": {},
   "source": [
    "# Clean individual datasets"
   ]
  },
  {
   "cell_type": "code",
   "execution_count": 27,
   "id": "5be471d0",
   "metadata": {},
   "outputs": [],
   "source": [
    "# clean up column names in datasets\n",
    "\n",
    "incidents.columns = incidents.columns.str.lower().str.replace(' ','_')\n",
    "members.columns = members.columns.str.lower().str.replace(' ','_')\n",
    "subjects.columns = subjects.columns.str.lower().str.replace(' ','_')"
   ]
  },
  {
   "cell_type": "code",
   "execution_count": 28,
   "id": "83ef1ab8",
   "metadata": {},
   "outputs": [],
   "source": [
    "incidents['occurrence_date_rev'] = pd.to_datetime(incidents['occurrence_date'])"
   ]
  },
  {
   "cell_type": "code",
   "execution_count": 29,
   "id": "530522d4",
   "metadata": {},
   "outputs": [
    {
     "data": {
      "text/plain": [
       "Timestamp('2020-01-01 00:00:00')"
      ]
     },
     "execution_count": 29,
     "metadata": {},
     "output_type": "execute_result"
    }
   ],
   "source": [
    "incidents['occurrence_date_rev'].min()"
   ]
  },
  {
   "cell_type": "code",
   "execution_count": 30,
   "id": "8b8036fa",
   "metadata": {},
   "outputs": [
    {
     "data": {
      "text/plain": [
       "Timestamp('2021-12-31 00:00:00')"
      ]
     },
     "execution_count": 30,
     "metadata": {},
     "output_type": "execute_result"
    }
   ],
   "source": [
    "incidents['occurrence_date_rev'].max()"
   ]
  },
  {
   "cell_type": "code",
   "execution_count": 31,
   "id": "02f56ff6",
   "metadata": {},
   "outputs": [],
   "source": [
    "incidents['year'] = incidents['occurrence_date_rev'].dt.year\n",
    "incidents['month'] = incidents['occurrence_date_rev'].dt.month"
   ]
  },
  {
   "cell_type": "code",
   "execution_count": 32,
   "id": "ce1e46e0",
   "metadata": {},
   "outputs": [],
   "source": [
    "incidents.drop(['occurrence_date', 'yearmonthshort'],axis=1,inplace=True)"
   ]
  },
  {
   "cell_type": "markdown",
   "id": "652c9974",
   "metadata": {},
   "source": [
    "# Constructing the observations\n",
    "\n",
    "Each observation = a subject-incident pair"
   ]
  },
  {
   "cell_type": "code",
   "execution_count": 33,
   "id": "fa164523",
   "metadata": {},
   "outputs": [],
   "source": [
    "# create df that only includes tri_incident_numbers in subjects dataset that are also in members dataset\n",
    "\n",
    "members_tri_ids = members['tri_incident_number'].unique()\n",
    "subjects_df = subjects[subjects['tri_incident_number'].isin(members_tri_ids)]"
   ]
  },
  {
   "cell_type": "code",
   "execution_count": 34,
   "id": "ef5ba42a",
   "metadata": {},
   "outputs": [
    {
     "data": {
      "text/plain": [
       "(13283, 8)"
      ]
     },
     "execution_count": 34,
     "metadata": {},
     "output_type": "execute_result"
    }
   ],
   "source": [
    "subjects.shape"
   ]
  },
  {
   "cell_type": "code",
   "execution_count": 35,
   "id": "27a9156b",
   "metadata": {},
   "outputs": [
    {
     "data": {
      "text/plain": [
       "(13230, 8)"
      ]
     },
     "execution_count": 35,
     "metadata": {},
     "output_type": "execute_result"
    }
   ],
   "source": [
    "subjects_df.shape"
   ]
  },
  {
   "cell_type": "code",
   "execution_count": 36,
   "id": "51fa1f59",
   "metadata": {},
   "outputs": [
    {
     "data": {
      "text/plain": [
       "12589"
      ]
     },
     "execution_count": 36,
     "metadata": {},
     "output_type": "execute_result"
    }
   ],
   "source": [
    "subjects_df['tri_incident_number'].nunique()"
   ]
  },
  {
   "cell_type": "code",
   "execution_count": 37,
   "id": "e15619a2",
   "metadata": {},
   "outputs": [
    {
     "data": {
      "text/plain": [
       "Index(['tri_incident_number', 'subject_injury_level', 'subject_injured', 'age',\n",
       "       'subject_race', 'subject_gender', 'force_against_mos',\n",
       "       'subject_used_force'],\n",
       "      dtype='object')"
      ]
     },
     "execution_count": 37,
     "metadata": {},
     "output_type": "execute_result"
    }
   ],
   "source": [
    "subjects_df.columns"
   ]
  },
  {
   "cell_type": "code",
   "execution_count": 38,
   "id": "16183596",
   "metadata": {},
   "outputs": [],
   "source": [
    "# add column to assign index to each subject\n",
    "subjects_df.reset_index(inplace=True)\n",
    "subjects_df = subjects_df.rename(columns = {'index':'subject_id'})"
   ]
  },
  {
   "cell_type": "code",
   "execution_count": 39,
   "id": "fd0b8c18",
   "metadata": {},
   "outputs": [
    {
     "data": {
      "text/html": [
       "<div>\n",
       "<style scoped>\n",
       "    .dataframe tbody tr th:only-of-type {\n",
       "        vertical-align: middle;\n",
       "    }\n",
       "\n",
       "    .dataframe tbody tr th {\n",
       "        vertical-align: top;\n",
       "    }\n",
       "\n",
       "    .dataframe thead th {\n",
       "        text-align: right;\n",
       "    }\n",
       "</style>\n",
       "<table border=\"1\" class=\"dataframe\">\n",
       "  <thead>\n",
       "    <tr style=\"text-align: right;\">\n",
       "      <th></th>\n",
       "      <th>subject_id</th>\n",
       "      <th>tri_incident_number</th>\n",
       "      <th>subject_injury_level</th>\n",
       "      <th>subject_injured</th>\n",
       "      <th>age</th>\n",
       "      <th>subject_race</th>\n",
       "      <th>subject_gender</th>\n",
       "      <th>force_against_mos</th>\n",
       "      <th>subject_used_force</th>\n",
       "    </tr>\n",
       "  </thead>\n",
       "  <tbody>\n",
       "    <tr>\n",
       "      <th>0</th>\n",
       "      <td>0</td>\n",
       "      <td>2020020962054</td>\n",
       "      <td>No Injury</td>\n",
       "      <td>N</td>\n",
       "      <td>28.0</td>\n",
       "      <td>BLACK</td>\n",
       "      <td>MALE</td>\n",
       "      <td>Physical Force</td>\n",
       "      <td>Y</td>\n",
       "    </tr>\n",
       "    <tr>\n",
       "      <th>1</th>\n",
       "      <td>1</td>\n",
       "      <td>2020020962062</td>\n",
       "      <td>No Injury</td>\n",
       "      <td>N</td>\n",
       "      <td>28.0</td>\n",
       "      <td>BLACK</td>\n",
       "      <td>MALE</td>\n",
       "      <td>Physical Force</td>\n",
       "      <td>Y</td>\n",
       "    </tr>\n",
       "    <tr>\n",
       "      <th>2</th>\n",
       "      <td>2</td>\n",
       "      <td>2020024962101</td>\n",
       "      <td>No Injury</td>\n",
       "      <td>N</td>\n",
       "      <td>28.0</td>\n",
       "      <td>BLACK</td>\n",
       "      <td>MALE</td>\n",
       "      <td>Physical Force</td>\n",
       "      <td>Y</td>\n",
       "    </tr>\n",
       "    <tr>\n",
       "      <th>3</th>\n",
       "      <td>3</td>\n",
       "      <td>2020024962121</td>\n",
       "      <td>No Injury</td>\n",
       "      <td>N</td>\n",
       "      <td>28.0</td>\n",
       "      <td>BLACK</td>\n",
       "      <td>MALE</td>\n",
       "      <td>Physical Force</td>\n",
       "      <td>Y</td>\n",
       "    </tr>\n",
       "    <tr>\n",
       "      <th>4</th>\n",
       "      <td>4</td>\n",
       "      <td>2020028962025</td>\n",
       "      <td>No Injury</td>\n",
       "      <td>N</td>\n",
       "      <td>28.0</td>\n",
       "      <td>BLACK</td>\n",
       "      <td>MALE</td>\n",
       "      <td>Physical Force</td>\n",
       "      <td>Y</td>\n",
       "    </tr>\n",
       "  </tbody>\n",
       "</table>\n",
       "</div>"
      ],
      "text/plain": [
       "   subject_id  tri_incident_number subject_injury_level subject_injured   age  \\\n",
       "0           0        2020020962054            No Injury               N  28.0   \n",
       "1           1        2020020962062            No Injury               N  28.0   \n",
       "2           2        2020024962101            No Injury               N  28.0   \n",
       "3           3        2020024962121            No Injury               N  28.0   \n",
       "4           4        2020028962025            No Injury               N  28.0   \n",
       "\n",
       "  subject_race subject_gender force_against_mos subject_used_force  \n",
       "0        BLACK           MALE    Physical Force                  Y  \n",
       "1        BLACK           MALE    Physical Force                  Y  \n",
       "2        BLACK           MALE    Physical Force                  Y  \n",
       "3        BLACK           MALE    Physical Force                  Y  \n",
       "4        BLACK           MALE    Physical Force                  Y  "
      ]
     },
     "execution_count": 39,
     "metadata": {},
     "output_type": "execute_result"
    }
   ],
   "source": [
    "subjects_df.head()"
   ]
  },
  {
   "cell_type": "code",
   "execution_count": 40,
   "id": "c968b4a9",
   "metadata": {},
   "outputs": [],
   "source": [
    "# create first feature variable -> whether subject used force or not against member of service (mos)\n",
    "\n",
    "subjects_df = pd.get_dummies(subjects_df, columns=['subject_used_force'], drop_first=True)"
   ]
  },
  {
   "cell_type": "code",
   "execution_count": 41,
   "id": "62cfbb33",
   "metadata": {},
   "outputs": [],
   "source": [
    "# create df of tri_incident_number and first feature\n",
    "\n",
    "df_X = subjects_df[['subject_id','tri_incident_number','subject_used_force_Y']]"
   ]
  },
  {
   "cell_type": "code",
   "execution_count": 42,
   "id": "c17c8e1d",
   "metadata": {},
   "outputs": [
    {
     "data": {
      "text/plain": [
       "(13230, 3)"
      ]
     },
     "execution_count": 42,
     "metadata": {},
     "output_type": "execute_result"
    }
   ],
   "source": [
    "df_X.shape"
   ]
  },
  {
   "cell_type": "markdown",
   "id": "d2022eb1",
   "metadata": {},
   "source": [
    "# Constructing the observations' target values"
   ]
  },
  {
   "cell_type": "code",
   "execution_count": 43,
   "id": "4355bf61",
   "metadata": {},
   "outputs": [
    {
     "name": "stdout",
     "output_type": "stream",
     "text": [
      "<class 'pandas.core.frame.DataFrame'>\n",
      "RangeIndex: 13230 entries, 0 to 13229\n",
      "Data columns (total 9 columns):\n",
      " #   Column                Non-Null Count  Dtype  \n",
      "---  ------                --------------  -----  \n",
      " 0   subject_id            13230 non-null  int64  \n",
      " 1   tri_incident_number   13230 non-null  int64  \n",
      " 2   subject_injury_level  13230 non-null  object \n",
      " 3   subject_injured       13230 non-null  object \n",
      " 4   age                   12692 non-null  float64\n",
      " 5   subject_race          13230 non-null  object \n",
      " 6   subject_gender        13230 non-null  object \n",
      " 7   force_against_mos     13230 non-null  object \n",
      " 8   subject_used_force_Y  13230 non-null  uint8  \n",
      "dtypes: float64(1), int64(2), object(5), uint8(1)\n",
      "memory usage: 839.9+ KB\n"
     ]
    }
   ],
   "source": [
    "subjects_df.info()"
   ]
  },
  {
   "cell_type": "code",
   "execution_count": 44,
   "id": "3a00da21",
   "metadata": {},
   "outputs": [
    {
     "data": {
      "text/plain": [
       "N    0.677249\n",
       "Y    0.322751\n",
       "Name: subject_injured, dtype: float64"
      ]
     },
     "execution_count": 44,
     "metadata": {},
     "output_type": "execute_result"
    }
   ],
   "source": [
    "subjects_df['subject_injured'].value_counts(normalize=True)"
   ]
  },
  {
   "cell_type": "code",
   "execution_count": 45,
   "id": "eaa6ff90",
   "metadata": {},
   "outputs": [],
   "source": [
    "# convert 'subject_injured' to 1s and 0s\n",
    "\n",
    "subjects_df['subject_injured'] = subjects_df['subject_injured'].apply(lambda x: 1 if x == 'Y' else 0)"
   ]
  },
  {
   "cell_type": "code",
   "execution_count": 46,
   "id": "5729b9ec",
   "metadata": {},
   "outputs": [],
   "source": [
    "subjects_tri_injured = subjects_df[['subject_id','tri_incident_number','subject_injured']]"
   ]
  },
  {
   "cell_type": "code",
   "execution_count": 47,
   "id": "4a952c35",
   "metadata": {},
   "outputs": [
    {
     "data": {
      "text/plain": [
       "(13230, 3)"
      ]
     },
     "execution_count": 47,
     "metadata": {},
     "output_type": "execute_result"
    }
   ],
   "source": [
    "subjects_tri_injured.shape"
   ]
  },
  {
   "cell_type": "code",
   "execution_count": 48,
   "id": "c1205038",
   "metadata": {},
   "outputs": [],
   "source": [
    "# create target variable\n",
    "\n",
    "df_X = df_X.merge(subjects_tri_injured, how='left',on='subject_id')"
   ]
  },
  {
   "cell_type": "code",
   "execution_count": 49,
   "id": "76274f45",
   "metadata": {},
   "outputs": [
    {
     "name": "stdout",
     "output_type": "stream",
     "text": [
      "<class 'pandas.core.frame.DataFrame'>\n",
      "Int64Index: 13230 entries, 0 to 13229\n",
      "Data columns (total 5 columns):\n",
      " #   Column                 Non-Null Count  Dtype\n",
      "---  ------                 --------------  -----\n",
      " 0   subject_id             13230 non-null  int64\n",
      " 1   tri_incident_number_x  13230 non-null  int64\n",
      " 2   subject_used_force_Y   13230 non-null  uint8\n",
      " 3   tri_incident_number_y  13230 non-null  int64\n",
      " 4   subject_injured        13230 non-null  int64\n",
      "dtypes: int64(4), uint8(1)\n",
      "memory usage: 529.7 KB\n"
     ]
    }
   ],
   "source": [
    "df_X.info()"
   ]
  },
  {
   "cell_type": "code",
   "execution_count": 50,
   "id": "bfc2cb47",
   "metadata": {},
   "outputs": [],
   "source": [
    "df_X.drop(['tri_incident_number_y'],axis=1,inplace=True)"
   ]
  },
  {
   "cell_type": "code",
   "execution_count": 51,
   "id": "b5069196",
   "metadata": {},
   "outputs": [],
   "source": [
    "df_X.rename(columns={\"tri_incident_number_x\": \"tri_incident_number\"}, inplace=True)"
   ]
  },
  {
   "cell_type": "markdown",
   "id": "73146b4b",
   "metadata": {},
   "source": [
    "# EDA and Baselining"
   ]
  },
  {
   "cell_type": "code",
   "execution_count": 52,
   "id": "30bf9e31",
   "metadata": {},
   "outputs": [
    {
     "name": "stdout",
     "output_type": "stream",
     "text": [
      "0    0.677249\n",
      "1    0.322751\n",
      "Name: subject_injured, dtype: float64\n"
     ]
    },
    {
     "data": {
      "text/plain": [
       "<AxesSubplot:>"
      ]
     },
     "execution_count": 52,
     "metadata": {},
     "output_type": "execute_result"
    },
    {
     "data": {
      "image/png": "[encoded data removed]",
      "text/plain": [
       "<Figure size 432x288 with 1 Axes>"
      ]
     },
     "metadata": {
      "needs_background": "light"
     },
     "output_type": "display_data"
    }
   ],
   "source": [
    "# check how imbalanced the target variable is\n",
    "\n",
    "target_pcts = df_X.subject_injured.value_counts(normalize=True) \n",
    "print(target_pcts)\n",
    "\n",
    "target_pcts.plot(kind='bar')"
   ]
  },
  {
   "cell_type": "code",
   "execution_count": 53,
   "id": "a289bf62",
   "metadata": {},
   "outputs": [
    {
     "data": {
      "image/png": "[encoded data removed]",
      "text/plain": [
       "<Figure size 264.125x180 with 2 Axes>"
      ]
     },
     "metadata": {
      "needs_background": "light"
     },
     "output_type": "display_data"
    }
   ],
   "source": [
    "# create a helper function for plotting feature(s) vs target variable \n",
    "\n",
    "def plot_features(df, sample_size=500):\n",
    "    \n",
    "    sample = (df.sample(1000, random_state=44)) \n",
    "    sns.pairplot(sample,hue='subject_injured', plot_kws=dict(alpha=.3, edgecolor='none'))\n",
    "\n",
    "plot_features(df_X[['subject_used_force_Y','subject_injured']])"
   ]
  },
  {
   "cell_type": "code",
   "execution_count": 54,
   "id": "b3a24de9",
   "metadata": {},
   "outputs": [],
   "source": [
    "X_1 = np.array(df_X['subject_used_force_Y']).reshape(-1,1)\n",
    "y = np.array(df_X['subject_injured'])"
   ]
  },
  {
   "cell_type": "code",
   "execution_count": 55,
   "id": "af6784c0",
   "metadata": {},
   "outputs": [
    {
     "data": {
      "text/plain": [
       "(13230,)"
      ]
     },
     "execution_count": 55,
     "metadata": {},
     "output_type": "execute_result"
    }
   ],
   "source": [
    "y.shape"
   ]
  },
  {
   "cell_type": "code",
   "execution_count": 56,
   "id": "76c11105",
   "metadata": {},
   "outputs": [
    {
     "data": {
      "text/plain": [
       "(13230, 1)"
      ]
     },
     "execution_count": 56,
     "metadata": {},
     "output_type": "execute_result"
    }
   ],
   "source": [
    "X_1.shape"
   ]
  },
  {
   "cell_type": "code",
   "execution_count": 57,
   "id": "9fad0b67",
   "metadata": {},
   "outputs": [],
   "source": [
    "# split data into training/validation and test data\n",
    "\n",
    "X_tr_val, X_te, y_tr_val, y_te = train_test_split(X_1, y, test_size=0.2, random_state=42)"
   ]
  },
  {
   "cell_type": "code",
   "execution_count": 58,
   "id": "34d605b5",
   "metadata": {},
   "outputs": [
    {
     "name": "stdout",
     "output_type": "stream",
     "text": [
      "recall: [0. 0. 0. 0. 0.]\n",
      "\n",
      "mean recall: 0.000\n",
      "\n",
      "f2 score: 0.000\n"
     ]
    }
   ],
   "source": [
    "# simple logistic regression\n",
    "\n",
    "lr = LogisticRegression(solver='lbfgs')\n",
    "lr.fit(X_tr_val, y_tr_val)\n",
    "\n",
    "kf = KFold(n_splits=5, shuffle=True, random_state = 71)\n",
    "cv_results = cross_validate(lr, X_tr_val, y_tr_val, cv=kf, scoring='recall')\n",
    "\n",
    "y_pred = lr.predict(X_tr_val)\n",
    "\n",
    "print(f\"recall: {(cv_results['test_score'])}\")\n",
    "print(\"\")\n",
    "print(f\"mean recall: {(np.mean(cv_results['test_score'])):.3f}\")\n",
    "print(\"\")\n",
    "print(f\"f2 score: {fbeta_score(y_tr_val, y_pred, beta=2):.3f}\")"
   ]
  },
  {
   "cell_type": "markdown",
   "id": "db454ea5",
   "metadata": {},
   "source": [
    "# Feature engineering to improve the model"
   ]
  },
  {
   "cell_type": "markdown",
   "id": "7e2c99d9",
   "metadata": {},
   "source": [
    "## Create second feature -> the type of force used by a member of service"
   ]
  },
  {
   "cell_type": "code",
   "execution_count": 84,
   "id": "add51442",
   "metadata": {},
   "outputs": [
    {
     "ename": "KeyError",
     "evalue": "'forcetype'",
     "output_type": "error",
     "traceback": [
      "\u001b[0;31m---------------------------------------------------------------------------\u001b[0m",
      "\u001b[0;31mKeyError\u001b[0m                                  Traceback (most recent call last)",
      "\u001b[0;32m/opt/anaconda3/envs/metis/lib/python3.8/site-packages/pandas/core/indexes/base.py\u001b[0m in \u001b[0;36mget_loc\u001b[0;34m(self, key, method, tolerance)\u001b[0m\n\u001b[1;32m   3079\u001b[0m             \u001b[0;32mtry\u001b[0m\u001b[0;34m:\u001b[0m\u001b[0;34m\u001b[0m\u001b[0;34m\u001b[0m\u001b[0m\n\u001b[0;32m-> 3080\u001b[0;31m                 \u001b[0;32mreturn\u001b[0m \u001b[0mself\u001b[0m\u001b[0;34m.\u001b[0m\u001b[0m_engine\u001b[0m\u001b[0;34m.\u001b[0m\u001b[0mget_loc\u001b[0m\u001b[0;34m(\u001b[0m\u001b[0mcasted_key\u001b[0m\u001b[0;34m)\u001b[0m\u001b[0;34m\u001b[0m\u001b[0;34m\u001b[0m\u001b[0m\n\u001b[0m\u001b[1;32m   3081\u001b[0m             \u001b[0;32mexcept\u001b[0m \u001b[0mKeyError\u001b[0m \u001b[0;32mas\u001b[0m \u001b[0merr\u001b[0m\u001b[0;34m:\u001b[0m\u001b[0;34m\u001b[0m\u001b[0;34m\u001b[0m\u001b[0m\n",
      "\u001b[0;32mpandas/_libs/index.pyx\u001b[0m in \u001b[0;36mpandas._libs.index.IndexEngine.get_loc\u001b[0;34m()\u001b[0m\n",
      "\u001b[0;32mpandas/_libs/index.pyx\u001b[0m in \u001b[0;36mpandas._libs.index.IndexEngine.get_loc\u001b[0;34m()\u001b[0m\n",
      "\u001b[0;32mpandas/_libs/hashtable_class_helper.pxi\u001b[0m in \u001b[0;36mpandas._libs.hashtable.PyObjectHashTable.get_item\u001b[0;34m()\u001b[0m\n",
      "\u001b[0;32mpandas/_libs/hashtable_class_helper.pxi\u001b[0m in \u001b[0;36mpandas._libs.hashtable.PyObjectHashTable.get_item\u001b[0;34m()\u001b[0m\n",
      "\u001b[0;31mKeyError\u001b[0m: 'forcetype'",
      "\nThe above exception was the direct cause of the following exception:\n",
      "\u001b[0;31mKeyError\u001b[0m                                  Traceback (most recent call last)",
      "\u001b[0;32m<ipython-input-84-a37425e7b802>\u001b[0m in \u001b[0;36m<module>\u001b[0;34m\u001b[0m\n\u001b[0;32m----> 1\u001b[0;31m \u001b[0mincidents\u001b[0m\u001b[0;34m[\u001b[0m\u001b[0;34m'forcetype'\u001b[0m\u001b[0;34m]\u001b[0m\u001b[0;34m.\u001b[0m\u001b[0mvalue_counts\u001b[0m\u001b[0;34m(\u001b[0m\u001b[0;34m)\u001b[0m\u001b[0;34m\u001b[0m\u001b[0;34m\u001b[0m\u001b[0m\n\u001b[0m",
      "\u001b[0;32m/opt/anaconda3/envs/metis/lib/python3.8/site-packages/pandas/core/frame.py\u001b[0m in \u001b[0;36m__getitem__\u001b[0;34m(self, key)\u001b[0m\n\u001b[1;32m   3022\u001b[0m             \u001b[0;32mif\u001b[0m \u001b[0mself\u001b[0m\u001b[0;34m.\u001b[0m\u001b[0mcolumns\u001b[0m\u001b[0;34m.\u001b[0m\u001b[0mnlevels\u001b[0m \u001b[0;34m>\u001b[0m \u001b[0;36m1\u001b[0m\u001b[0;34m:\u001b[0m\u001b[0;34m\u001b[0m\u001b[0;34m\u001b[0m\u001b[0m\n\u001b[1;32m   3023\u001b[0m                 \u001b[0;32mreturn\u001b[0m \u001b[0mself\u001b[0m\u001b[0;34m.\u001b[0m\u001b[0m_getitem_multilevel\u001b[0m\u001b[0;34m(\u001b[0m\u001b[0mkey\u001b[0m\u001b[0;34m)\u001b[0m\u001b[0;34m\u001b[0m\u001b[0;34m\u001b[0m\u001b[0m\n\u001b[0;32m-> 3024\u001b[0;31m             \u001b[0mindexer\u001b[0m \u001b[0;34m=\u001b[0m \u001b[0mself\u001b[0m\u001b[0;34m.\u001b[0m\u001b[0mcolumns\u001b[0m\u001b[0;34m.\u001b[0m\u001b[0mget_loc\u001b[0m\u001b[0;34m(\u001b[0m\u001b[0mkey\u001b[0m\u001b[0;34m)\u001b[0m\u001b[0;34m\u001b[0m\u001b[0;34m\u001b[0m\u001b[0m\n\u001b[0m\u001b[1;32m   3025\u001b[0m             \u001b[0;32mif\u001b[0m \u001b[0mis_integer\u001b[0m\u001b[0;34m(\u001b[0m\u001b[0mindexer\u001b[0m\u001b[0;34m)\u001b[0m\u001b[0;34m:\u001b[0m\u001b[0;34m\u001b[0m\u001b[0;34m\u001b[0m\u001b[0m\n\u001b[1;32m   3026\u001b[0m                 \u001b[0mindexer\u001b[0m \u001b[0;34m=\u001b[0m \u001b[0;34m[\u001b[0m\u001b[0mindexer\u001b[0m\u001b[0;34m]\u001b[0m\u001b[0;34m\u001b[0m\u001b[0;34m\u001b[0m\u001b[0m\n",
      "\u001b[0;32m/opt/anaconda3/envs/metis/lib/python3.8/site-packages/pandas/core/indexes/base.py\u001b[0m in \u001b[0;36mget_loc\u001b[0;34m(self, key, method, tolerance)\u001b[0m\n\u001b[1;32m   3080\u001b[0m                 \u001b[0;32mreturn\u001b[0m \u001b[0mself\u001b[0m\u001b[0;34m.\u001b[0m\u001b[0m_engine\u001b[0m\u001b[0;34m.\u001b[0m\u001b[0mget_loc\u001b[0m\u001b[0;34m(\u001b[0m\u001b[0mcasted_key\u001b[0m\u001b[0;34m)\u001b[0m\u001b[0;34m\u001b[0m\u001b[0;34m\u001b[0m\u001b[0m\n\u001b[1;32m   3081\u001b[0m             \u001b[0;32mexcept\u001b[0m \u001b[0mKeyError\u001b[0m \u001b[0;32mas\u001b[0m \u001b[0merr\u001b[0m\u001b[0;34m:\u001b[0m\u001b[0;34m\u001b[0m\u001b[0;34m\u001b[0m\u001b[0m\n\u001b[0;32m-> 3082\u001b[0;31m                 \u001b[0;32mraise\u001b[0m \u001b[0mKeyError\u001b[0m\u001b[0;34m(\u001b[0m\u001b[0mkey\u001b[0m\u001b[0;34m)\u001b[0m \u001b[0;32mfrom\u001b[0m \u001b[0merr\u001b[0m\u001b[0;34m\u001b[0m\u001b[0;34m\u001b[0m\u001b[0m\n\u001b[0m\u001b[1;32m   3083\u001b[0m \u001b[0;34m\u001b[0m\u001b[0m\n\u001b[1;32m   3084\u001b[0m         \u001b[0;32mif\u001b[0m \u001b[0mtolerance\u001b[0m \u001b[0;32mis\u001b[0m \u001b[0;32mnot\u001b[0m \u001b[0;32mNone\u001b[0m\u001b[0;34m:\u001b[0m\u001b[0;34m\u001b[0m\u001b[0;34m\u001b[0m\u001b[0m\n",
      "\u001b[0;31mKeyError\u001b[0m: 'forcetype'"
     ]
    }
   ],
   "source": [
    "incidents['forcetype'].value_counts()"
   ]
  },
  {
   "cell_type": "code",
   "execution_count": 60,
   "id": "4dbae0f9",
   "metadata": {},
   "outputs": [],
   "source": [
    "incidents = pd.get_dummies(incidents, columns=['forcetype'], drop_first=True)"
   ]
  },
  {
   "cell_type": "code",
   "execution_count": 61,
   "id": "269667c8",
   "metadata": {},
   "outputs": [
    {
     "name": "stdout",
     "output_type": "stream",
     "text": [
      "<class 'pandas.core.frame.DataFrame'>\n",
      "Int64Index: 13230 entries, 0 to 13229\n",
      "Data columns (total 4 columns):\n",
      " #   Column                Non-Null Count  Dtype\n",
      "---  ------                --------------  -----\n",
      " 0   subject_id            13230 non-null  int64\n",
      " 1   tri_incident_number   13230 non-null  int64\n",
      " 2   subject_used_force_Y  13230 non-null  uint8\n",
      " 3   subject_injured       13230 non-null  int64\n",
      "dtypes: int64(3), uint8(1)\n",
      "memory usage: 426.4 KB\n"
     ]
    }
   ],
   "source": [
    "df_X.info()"
   ]
  },
  {
   "cell_type": "code",
   "execution_count": 62,
   "id": "5cf0bedf",
   "metadata": {},
   "outputs": [],
   "source": [
    "incidents_tri_forcetype = incidents[['tri_incident_number','forcetype_Firearm','forcetype_Impact Weapon',\n",
    "                                     'forcetype_OC Spray','forcetype_Physical Force','forcetype_Police Canine',\n",
    "                                     'forcetype_Restraining Mesh Blanket']]\n",
    "\n",
    "df_X = df_X.merge(incidents_tri_forcetype, on='tri_incident_number')"
   ]
  },
  {
   "cell_type": "code",
   "execution_count": 64,
   "id": "e7278559",
   "metadata": {},
   "outputs": [
    {
     "data": {
      "text/plain": [
       "(13230, 10)"
      ]
     },
     "execution_count": 64,
     "metadata": {},
     "output_type": "execute_result"
    }
   ],
   "source": [
    "df_X.shape"
   ]
  },
  {
   "cell_type": "markdown",
   "id": "a6448071",
   "metadata": {},
   "source": [
    "## Second model"
   ]
  },
  {
   "cell_type": "code",
   "execution_count": 73,
   "id": "86029dcb",
   "metadata": {},
   "outputs": [
    {
     "name": "stderr",
     "output_type": "stream",
     "text": [
      "/opt/anaconda3/envs/metis/lib/python3.8/site-packages/seaborn/distributions.py:306: UserWarning: Dataset has 0 variance; skipping density estimate.\n",
      "  warnings.warn(msg, UserWarning)\n",
      "/opt/anaconda3/envs/metis/lib/python3.8/site-packages/seaborn/distributions.py:306: UserWarning: Dataset has 0 variance; skipping density estimate.\n",
      "  warnings.warn(msg, UserWarning)\n",
      "/opt/anaconda3/envs/metis/lib/python3.8/site-packages/seaborn/distributions.py:306: UserWarning: Dataset has 0 variance; skipping density estimate.\n",
      "  warnings.warn(msg, UserWarning)\n"
     ]
    },
    {
     "data": {
      "image/png": "[encoded data removed]",
      "text/plain": [
       "<Figure size 1344.12x1260 with 56 Axes>"
      ]
     },
     "metadata": {
      "needs_background": "light"
     },
     "output_type": "display_data"
    }
   ],
   "source": [
    "plot_features(df_X[['forcetype_Firearm','forcetype_Impact Weapon','forcetype_OC Spray','forcetype_Physical Force',\n",
    "                    'forcetype_Police Canine','forcetype_Restraining Mesh Blanket','subject_used_force_Y',\n",
    "                    'subject_injured']])"
   ]
  },
  {
   "cell_type": "code",
   "execution_count": 78,
   "id": "5af77f14",
   "metadata": {},
   "outputs": [],
   "source": [
    "X_2 = np.array(df_X[['subject_used_force_Y','forcetype_Firearm','forcetype_Impact Weapon','forcetype_OC Spray',\n",
    "                    'forcetype_Physical Force','forcetype_Police Canine',\n",
    "                    'forcetype_Restraining Mesh Blanket']])"
   ]
  },
  {
   "cell_type": "code",
   "execution_count": 80,
   "id": "0b142718",
   "metadata": {},
   "outputs": [],
   "source": [
    "# split data into training/validation and test data\n",
    "\n",
    "X_tr_val_2, X_te_2, y_tr_val_2, y_te_2 = train_test_split(X_2, y, test_size=0.2, random_state=42)"
   ]
  },
  {
   "cell_type": "code",
   "execution_count": 91,
   "id": "d65aa742",
   "metadata": {},
   "outputs": [
    {
     "name": "stdout",
     "output_type": "stream",
     "text": [
      "recall: [0.35460993 0.38880249 0.33773862 0.36402878 0.35312024]\n",
      "\n",
      "mean recall: 0.360\n",
      "\n",
      "f2 score: 0.390\n"
     ]
    }
   ],
   "source": [
    "# logistic regression with two features\n",
    "\n",
    "lr_2 = LogisticRegression(solver='lbfgs')\n",
    "lr_2.fit(X_tr_val_2, y_tr_val_2)\n",
    "\n",
    "kf = KFold(n_splits=5, shuffle=True, random_state = 71)\n",
    "cv_results = cross_validate(lr_2, X_tr_val_2, y_tr_val_2, cv=kf, scoring='recall')\n",
    "\n",
    "y_pred_2 = lr_2.predict(X_tr_val_2)\n",
    "\n",
    "print(f\"recall: {(cv_results['test_score'])}\")\n",
    "print(\"\")\n",
    "print(f\"mean recall: {(np.mean(cv_results['test_score'])):.3f}\")\n",
    "print(\"\")\n",
    "print(f\"f2 score: {fbeta_score(y_tr_val_2, y_pred_2, beta=2):.3f}\")"
   ]
  },
  {
   "cell_type": "markdown",
   "id": "31c748f5",
   "metadata": {},
   "source": [
    "## Create third feature -> the type of force used by a member of service"
   ]
  },
  {
   "cell_type": "code",
   "execution_count": 97,
   "id": "b00d18da",
   "metadata": {},
   "outputs": [
    {
     "data": {
      "text/plain": [
       "Index(['tri_incident_number', 'incident_pct', 'patrol_borough',\n",
       "       'basisforencounter', 'occurrence_date_rev', 'year', 'month',\n",
       "       'forcetype_Firearm', 'forcetype_Impact Weapon', 'forcetype_OC Spray',\n",
       "       'forcetype_Physical Force', 'forcetype_Police Canine',\n",
       "       'forcetype_Restraining Mesh Blanket'],\n",
       "      dtype='object')"
      ]
     },
     "execution_count": 97,
     "metadata": {},
     "output_type": "execute_result"
    }
   ],
   "source": [
    "incidents.columns"
   ]
  },
  {
   "cell_type": "code",
   "execution_count": 96,
   "id": "96e2ca21",
   "metadata": {},
   "outputs": [
    {
     "data": {
      "text/plain": [
       "77"
      ]
     },
     "execution_count": 96,
     "metadata": {},
     "output_type": "execute_result"
    }
   ],
   "source": [
    "incidents['incident_pct'].nunique()"
   ]
  },
  {
   "cell_type": "code",
   "execution_count": 98,
   "id": "37a7f9c5",
   "metadata": {},
   "outputs": [
    {
     "data": {
      "text/plain": [
       "19"
      ]
     },
     "execution_count": 98,
     "metadata": {},
     "output_type": "execute_result"
    }
   ],
   "source": [
    "incidents['basisforencounter'].nunique()"
   ]
  },
  {
   "cell_type": "code",
   "execution_count": 92,
   "id": "9b320b45",
   "metadata": {},
   "outputs": [
    {
     "data": {
      "text/plain": [
       "Index(['subject_id', 'tri_incident_number', 'subject_used_force_Y',\n",
       "       'subject_injured', 'forcetype_Firearm', 'forcetype_Impact Weapon',\n",
       "       'forcetype_OC Spray', 'forcetype_Physical Force',\n",
       "       'forcetype_Police Canine', 'forcetype_Restraining Mesh Blanket'],\n",
       "      dtype='object')"
      ]
     },
     "execution_count": 92,
     "metadata": {},
     "output_type": "execute_result"
    }
   ],
   "source": [
    "df_X.columns"
   ]
  },
  {
   "cell_type": "code",
   "execution_count": 93,
   "id": "54a09014",
   "metadata": {},
   "outputs": [
    {
     "data": {
      "text/plain": [
       "0.0005291005291005291"
      ]
     },
     "execution_count": 93,
     "metadata": {},
     "output_type": "execute_result"
    }
   ],
   "source": [
    "# get ratio of features to rows\n",
    "(df_X.shape[1]-3)/len(df_X)"
   ]
  },
  {
   "cell_type": "code",
   "execution_count": 65,
   "id": "4ffb7da2",
   "metadata": {},
   "outputs": [],
   "source": [
    "# logistic regression with over-sampling\n",
    "\n",
    "# setup for the ratio argument of RandomOverSampler initialization\n",
    "#n_pos = np.sum(y_tr_val == 1)\n",
    "#n_neg = np.sum(y_tr_val == 0)\n",
    "#ratio = {1 : n_pos * 2, 0 : n_neg} \n",
    "\n",
    "# randomly oversample positive samples: create 10x as many \n",
    "#ROS = imblearn.over_sampling.RandomOverSampler(sampling_strategy = ratio, random_state=42) \n",
    "    \n",
    "#X_tr_val_rs, y_tr_val_rs = ROS.fit_resample(X_tr_val, y_tr_val)\n",
    "\n",
    "#lr_os = LogisticRegression(solver='lbfgs')\n",
    "#lr_os.fit(X_tr_val_rs, y_tr_val_rs)\n",
    "\n",
    "#kf = KFold(n_splits=5, shuffle=True, random_state = 71)\n",
    "#cv_results = cross_validate(lr_os, X_tr_val_rs, y_tr_val_rs, cv=kf, scoring='recall')\n",
    "\n",
    "#y_pred = lr_os.predict(X_tr_val)\n",
    "\n",
    "#print(f\"recall: {(cv_results['test_score'])}\")\n",
    "#print(\"\")\n",
    "#print(f\"mean recall: {(np.mean(cv_results['test_score'])):.3f}\")\n",
    "#print(\"\")\n",
    "#print(f\"f2 score: {fbeta_score(y_tr_val, y_pred, beta=2):.3f}\")"
   ]
  },
  {
   "cell_type": "code",
   "execution_count": 66,
   "id": "2c1a44d6",
   "metadata": {},
   "outputs": [],
   "source": [
    "#incidents_members = incidents.merge(members,how='left',on='TRI Incident Number')"
   ]
  },
  {
   "cell_type": "code",
   "execution_count": 67,
   "id": "c777379c",
   "metadata": {},
   "outputs": [],
   "source": [
    "#incidents_members.shape"
   ]
  },
  {
   "cell_type": "code",
   "execution_count": 68,
   "id": "7aa3263c",
   "metadata": {},
   "outputs": [],
   "source": [
    "#df_merged = incidents.merge(members,how='left',on='TRI Incident Number').merge(subjects, how='left', on='TRI Incident Number')"
   ]
  },
  {
   "cell_type": "code",
   "execution_count": 69,
   "id": "cc664092",
   "metadata": {},
   "outputs": [],
   "source": [
    "#df_merged.shape"
   ]
  },
  {
   "cell_type": "code",
   "execution_count": 70,
   "id": "7bb45c6f",
   "metadata": {},
   "outputs": [],
   "source": [
    "#df_merged.columns"
   ]
  },
  {
   "cell_type": "code",
   "execution_count": 71,
   "id": "a6539cf8",
   "metadata": {},
   "outputs": [],
   "source": [
    "#df_merged['TRI Incident Number'].nunique()"
   ]
  },
  {
   "cell_type": "code",
   "execution_count": null,
   "id": "da068f89",
   "metadata": {},
   "outputs": [],
   "source": []
  }
 ],
 "metadata": {
  "kernelspec": {
   "display_name": "Python [conda env:metis] *",
   "language": "python",
   "name": "conda-env-metis-py"
  },
  "language_info": {
   "codemirror_mode": {
    "name": "ipython",
    "version": 3
   },
   "file_extension": ".py",
   "mimetype": "text/x-python",
   "name": "python",
   "nbconvert_exporter": "python",
   "pygments_lexer": "ipython3",
   "version": "3.8.10"
  }
 },
 "nbformat": 4,
 "nbformat_minor": 5
}
