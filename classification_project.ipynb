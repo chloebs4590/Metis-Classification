{
 "cells": [
  {
   "cell_type": "code",
   "execution_count": 64,
   "metadata": {},
   "outputs": [],
   "source": [
    "import pandas as pd\n",
    "import numpy as np\n",
    "import seaborn as sns\n",
    "import matplotlib.pyplot as plt\n",
    "import matplotlib.cm as cm\n",
    "import statistics\n",
    "import os\n",
    "\n",
    "from sklearn.preprocessing import StandardScaler\n",
    "from sklearn.linear_model import LogisticRegression\n",
    "from sklearn.model_selection import KFold\n",
    "from sklearn.model_selection import cross_validate\n",
    "from sklearn.model_selection import train_test_split\n",
    "from sklearn.metrics import f1_score\n",
    "from sklearn.metrics import recall_score"
   ]
  },
  {
   "cell_type": "code",
   "execution_count": 4,
   "metadata": {},
   "outputs": [
    {
     "data": {
      "text/plain": [
       "'/Users/chloebergsma-safar/Desktop/Metis/NBM_Classification_Project'"
      ]
     },
     "execution_count": 4,
     "metadata": {},
     "output_type": "execute_result"
    }
   ],
   "source": [
    "os.getcwd()"
   ]
  },
  {
   "cell_type": "markdown",
   "metadata": {},
   "source": [
    "# Read in Housing Maintenance Code Violations\n",
    "\n",
    "Violations of order #s 616 or 617, which correspond to lead-based paint violations that both constitute class C \"immediately hazardous\" violations"
   ]
  },
  {
   "cell_type": "code",
   "execution_count": 5,
   "metadata": {},
   "outputs": [],
   "source": [
    "# this Housing Maintenance Code Violations dataset uses the following filter: OrderNumber is 616 OR 617 (lead-based paint)\n",
    "violations = pd.read_csv('Housing_Maintenance_Code_Violations_lead.csv')"
   ]
  },
  {
   "cell_type": "code",
   "execution_count": 6,
   "metadata": {},
   "outputs": [
    {
     "data": {
      "text/plain": [
       "(170281, 41)"
      ]
     },
     "execution_count": 6,
     "metadata": {},
     "output_type": "execute_result"
    }
   ],
   "source": [
    "violations.shape"
   ]
  },
  {
   "cell_type": "code",
   "execution_count": 7,
   "metadata": {},
   "outputs": [
    {
     "data": {
      "text/html": [
       "<div>\n",
       "<style scoped>\n",
       "    .dataframe tbody tr th:only-of-type {\n",
       "        vertical-align: middle;\n",
       "    }\n",
       "\n",
       "    .dataframe tbody tr th {\n",
       "        vertical-align: top;\n",
       "    }\n",
       "\n",
       "    .dataframe thead th {\n",
       "        text-align: right;\n",
       "    }\n",
       "</style>\n",
       "<table border=\"1\" class=\"dataframe\">\n",
       "  <thead>\n",
       "    <tr style=\"text-align: right;\">\n",
       "      <th></th>\n",
       "      <th>Postcode</th>\n",
       "      <th>Apartment</th>\n",
       "      <th>Story</th>\n",
       "      <th>Block</th>\n",
       "      <th>Lot</th>\n",
       "      <th>Class</th>\n",
       "      <th>InspectionDate</th>\n",
       "      <th>ApprovedDate</th>\n",
       "      <th>OriginalCertifyByDate</th>\n",
       "      <th>OriginalCorrectByDate</th>\n",
       "    </tr>\n",
       "  </thead>\n",
       "  <tbody>\n",
       "    <tr>\n",
       "      <th>0</th>\n",
       "      <td>10451.0</td>\n",
       "      <td>31F</td>\n",
       "      <td>5</td>\n",
       "      <td>2482</td>\n",
       "      <td>1</td>\n",
       "      <td>C</td>\n",
       "      <td>10/08/2013</td>\n",
       "      <td>10/09/2013</td>\n",
       "      <td>11/12/2013</td>\n",
       "      <td>11/07/2013</td>\n",
       "    </tr>\n",
       "    <tr>\n",
       "      <th>1</th>\n",
       "      <td>10457.0</td>\n",
       "      <td>3A</td>\n",
       "      <td>3</td>\n",
       "      <td>2825</td>\n",
       "      <td>10</td>\n",
       "      <td>C</td>\n",
       "      <td>10/09/2013</td>\n",
       "      <td>10/17/2013</td>\n",
       "      <td>11/20/2013</td>\n",
       "      <td>11/15/2013</td>\n",
       "    </tr>\n",
       "    <tr>\n",
       "      <th>2</th>\n",
       "      <td>10457.0</td>\n",
       "      <td>3A</td>\n",
       "      <td>3</td>\n",
       "      <td>2825</td>\n",
       "      <td>10</td>\n",
       "      <td>C</td>\n",
       "      <td>10/09/2013</td>\n",
       "      <td>10/17/2013</td>\n",
       "      <td>11/20/2013</td>\n",
       "      <td>11/15/2013</td>\n",
       "    </tr>\n",
       "    <tr>\n",
       "      <th>3</th>\n",
       "      <td>10466.0</td>\n",
       "      <td>2F</td>\n",
       "      <td>2</td>\n",
       "      <td>4840</td>\n",
       "      <td>57</td>\n",
       "      <td>C</td>\n",
       "      <td>11/20/2013</td>\n",
       "      <td>12/03/2013</td>\n",
       "      <td>01/06/2014</td>\n",
       "      <td>01/01/2014</td>\n",
       "    </tr>\n",
       "    <tr>\n",
       "      <th>4</th>\n",
       "      <td>11358.0</td>\n",
       "      <td>2C</td>\n",
       "      <td>2</td>\n",
       "      <td>5331</td>\n",
       "      <td>8</td>\n",
       "      <td>C</td>\n",
       "      <td>10/19/2013</td>\n",
       "      <td>10/26/2013</td>\n",
       "      <td>11/30/2013</td>\n",
       "      <td>11/25/2013</td>\n",
       "    </tr>\n",
       "    <tr>\n",
       "      <th>...</th>\n",
       "      <td>...</td>\n",
       "      <td>...</td>\n",
       "      <td>...</td>\n",
       "      <td>...</td>\n",
       "      <td>...</td>\n",
       "      <td>...</td>\n",
       "      <td>...</td>\n",
       "      <td>...</td>\n",
       "      <td>...</td>\n",
       "      <td>...</td>\n",
       "    </tr>\n",
       "    <tr>\n",
       "      <th>170276</th>\n",
       "      <td>11226.0</td>\n",
       "      <td>A2</td>\n",
       "      <td>1</td>\n",
       "      <td>5221</td>\n",
       "      <td>86</td>\n",
       "      <td>C</td>\n",
       "      <td>12/14/2021</td>\n",
       "      <td>12/17/2021</td>\n",
       "      <td>01/18/2022</td>\n",
       "      <td>01/13/2022</td>\n",
       "    </tr>\n",
       "    <tr>\n",
       "      <th>170277</th>\n",
       "      <td>11226.0</td>\n",
       "      <td>A2</td>\n",
       "      <td>1</td>\n",
       "      <td>5221</td>\n",
       "      <td>86</td>\n",
       "      <td>C</td>\n",
       "      <td>12/14/2021</td>\n",
       "      <td>12/17/2021</td>\n",
       "      <td>01/18/2022</td>\n",
       "      <td>01/13/2022</td>\n",
       "    </tr>\n",
       "    <tr>\n",
       "      <th>170278</th>\n",
       "      <td>10458.0</td>\n",
       "      <td>B</td>\n",
       "      <td>1</td>\n",
       "      <td>3309</td>\n",
       "      <td>25</td>\n",
       "      <td>C</td>\n",
       "      <td>10/18/2006</td>\n",
       "      <td>10/19/2006</td>\n",
       "      <td>11/20/2006</td>\n",
       "      <td>11/15/2006</td>\n",
       "    </tr>\n",
       "    <tr>\n",
       "      <th>170279</th>\n",
       "      <td>10458.0</td>\n",
       "      <td>B</td>\n",
       "      <td>1</td>\n",
       "      <td>3309</td>\n",
       "      <td>25</td>\n",
       "      <td>C</td>\n",
       "      <td>10/18/2006</td>\n",
       "      <td>10/19/2006</td>\n",
       "      <td>11/20/2006</td>\n",
       "      <td>11/15/2006</td>\n",
       "    </tr>\n",
       "    <tr>\n",
       "      <th>170280</th>\n",
       "      <td>10458.0</td>\n",
       "      <td>B</td>\n",
       "      <td>1</td>\n",
       "      <td>3309</td>\n",
       "      <td>25</td>\n",
       "      <td>C</td>\n",
       "      <td>10/18/2006</td>\n",
       "      <td>10/19/2006</td>\n",
       "      <td>11/20/2006</td>\n",
       "      <td>11/15/2006</td>\n",
       "    </tr>\n",
       "  </tbody>\n",
       "</table>\n",
       "<p>170281 rows × 10 columns</p>\n",
       "</div>"
      ],
      "text/plain": [
       "        Postcode Apartment Story  Block  Lot Class InspectionDate  \\\n",
       "0        10451.0       31F     5   2482    1     C     10/08/2013   \n",
       "1        10457.0        3A     3   2825   10     C     10/09/2013   \n",
       "2        10457.0        3A     3   2825   10     C     10/09/2013   \n",
       "3        10466.0        2F     2   4840   57     C     11/20/2013   \n",
       "4        11358.0        2C     2   5331    8     C     10/19/2013   \n",
       "...          ...       ...   ...    ...  ...   ...            ...   \n",
       "170276   11226.0        A2     1   5221   86     C     12/14/2021   \n",
       "170277   11226.0        A2     1   5221   86     C     12/14/2021   \n",
       "170278   10458.0         B     1   3309   25     C     10/18/2006   \n",
       "170279   10458.0         B     1   3309   25     C     10/18/2006   \n",
       "170280   10458.0         B     1   3309   25     C     10/18/2006   \n",
       "\n",
       "       ApprovedDate OriginalCertifyByDate OriginalCorrectByDate  \n",
       "0        10/09/2013            11/12/2013            11/07/2013  \n",
       "1        10/17/2013            11/20/2013            11/15/2013  \n",
       "2        10/17/2013            11/20/2013            11/15/2013  \n",
       "3        12/03/2013            01/06/2014            01/01/2014  \n",
       "4        10/26/2013            11/30/2013            11/25/2013  \n",
       "...             ...                   ...                   ...  \n",
       "170276   12/17/2021            01/18/2022            01/13/2022  \n",
       "170277   12/17/2021            01/18/2022            01/13/2022  \n",
       "170278   10/19/2006            11/20/2006            11/15/2006  \n",
       "170279   10/19/2006            11/20/2006            11/15/2006  \n",
       "170280   10/19/2006            11/20/2006            11/15/2006  \n",
       "\n",
       "[170281 rows x 10 columns]"
      ]
     },
     "execution_count": 7,
     "metadata": {},
     "output_type": "execute_result"
    }
   ],
   "source": [
    "violations.iloc[:,10:20]"
   ]
  },
  {
   "cell_type": "code",
   "execution_count": 8,
   "metadata": {},
   "outputs": [
    {
     "data": {
      "text/plain": [
       "Index(['ViolationID', 'BuildingID', 'RegistrationID', 'BoroID', 'Borough',\n",
       "       'HouseNumber', 'LowHouseNumber', 'HighHouseNumber', 'StreetName',\n",
       "       'StreetCode', 'Postcode', 'Apartment', 'Story', 'Block', 'Lot', 'Class',\n",
       "       'InspectionDate', 'ApprovedDate', 'OriginalCertifyByDate',\n",
       "       'OriginalCorrectByDate', 'NewCertifyByDate', 'NewCorrectByDate',\n",
       "       'CertifiedDate', 'OrderNumber', 'NOVID', 'NOVDescription',\n",
       "       'NOVIssuedDate', 'CurrentStatusID', 'CurrentStatus',\n",
       "       'CurrentStatusDate', 'NovType', 'ViolationStatus', 'RentImpairing',\n",
       "       'Latitude', 'Longitude', 'CommunityBoard', 'CouncilDistrict',\n",
       "       'CensusTract', 'BIN', 'BBL', 'NTA'],\n",
       "      dtype='object')"
      ]
     },
     "execution_count": 8,
     "metadata": {},
     "output_type": "execute_result"
    }
   ],
   "source": [
    "violations.columns"
   ]
  },
  {
   "cell_type": "code",
   "execution_count": 10,
   "metadata": {},
   "outputs": [
    {
     "data": {
      "text/plain": [
       "Close    123946\n",
       "Open      46335\n",
       "Name: ViolationStatus, dtype: int64"
      ]
     },
     "execution_count": 10,
     "metadata": {},
     "output_type": "execute_result"
    }
   ],
   "source": [
    "# look at values in ViolationStatus column\n",
    "\n",
    "violations['ViolationStatus'].value_counts()"
   ]
  },
  {
   "cell_type": "code",
   "execution_count": 11,
   "metadata": {},
   "outputs": [],
   "source": [
    "# drop closed violations\n",
    "\n",
    "violations_open = violations.loc[violations['ViolationStatus'] == 'Open']"
   ]
  },
  {
   "cell_type": "code",
   "execution_count": 12,
   "metadata": {},
   "outputs": [
    {
     "data": {
      "text/plain": [
       "DEFECT LETTER ISSUED                        14407\n",
       "NOV SENT OUT                                13625\n",
       "FIRST NO ACCESS TO RE- INSPECT VIOLATION     8828\n",
       "CERTIFICATION POSTPONMENT GRANTED            2316\n",
       "NOT COMPLIED WITH                            1595\n",
       "INVALID CERTIFICATION                        1583\n",
       "NOV CERTIFIED LATE                           1230\n",
       "CERTIFICATION POSTPONMENT DENIED             1213\n",
       "SECOND NO ACCESS TO RE-INSPECT VIOLATION      748\n",
       "VIOLATION WILL BE REINSPECTED                 558\n",
       "CIV14 MAILED                                  134\n",
       "VIOLATION OPEN                                 45\n",
       "VIOLATION REOPEN                               35\n",
       "NOV CERTIFIED ON TIME                          16\n",
       "FALSE CERTIFICATION                             2\n",
       "Name: CurrentStatus, dtype: int64"
      ]
     },
     "execution_count": 12,
     "metadata": {},
     "output_type": "execute_result"
    }
   ],
   "source": [
    "# look at values in CurrentStatus column\n",
    "\n",
    "violations_open['CurrentStatus'].value_counts()"
   ]
  },
  {
   "cell_type": "code",
   "execution_count": 13,
   "metadata": {},
   "outputs": [
    {
     "name": "stderr",
     "output_type": "stream",
     "text": [
      "<ipython-input-13-84766d2ca133>:3: SettingWithCopyWarning: \n",
      "A value is trying to be set on a copy of a slice from a DataFrame.\n",
      "Try using .loc[row_indexer,col_indexer] = value instead\n",
      "\n",
      "See the caveats in the documentation: https://pandas.pydata.org/pandas-docs/stable/user_guide/indexing.html#returning-a-view-versus-a-copy\n",
      "  violations_open['Not_Complied_With'] = violations_open['CurrentStatus'].apply(lambda x: 1 if x == 'NOT COMPLIED WITH' else 0)\n"
     ]
    }
   ],
   "source": [
    "# create new column of for 'Not Complied With' vs everything else from CurrentStatus\n",
    "\n",
    "violations_open['Not_Complied_With'] = violations_open['CurrentStatus'].apply(lambda x: 1 if x == 'NOT COMPLIED WITH' else 0)"
   ]
  },
  {
   "cell_type": "code",
   "execution_count": 14,
   "metadata": {},
   "outputs": [
    {
     "name": "stderr",
     "output_type": "stream",
     "text": [
      "<ipython-input-14-2d379c3cf3e8>:5: SettingWithCopyWarning: \n",
      "A value is trying to be set on a copy of a slice from a DataFrame.\n",
      "Try using .loc[row_indexer,col_indexer] = value instead\n",
      "\n",
      "See the caveats in the documentation: https://pandas.pydata.org/pandas-docs/stable/user_guide/indexing.html#returning-a-view-versus-a-copy\n",
      "  violations_open['Not_Complied_With_False_Cert'] = violations_open['CurrentStatus'].apply(lambda x: 1 if x in statuses else 0)\n"
     ]
    }
   ],
   "source": [
    "# create new column of for ('Not Complied With' or 'False Certification') vs everything else from CurrentStatus\n",
    "\n",
    "statuses = ['NOT COMPLIED WITH', 'FALSE CERTIFICATION']\n",
    "\n",
    "violations_open['Not_Complied_With_False_Cert'] = violations_open['CurrentStatus'].apply(lambda x: 1 if x in statuses else 0)"
   ]
  },
  {
   "cell_type": "code",
   "execution_count": 15,
   "metadata": {},
   "outputs": [
    {
     "data": {
      "text/plain": [
       "0    44740\n",
       "1     1595\n",
       "Name: Not_Complied_With, dtype: int64"
      ]
     },
     "execution_count": 15,
     "metadata": {},
     "output_type": "execute_result"
    }
   ],
   "source": [
    "violations_open['Not_Complied_With'].value_counts()"
   ]
  },
  {
   "cell_type": "code",
   "execution_count": 16,
   "metadata": {},
   "outputs": [
    {
     "data": {
      "text/plain": [
       "0    44738\n",
       "1     1597\n",
       "Name: Not_Complied_With_False_Cert, dtype: int64"
      ]
     },
     "execution_count": 16,
     "metadata": {},
     "output_type": "execute_result"
    }
   ],
   "source": [
    "violations_open['Not_Complied_With_False_Cert'].value_counts()"
   ]
  },
  {
   "cell_type": "code",
   "execution_count": 17,
   "metadata": {},
   "outputs": [
    {
     "name": "stdout",
     "output_type": "stream",
     "text": [
      "0.03446638610121938\n"
     ]
    }
   ],
   "source": [
    "# frequency of cases resulting in 'Not Complied With' or 'False Certification' status\n",
    "\n",
    "print(len(violations_open[violations_open['Not_Complied_With_False_Cert'] == 1])/len(violations_open))"
   ]
  },
  {
   "cell_type": "code",
   "execution_count": 18,
   "metadata": {},
   "outputs": [
    {
     "name": "stderr",
     "output_type": "stream",
     "text": [
      "/opt/anaconda3/lib/python3.8/site-packages/pandas/core/frame.py:2963: SettingWithCopyWarning: \n",
      "A value is trying to be set on a copy of a slice from a DataFrame.\n",
      "Try using .loc[row_indexer,col_indexer] = value instead\n",
      "\n",
      "See the caveats in the documentation: https://pandas.pydata.org/pandas-docs/stable/user_guide/indexing.html#returning-a-view-versus-a-copy\n",
      "  self[k1] = value[k2]\n"
     ]
    }
   ],
   "source": [
    "# convert date columns to datetime\n",
    "\n",
    "date_cols = ['NOVIssuedDate','CurrentStatusDate']\n",
    "\n",
    "violations_open[date_cols] = violations_open[date_cols].apply(pd.to_datetime)"
   ]
  },
  {
   "cell_type": "code",
   "execution_count": 19,
   "metadata": {},
   "outputs": [
    {
     "name": "stderr",
     "output_type": "stream",
     "text": [
      "<ipython-input-19-116c3e1fc7d3>:3: SettingWithCopyWarning: \n",
      "A value is trying to be set on a copy of a slice from a DataFrame.\n",
      "Try using .loc[row_indexer,col_indexer] = value instead\n",
      "\n",
      "See the caveats in the documentation: https://pandas.pydata.org/pandas-docs/stable/user_guide/indexing.html#returning-a-view-versus-a-copy\n",
      "  violations_open['Days_to_status'] = violations_open['CurrentStatusDate'] - violations_open['NOVIssuedDate']\n"
     ]
    }
   ],
   "source": [
    "# create new column that calculates the # of days between NOVIssuedDate and CurrentStatus\n",
    "\n",
    "violations_open['Days_to_status'] = violations_open['CurrentStatusDate'] - violations_open['NOVIssuedDate']"
   ]
  },
  {
   "cell_type": "code",
   "execution_count": 20,
   "metadata": {},
   "outputs": [
    {
     "data": {
      "text/plain": [
       "(46335, 44)"
      ]
     },
     "execution_count": 20,
     "metadata": {},
     "output_type": "execute_result"
    }
   ],
   "source": [
    "violations_open.shape"
   ]
  },
  {
   "cell_type": "code",
   "execution_count": 21,
   "metadata": {},
   "outputs": [
    {
     "name": "stdout",
     "output_type": "stream",
     "text": [
      "<class 'pandas.core.frame.DataFrame'>\n",
      "Int64Index: 46335 entries, 24 to 170277\n",
      "Data columns (total 44 columns):\n",
      " #   Column                        Non-Null Count  Dtype          \n",
      "---  ------                        --------------  -----          \n",
      " 0   ViolationID                   46335 non-null  int64          \n",
      " 1   BuildingID                    46335 non-null  int64          \n",
      " 2   RegistrationID                46335 non-null  int64          \n",
      " 3   BoroID                        46335 non-null  int64          \n",
      " 4   Borough                       46335 non-null  object         \n",
      " 5   HouseNumber                   46335 non-null  object         \n",
      " 6   LowHouseNumber                46335 non-null  object         \n",
      " 7   HighHouseNumber               46335 non-null  object         \n",
      " 8   StreetName                    46335 non-null  object         \n",
      " 9   StreetCode                    46335 non-null  int64          \n",
      " 10  Postcode                      46334 non-null  float64        \n",
      " 11  Apartment                     46318 non-null  object         \n",
      " 12  Story                         46299 non-null  object         \n",
      " 13  Block                         46335 non-null  int64          \n",
      " 14  Lot                           46335 non-null  int64          \n",
      " 15  Class                         46335 non-null  object         \n",
      " 16  InspectionDate                46335 non-null  object         \n",
      " 17  ApprovedDate                  46335 non-null  object         \n",
      " 18  OriginalCertifyByDate         46283 non-null  object         \n",
      " 19  OriginalCorrectByDate         46283 non-null  object         \n",
      " 20  NewCertifyByDate              8360 non-null   object         \n",
      " 21  NewCorrectByDate              8360 non-null   object         \n",
      " 22  CertifiedDate                 5459 non-null   object         \n",
      " 23  OrderNumber                   46335 non-null  int64          \n",
      " 24  NOVID                         46283 non-null  float64        \n",
      " 25  NOVDescription                46335 non-null  object         \n",
      " 26  NOVIssuedDate                 46283 non-null  datetime64[ns] \n",
      " 27  CurrentStatusID               46335 non-null  int64          \n",
      " 28  CurrentStatus                 46335 non-null  object         \n",
      " 29  CurrentStatusDate             46335 non-null  datetime64[ns] \n",
      " 30  NovType                       46283 non-null  object         \n",
      " 31  ViolationStatus               46335 non-null  object         \n",
      " 32  RentImpairing                 46335 non-null  object         \n",
      " 33  Latitude                      46328 non-null  float64        \n",
      " 34  Longitude                     46328 non-null  float64        \n",
      " 35  CommunityBoard                46328 non-null  float64        \n",
      " 36  CouncilDistrict               46328 non-null  float64        \n",
      " 37  CensusTract                   46328 non-null  float64        \n",
      " 38  BIN                           46291 non-null  float64        \n",
      " 39  BBL                           46291 non-null  float64        \n",
      " 40  NTA                           46328 non-null  object         \n",
      " 41  Not_Complied_With             46335 non-null  int64          \n",
      " 42  Not_Complied_With_False_Cert  46335 non-null  int64          \n",
      " 43  Days_to_status                46283 non-null  timedelta64[ns]\n",
      "dtypes: datetime64[ns](2), float64(9), int64(11), object(21), timedelta64[ns](1)\n",
      "memory usage: 15.9+ MB\n"
     ]
    }
   ],
   "source": [
    "violations_open.info()"
   ]
  },
  {
   "cell_type": "code",
   "execution_count": 22,
   "metadata": {},
   "outputs": [],
   "source": [
    "# drop columns not needed for analysis\n",
    "\n",
    "violations_open_rev = violations_open.drop(['RegistrationID','Borough','HouseNumber','LowHouseNumber',\n",
    "                                           'HighHouseNumber','StreetName','StreetCode','Apartment',\n",
    "                                           'Class','InspectionDate','ApprovedDate','OriginalCertifyByDate',\n",
    "                                           'OriginalCorrectByDate','NewCertifyByDate','NewCorrectByDate',\n",
    "                                           'CertifiedDate','NOVID','NOVDescription','NOVIssuedDate',\n",
    "                                           'CurrentStatusID','CurrentStatus','NovType','ViolationStatus',\n",
    "                                           'RentImpairing','Latitude','Longitude','CouncilDistrict',\n",
    "                                           'NTA'],axis=1)"
   ]
  },
  {
   "cell_type": "code",
   "execution_count": 23,
   "metadata": {},
   "outputs": [
    {
     "name": "stdout",
     "output_type": "stream",
     "text": [
      "<class 'pandas.core.frame.DataFrame'>\n",
      "Int64Index: 46335 entries, 24 to 170277\n",
      "Data columns (total 16 columns):\n",
      " #   Column                        Non-Null Count  Dtype          \n",
      "---  ------                        --------------  -----          \n",
      " 0   ViolationID                   46335 non-null  int64          \n",
      " 1   BuildingID                    46335 non-null  int64          \n",
      " 2   BoroID                        46335 non-null  int64          \n",
      " 3   Postcode                      46334 non-null  float64        \n",
      " 4   Story                         46299 non-null  object         \n",
      " 5   Block                         46335 non-null  int64          \n",
      " 6   Lot                           46335 non-null  int64          \n",
      " 7   OrderNumber                   46335 non-null  int64          \n",
      " 8   CurrentStatusDate             46335 non-null  datetime64[ns] \n",
      " 9   CommunityBoard                46328 non-null  float64        \n",
      " 10  CensusTract                   46328 non-null  float64        \n",
      " 11  BIN                           46291 non-null  float64        \n",
      " 12  BBL                           46291 non-null  float64        \n",
      " 13  Not_Complied_With             46335 non-null  int64          \n",
      " 14  Not_Complied_With_False_Cert  46335 non-null  int64          \n",
      " 15  Days_to_status                46283 non-null  timedelta64[ns]\n",
      "dtypes: datetime64[ns](1), float64(5), int64(8), object(1), timedelta64[ns](1)\n",
      "memory usage: 6.0+ MB\n"
     ]
    }
   ],
   "source": [
    "violations_open_rev.info()"
   ]
  },
  {
   "cell_type": "code",
   "execution_count": 44,
   "metadata": {},
   "outputs": [
    {
     "data": {
      "text/plain": [
       "2                 13109\n",
       "3                 10140\n",
       "1                  9622\n",
       "4                  6427\n",
       "5                  3559\n",
       "6                  2169\n",
       "Basement            611\n",
       "7                   134\n",
       "10                  107\n",
       "8                    58\n",
       "9                    55\n",
       "All Stories          41\n",
       "Cellar               40\n",
       "11                   40\n",
       "12                   30\n",
       "15                   30\n",
       "Yards / Courts       28\n",
       "14                   26\n",
       "13                   20\n",
       "Fire Escape           9\n",
       "24                    7\n",
       "17                    6\n",
       "16                    5\n",
       "23                    5\n",
       "Penthouse             5\n",
       "20                    4\n",
       "22                    3\n",
       "19                    2\n",
       "18                    2\n",
       "28                    1\n",
       "26                    1\n",
       "36                    1\n",
       "32                    1\n",
       "908                   1\n",
       "Name: Story, dtype: int64"
      ]
     },
     "execution_count": 44,
     "metadata": {},
     "output_type": "execute_result"
    }
   ],
   "source": [
    "# examine Story column\n",
    "\n",
    "violations_open_rev['Story'].value_counts()"
   ]
  },
  {
   "cell_type": "code",
   "execution_count": 57,
   "metadata": {},
   "outputs": [],
   "source": [
    "# create new column for recoding story and replace nan in new column with 999\n",
    "\n",
    "fl_0 = ['Basement','Cellar']\n",
    "fl_999 = ['All Stories','Yards / Courts','Fire Escape','Penthouse','908', np.nan]\n",
    "\n",
    "def story_rev(row):\n",
    "    if row['Story'] in fl_0:\n",
    "        return int(0)\n",
    "    elif row['Story'] in fl_999:\n",
    "        return int(999)\n",
    "    else:\n",
    "        return int(row['Story'])\n",
    "    \n",
    "violations_open_rev['Story_rev'] = violations_open_rev.apply(lambda row: story_rev(row),axis=1)"
   ]
  },
  {
   "cell_type": "code",
   "execution_count": 60,
   "metadata": {},
   "outputs": [],
   "source": [
    "# create column that counts # of violations per buildingID\n",
    "\n",
    "violations_open_rev['Violations_Count'] = violations_open_rev.groupby('BuildingID')['ViolationID'].transform('count')"
   ]
  },
  {
   "cell_type": "code",
   "execution_count": 61,
   "metadata": {},
   "outputs": [
    {
     "data": {
      "text/html": [
       "<div>\n",
       "<style scoped>\n",
       "    .dataframe tbody tr th:only-of-type {\n",
       "        vertical-align: middle;\n",
       "    }\n",
       "\n",
       "    .dataframe tbody tr th {\n",
       "        vertical-align: top;\n",
       "    }\n",
       "\n",
       "    .dataframe thead th {\n",
       "        text-align: right;\n",
       "    }\n",
       "</style>\n",
       "<table border=\"1\" class=\"dataframe\">\n",
       "  <thead>\n",
       "    <tr style=\"text-align: right;\">\n",
       "      <th></th>\n",
       "      <th>ViolationID</th>\n",
       "      <th>BuildingID</th>\n",
       "      <th>BoroID</th>\n",
       "      <th>Postcode</th>\n",
       "      <th>Story</th>\n",
       "      <th>Block</th>\n",
       "      <th>Lot</th>\n",
       "      <th>OrderNumber</th>\n",
       "      <th>CurrentStatusDate</th>\n",
       "      <th>CommunityBoard</th>\n",
       "      <th>CensusTract</th>\n",
       "      <th>BIN</th>\n",
       "      <th>BBL</th>\n",
       "      <th>Not_Complied_With</th>\n",
       "      <th>Not_Complied_With_False_Cert</th>\n",
       "      <th>Days_to_status</th>\n",
       "      <th>Violations_Count</th>\n",
       "      <th>Story_rev</th>\n",
       "    </tr>\n",
       "  </thead>\n",
       "  <tbody>\n",
       "    <tr>\n",
       "      <th>77565</th>\n",
       "      <td>12338168</td>\n",
       "      <td>56477</td>\n",
       "      <td>2</td>\n",
       "      <td>10464.0</td>\n",
       "      <td>3</td>\n",
       "      <td>5646</td>\n",
       "      <td>2</td>\n",
       "      <td>617</td>\n",
       "      <td>2018-08-25</td>\n",
       "      <td>10.0</td>\n",
       "      <td>516.0</td>\n",
       "      <td>2082784.0</td>\n",
       "      <td>2.056460e+09</td>\n",
       "      <td>0</td>\n",
       "      <td>0</td>\n",
       "      <td>130 days</td>\n",
       "      <td>1</td>\n",
       "      <td>3</td>\n",
       "    </tr>\n",
       "    <tr>\n",
       "      <th>76173</th>\n",
       "      <td>12169166</td>\n",
       "      <td>821715</td>\n",
       "      <td>3</td>\n",
       "      <td>11238.0</td>\n",
       "      <td>1</td>\n",
       "      <td>1148</td>\n",
       "      <td>5</td>\n",
       "      <td>616</td>\n",
       "      <td>2018-01-04</td>\n",
       "      <td>8.0</td>\n",
       "      <td>305.0</td>\n",
       "      <td>3348539.0</td>\n",
       "      <td>3.011480e+09</td>\n",
       "      <td>0</td>\n",
       "      <td>0</td>\n",
       "      <td>0 days</td>\n",
       "      <td>1</td>\n",
       "      <td>1</td>\n",
       "    </tr>\n",
       "    <tr>\n",
       "      <th>149567</th>\n",
       "      <td>6651338</td>\n",
       "      <td>4179</td>\n",
       "      <td>1</td>\n",
       "      <td>10039.0</td>\n",
       "      <td>1</td>\n",
       "      <td>2046</td>\n",
       "      <td>29</td>\n",
       "      <td>617</td>\n",
       "      <td>2013-07-19</td>\n",
       "      <td>10.0</td>\n",
       "      <td>23502.0</td>\n",
       "      <td>1060861.0</td>\n",
       "      <td>1.020460e+09</td>\n",
       "      <td>0</td>\n",
       "      <td>0</td>\n",
       "      <td>2314 days</td>\n",
       "      <td>1</td>\n",
       "      <td>1</td>\n",
       "    </tr>\n",
       "    <tr>\n",
       "      <th>76154</th>\n",
       "      <td>12165885</td>\n",
       "      <td>832394</td>\n",
       "      <td>3</td>\n",
       "      <td>NaN</td>\n",
       "      <td>3</td>\n",
       "      <td>8543</td>\n",
       "      <td>7501</td>\n",
       "      <td>616</td>\n",
       "      <td>2018-01-02</td>\n",
       "      <td>NaN</td>\n",
       "      <td>NaN</td>\n",
       "      <td>NaN</td>\n",
       "      <td>NaN</td>\n",
       "      <td>0</td>\n",
       "      <td>0</td>\n",
       "      <td>0 days</td>\n",
       "      <td>1</td>\n",
       "      <td>3</td>\n",
       "    </tr>\n",
       "    <tr>\n",
       "      <th>149579</th>\n",
       "      <td>9429369</td>\n",
       "      <td>2522</td>\n",
       "      <td>1</td>\n",
       "      <td>10029.0</td>\n",
       "      <td>5</td>\n",
       "      <td>1617</td>\n",
       "      <td>7501</td>\n",
       "      <td>616</td>\n",
       "      <td>2020-02-27</td>\n",
       "      <td>11.0</td>\n",
       "      <td>17402.0</td>\n",
       "      <td>1086046.0</td>\n",
       "      <td>1.016178e+09</td>\n",
       "      <td>0</td>\n",
       "      <td>0</td>\n",
       "      <td>2851 days</td>\n",
       "      <td>1</td>\n",
       "      <td>5</td>\n",
       "    </tr>\n",
       "  </tbody>\n",
       "</table>\n",
       "</div>"
      ],
      "text/plain": [
       "        ViolationID  BuildingID  BoroID  Postcode Story  Block   Lot  \\\n",
       "77565      12338168       56477       2   10464.0     3   5646     2   \n",
       "76173      12169166      821715       3   11238.0     1   1148     5   \n",
       "149567      6651338        4179       1   10039.0     1   2046    29   \n",
       "76154      12165885      832394       3       NaN     3   8543  7501   \n",
       "149579      9429369        2522       1   10029.0     5   1617  7501   \n",
       "\n",
       "        OrderNumber CurrentStatusDate  CommunityBoard  CensusTract        BIN  \\\n",
       "77565           617        2018-08-25            10.0        516.0  2082784.0   \n",
       "76173           616        2018-01-04             8.0        305.0  3348539.0   \n",
       "149567          617        2013-07-19            10.0      23502.0  1060861.0   \n",
       "76154           616        2018-01-02             NaN          NaN        NaN   \n",
       "149579          616        2020-02-27            11.0      17402.0  1086046.0   \n",
       "\n",
       "                 BBL  Not_Complied_With  Not_Complied_With_False_Cert  \\\n",
       "77565   2.056460e+09                  0                             0   \n",
       "76173   3.011480e+09                  0                             0   \n",
       "149567  1.020460e+09                  0                             0   \n",
       "76154            NaN                  0                             0   \n",
       "149579  1.016178e+09                  0                             0   \n",
       "\n",
       "       Days_to_status  Violations_Count  Story_rev  \n",
       "77565        130 days                 1          3  \n",
       "76173          0 days                 1          1  \n",
       "149567      2314 days                 1          1  \n",
       "76154          0 days                 1          3  \n",
       "149579      2851 days                 1          5  "
      ]
     },
     "execution_count": 61,
     "metadata": {},
     "output_type": "execute_result"
    }
   ],
   "source": [
    "violations_open_rev.sort_values(by='Violations_Count').head()"
   ]
  },
  {
   "cell_type": "code",
   "execution_count": 62,
   "metadata": {},
   "outputs": [
    {
     "name": "stdout",
     "output_type": "stream",
     "text": [
      "0    0.965534\n",
      "1    0.034466\n",
      "Name: Not_Complied_With_False_Cert, dtype: float64\n"
     ]
    },
    {
     "data": {
      "text/plain": [
       "<matplotlib.axes._subplots.AxesSubplot at 0x7fadb0a07d30>"
      ]
     },
     "execution_count": 62,
     "metadata": {},
     "output_type": "execute_result"
    },
    {
     "data": {
      "image/png": "[encoded data removed]",
      "text/plain": [
       "<Figure size 432x288 with 1 Axes>"
      ]
     },
     "metadata": {
      "needs_background": "light"
     },
     "output_type": "display_data"
    }
   ],
   "source": [
    "# take a look at our target variable, Not_Complied_With_False_Cert\n",
    "\n",
    "target_pcts = violations_open_rev.Not_Complied_With_False_Cert.value_counts(normalize=True) \n",
    "print(target_pcts)\n",
    "\n",
    "target_pcts.plot(kind='bar') # it's very imbalanced!"
   ]
  },
  {
   "cell_type": "code",
   "execution_count": 63,
   "metadata": {},
   "outputs": [
    {
     "data": {
      "image/png": "[encoded data removed]",
      "text/plain": [
       "<Figure size 521.375x360 with 6 Axes>"
      ]
     },
     "metadata": {
      "needs_background": "light"
     },
     "output_type": "display_data"
    }
   ],
   "source": [
    "def plot_features(df, sample_size=500):\n",
    "    \n",
    "    sample = (df.drop(['ViolationID','BuildingID','BoroID','Postcode','Story','Block','Lot','OrderNumber',\n",
    "                       'CurrentStatusDate','CommunityBoard','CensusTract','BIN','BBL','Not_Complied_With',\n",
    "                       'Days_to_status'],axis=1)\n",
    "                .sample(1000, random_state=44)) \n",
    "    sns.pairplot(sample,hue='Not_Complied_With_False_Cert', plot_kws=dict(alpha=.3, edgecolor='none'))\n",
    "\n",
    "plot_features(violations_open_rev)"
   ]
  },
  {
   "cell_type": "code",
   "execution_count": 65,
   "metadata": {},
   "outputs": [],
   "source": [
    "# this function mimics train_test_split but ensures no violations are in both the train and test sets\n",
    "\n",
    "def get_user_split_data(df, test_size=.2, seed=42):\n",
    "\n",
    "    rs = np.random.RandomState(seed)\n",
    "    \n",
    "    total_violations = df['ViolationID'].unique() \n",
    "    test_violations = rs.choice(total_violations, \n",
    "                           size=int(total_violations.shape[0] * test_size), \n",
    "                           replace=False)\n",
    "\n",
    "    df_tr_val = df[~df['ViolationID'].isin(test_violations)]\n",
    "    df_te = df[df['ViolationID'].isin(test_violations)] \n",
    "\n",
    "    y_tr_val, y_te = df_tr_val['Not_Complied_With_False_Cert'], df_te['Not_Complied_With_False_Cert']\n",
    "    X_tr_val = df_tr_val.drop(['ViolationID','BuildingID','BoroID','Postcode','Story','Block',\n",
    "                              'Lot','OrderNumber','CurrentStatusDate','CommunityBoard','CensusTract',\n",
    "                              'BIN','BBL','Not_Complied_With','Days_to_status','Not_Complied_With_False_Cert'],axis=1) \n",
    "    X_te = df_te.drop(['ViolationID','BuildingID','BoroID','Postcode','Story','Block',\n",
    "                              'Lot','OrderNumber','CurrentStatusDate','CommunityBoard','CensusTract',\n",
    "                              'BIN','BBL','Not_Complied_With','Days_to_status','Not_Complied_With_False_Cert'],axis=1)\n",
    " \n",
    "    scaler = StandardScaler()\n",
    "    X_tr_val_scaled = scaler.fit_transform(X_tr_val)\n",
    "    X_te_scaled = scaler.fit_transform(X_te)\n",
    "    \n",
    "    return X_tr_val_scaled, X_te_scaled, y_tr_val, y_te"
   ]
  },
  {
   "cell_type": "code",
   "execution_count": 67,
   "metadata": {},
   "outputs": [
    {
     "name": "stdout",
     "output_type": "stream",
     "text": [
      "recall: [0. 0. 0. 0. 0.]\n",
      "\n",
      "mean recall: 0.000\n"
     ]
    }
   ],
   "source": [
    "X_tr_val_scaled, X_te_scaled, y_tr_val, y_te = get_user_split_data(violations_open_rev)\n",
    "\n",
    "lr = LogisticRegression(solver='lbfgs')\n",
    "lr.fit(X_tr_val_scaled, y_tr_val)\n",
    "\n",
    "kf = KFold(n_splits=5, shuffle=True, random_state = 71)\n",
    "cv_results = cross_validate(lr, X_tr_val_scaled, y_tr_val, cv=kf, scoring='f1')\n",
    "\n",
    "print(f\"recall: {(cv_results['test_score'])}\")\n",
    "print(\"\")\n",
    "print(f\"mean recall: {(np.mean(cv_results['test_score'])):.3f}\")"
   ]
  },
  {
   "cell_type": "code",
   "execution_count": 594,
   "metadata": {},
   "outputs": [
    {
     "data": {
      "text/html": [
       "<div>\n",
       "<style scoped>\n",
       "    .dataframe tbody tr th:only-of-type {\n",
       "        vertical-align: middle;\n",
       "    }\n",
       "\n",
       "    .dataframe tbody tr th {\n",
       "        vertical-align: top;\n",
       "    }\n",
       "\n",
       "    .dataframe thead th {\n",
       "        text-align: right;\n",
       "    }\n",
       "</style>\n",
       "<table border=\"1\" class=\"dataframe\">\n",
       "  <thead>\n",
       "    <tr style=\"text-align: right;\">\n",
       "      <th></th>\n",
       "      <th>Violations_Count</th>\n",
       "    </tr>\n",
       "  </thead>\n",
       "  <tbody>\n",
       "    <tr>\n",
       "      <th>24</th>\n",
       "      <td>11</td>\n",
       "    </tr>\n",
       "    <tr>\n",
       "      <th>26</th>\n",
       "      <td>6</td>\n",
       "    </tr>\n",
       "    <tr>\n",
       "      <th>27</th>\n",
       "      <td>6</td>\n",
       "    </tr>\n",
       "    <tr>\n",
       "      <th>29</th>\n",
       "      <td>6</td>\n",
       "    </tr>\n",
       "    <tr>\n",
       "      <th>30</th>\n",
       "      <td>6</td>\n",
       "    </tr>\n",
       "    <tr>\n",
       "      <th>...</th>\n",
       "      <td>...</td>\n",
       "    </tr>\n",
       "    <tr>\n",
       "      <th>170272</th>\n",
       "      <td>5</td>\n",
       "    </tr>\n",
       "    <tr>\n",
       "      <th>170273</th>\n",
       "      <td>7</td>\n",
       "    </tr>\n",
       "    <tr>\n",
       "      <th>170274</th>\n",
       "      <td>7</td>\n",
       "    </tr>\n",
       "    <tr>\n",
       "      <th>170276</th>\n",
       "      <td>5</td>\n",
       "    </tr>\n",
       "    <tr>\n",
       "      <th>170277</th>\n",
       "      <td>5</td>\n",
       "    </tr>\n",
       "  </tbody>\n",
       "</table>\n",
       "<p>37068 rows × 1 columns</p>\n",
       "</div>"
      ],
      "text/plain": [
       "        Violations_Count\n",
       "24                    11\n",
       "26                     6\n",
       "27                     6\n",
       "29                     6\n",
       "30                     6\n",
       "...                  ...\n",
       "170272                 5\n",
       "170273                 7\n",
       "170274                 7\n",
       "170276                 5\n",
       "170277                 5\n",
       "\n",
       "[37068 rows x 1 columns]"
      ]
     },
     "execution_count": 594,
     "metadata": {},
     "output_type": "execute_result"
    }
   ],
   "source": [
    "X_tr_val"
   ]
  },
  {
   "cell_type": "code",
   "execution_count": 597,
   "metadata": {},
   "outputs": [
    {
     "data": {
      "image/png": "[encoded data removed]",
      "text/plain": [
       "<Figure size 432x288 with 1 Axes>"
      ]
     },
     "metadata": {
      "needs_background": "light"
     },
     "output_type": "display_data"
    }
   ],
   "source": [
    "def visualize(X, y, bdry='diag'):\n",
    "    c = cm.rainbow(np.linspace(0, 1, 2))\n",
    "    plt.scatter(X, y, color=[c[i] for i in y], alpha=.5)\n",
    "    \n",
    "    #Plot the true decision boundary\n",
    "    if bdry == 'diag':\n",
    "        plt.plot([0, 1], [0, 1], 'k--')\n",
    "    elif bdry == 'quadrant':\n",
    "        plt.plot([0, 1],[0.5, 0.5], 'k--')\n",
    "        \n",
    "        plt.plot([0.5, 0.5],[0, 1], 'k--')\n",
    "        \n",
    "    plt.grid(True)\n",
    "    \n",
    "\n",
    "visualize(np.array(X_tr_val), np.array(y_tr_val))"
   ]
  },
  {
   "cell_type": "code",
   "execution_count": 312,
   "metadata": {},
   "outputs": [],
   "source": [
    "# drop rows with null values in 'NOVIssuedDate' column\n",
    "\n",
    "#violations_rev.dropna(subset=['NOVIssuedDate'], inplace=True)"
   ]
  },
  {
   "cell_type": "code",
   "execution_count": 313,
   "metadata": {},
   "outputs": [],
   "source": [
    "# create a CertifyByDate column that assigns values from OriginalCertifyByDate or NewCertifyByDate\n",
    "\n",
    "#def program(violations_rev):\n",
    "    #if pd.isnull(violations_rev['NewCertifyByDate']) :\n",
    "        #return violations_rev['OriginalCertifyByDate']\n",
    "    #else :\n",
    "        #return violations_rev['NewCertifyByDate']\n",
    "\n",
    "#violations_rev['CertifyByDate'] = violations_rev.apply(program, axis=1)"
   ]
  },
  {
   "cell_type": "code",
   "execution_count": 317,
   "metadata": {},
   "outputs": [],
   "source": [
    "# create df filtered to closed violations whose current status is not 'VIOLATION WILL BE REINSPECTED'\n",
    "\n",
    "#violations_closed = violations_rev[(violations_rev.ViolationStatus == 'Close') & \n",
    "                                   #(violations_rev.CurrentStatus != 'VIOLATION WILL BE REINSPECTED')]"
   ]
  },
  {
   "cell_type": "code",
   "execution_count": 504,
   "metadata": {},
   "outputs": [],
   "source": [
    "# create a column that calculates # of days between OriginalCertifyByDate and CurrentStatusDate\n",
    "    # or InspectionDate)\n",
    "\n",
    "#def days_to_close(violations_closed):\n",
    "    #if violations_closed['Status_from_Certify'] < pd.Timedelta(0, unit='d'):\n",
    "       # return violations_closed['CurrentStatusDate'] - violations_closed['OriginalCertifyByDate']\n",
    "   # else:\n",
    "       # return violations_closed['Status_from_Certify']\n",
    "\n",
    "#violations_closed['Days_to_close'] = violations_closed.apply(days_to_close, axis=1)"
   ]
  },
  {
   "cell_type": "code",
   "execution_count": 505,
   "metadata": {},
   "outputs": [],
   "source": [
    "# look at histogram of column representing # of days between (OriginalCertifyByDate or NewCertifyByDate) and \n",
    "    # CurrentStatusDate columns\n",
    "\n",
    "#violations_closed['Days_to_close'].dt.days.hist()"
   ]
  },
  {
   "cell_type": "code",
   "execution_count": 506,
   "metadata": {},
   "outputs": [],
   "source": [
    "# look at box and whiskers plot of Days_to_close column\n",
    "\n",
    "#plt.boxplot(violations_closed['Days_to_close'].dt.days)"
   ]
  },
  {
   "cell_type": "code",
   "execution_count": 507,
   "metadata": {},
   "outputs": [],
   "source": [
    "# find outliers in Days_to_close\n",
    "\n",
    "# First quartile (Q1)\n",
    "#Q1 = np.percentile(violations_closed['Days_to_close'].dt.days, 25, interpolation = 'midpoint')\n",
    "\n",
    "# Third quartile (Q3)\n",
    "#Q3 = np.percentile(violations_closed['Days_to_close'].dt.days, 75, interpolation = 'midpoint')\n",
    "\n",
    "# Interquaritle range (IQR)\n",
    "#IQR = Q3 - Q1\n",
    "\n",
    "# outliers more than 1.5 times the IQR below Q1\n",
    "#outliers_below = Q1 - 1.5 * IQR \n",
    "\n",
    "# outliers more than 1.5 times the IQR above Q3\n",
    "#outliers_above = Q3 + 1.5 * IQR"
   ]
  },
  {
   "cell_type": "code",
   "execution_count": 508,
   "metadata": {},
   "outputs": [],
   "source": [
    "# create new column that codes for Days_to_close <= median or > median\n",
    "\n",
    "#violations_closed_no_outs['target'] = np.where(violations_closed_no_outs['Days_to_close'].dt.days<=(np.median(violations_closed['Days_to_close'].dt.days)), 1, 0)"
   ]
  },
  {
   "cell_type": "markdown",
   "metadata": {},
   "source": [
    "# Read in HPD Buildings"
   ]
  },
  {
   "cell_type": "code",
   "execution_count": 367,
   "metadata": {},
   "outputs": [
    {
     "name": "stderr",
     "output_type": "stream",
     "text": [
      "/opt/anaconda3/envs/metis/lib/python3.8/site-packages/IPython/core/interactiveshell.py:3169: DtypeWarning: Columns (7) have mixed types.Specify dtype option on import or set low_memory=False.\n",
      "  has_raised = await self.run_ast_nodes(code_ast.body, cell_name,\n"
     ]
    }
   ],
   "source": [
    "buildings = pd.read_csv('Buildings_Subject_to_HPD_Jurisdiction.csv')"
   ]
  },
  {
   "cell_type": "code",
   "execution_count": 368,
   "metadata": {},
   "outputs": [
    {
     "data": {
      "text/html": [
       "<div>\n",
       "<style scoped>\n",
       "    .dataframe tbody tr th:only-of-type {\n",
       "        vertical-align: middle;\n",
       "    }\n",
       "\n",
       "    .dataframe tbody tr th {\n",
       "        vertical-align: top;\n",
       "    }\n",
       "\n",
       "    .dataframe thead th {\n",
       "        text-align: right;\n",
       "    }\n",
       "</style>\n",
       "<table border=\"1\" class=\"dataframe\">\n",
       "  <thead>\n",
       "    <tr style=\"text-align: right;\">\n",
       "      <th></th>\n",
       "      <th>BuildingID</th>\n",
       "      <th>BoroID</th>\n",
       "      <th>Boro</th>\n",
       "      <th>HouseNumber</th>\n",
       "      <th>LowHouseNumber</th>\n",
       "      <th>HighHouseNumber</th>\n",
       "      <th>StreetName</th>\n",
       "      <th>Zip</th>\n",
       "      <th>Block</th>\n",
       "      <th>Lot</th>\n",
       "      <th>...</th>\n",
       "      <th>ManagementProgram</th>\n",
       "      <th>DoBBuildingClassID</th>\n",
       "      <th>DoBBuildingClass</th>\n",
       "      <th>LegalStories</th>\n",
       "      <th>LegalClassA</th>\n",
       "      <th>LegalClassB</th>\n",
       "      <th>RegistrationID</th>\n",
       "      <th>LifeCycle</th>\n",
       "      <th>RecordStatusID</th>\n",
       "      <th>RecordStatus</th>\n",
       "    </tr>\n",
       "  </thead>\n",
       "  <tbody>\n",
       "    <tr>\n",
       "      <th>0</th>\n",
       "      <td>71635</td>\n",
       "      <td>2</td>\n",
       "      <td>BRONX</td>\n",
       "      <td>860</td>\n",
       "      <td>860</td>\n",
       "      <td>860</td>\n",
       "      <td>EAST 231 STREET</td>\n",
       "      <td>10466.0</td>\n",
       "      <td>4855</td>\n",
       "      <td>83</td>\n",
       "      <td>...</td>\n",
       "      <td>PVT</td>\n",
       "      <td>24.0</td>\n",
       "      <td>NOT AVAILABLE</td>\n",
       "      <td>1.0</td>\n",
       "      <td>1.0</td>\n",
       "      <td>0.0</td>\n",
       "      <td>0</td>\n",
       "      <td>Building</td>\n",
       "      <td>1</td>\n",
       "      <td>Active</td>\n",
       "    </tr>\n",
       "    <tr>\n",
       "      <th>1</th>\n",
       "      <td>311388</td>\n",
       "      <td>3</td>\n",
       "      <td>BROOKLYN</td>\n",
       "      <td>151</td>\n",
       "      <td>151</td>\n",
       "      <td>151</td>\n",
       "      <td>HERKIMER STREET</td>\n",
       "      <td>11216.0</td>\n",
       "      <td>1861</td>\n",
       "      <td>54</td>\n",
       "      <td>...</td>\n",
       "      <td>PVT</td>\n",
       "      <td>25.0</td>\n",
       "      <td>2 FAMILY HOUSE</td>\n",
       "      <td>3.0</td>\n",
       "      <td>2.0</td>\n",
       "      <td>0.0</td>\n",
       "      <td>0</td>\n",
       "      <td>Building</td>\n",
       "      <td>1</td>\n",
       "      <td>Active</td>\n",
       "    </tr>\n",
       "    <tr>\n",
       "      <th>2</th>\n",
       "      <td>742421</td>\n",
       "      <td>5</td>\n",
       "      <td>STATEN ISLAND</td>\n",
       "      <td>8</td>\n",
       "      <td>8</td>\n",
       "      <td>8</td>\n",
       "      <td>GRISSOM AVENUE</td>\n",
       "      <td>10314.0</td>\n",
       "      <td>2015</td>\n",
       "      <td>7501</td>\n",
       "      <td>...</td>\n",
       "      <td>PVT</td>\n",
       "      <td>23.0</td>\n",
       "      <td>1 FAMILY HOUSE</td>\n",
       "      <td>2.0</td>\n",
       "      <td>1.0</td>\n",
       "      <td>0.0</td>\n",
       "      <td>0</td>\n",
       "      <td>Building</td>\n",
       "      <td>1</td>\n",
       "      <td>Active</td>\n",
       "    </tr>\n",
       "    <tr>\n",
       "      <th>3</th>\n",
       "      <td>680250</td>\n",
       "      <td>4</td>\n",
       "      <td>QUEENS</td>\n",
       "      <td>99-08</td>\n",
       "      <td>99-08</td>\n",
       "      <td>99-08</td>\n",
       "      <td>METROPOLITAN AVENUE</td>\n",
       "      <td>11375.0</td>\n",
       "      <td>3894</td>\n",
       "      <td>34</td>\n",
       "      <td>...</td>\n",
       "      <td>PVT</td>\n",
       "      <td>24.0</td>\n",
       "      <td>NOT AVAILABLE</td>\n",
       "      <td>2.0</td>\n",
       "      <td>2.0</td>\n",
       "      <td>0.0</td>\n",
       "      <td>0</td>\n",
       "      <td>Building</td>\n",
       "      <td>1</td>\n",
       "      <td>Active</td>\n",
       "    </tr>\n",
       "    <tr>\n",
       "      <th>4</th>\n",
       "      <td>946265</td>\n",
       "      <td>3</td>\n",
       "      <td>BROOKLYN</td>\n",
       "      <td>539A</td>\n",
       "      <td>539A</td>\n",
       "      <td>539A</td>\n",
       "      <td>GREENE AVENUE</td>\n",
       "      <td>11216.0</td>\n",
       "      <td>1794</td>\n",
       "      <td>67</td>\n",
       "      <td>...</td>\n",
       "      <td>PVT</td>\n",
       "      <td>25.0</td>\n",
       "      <td>2 FAMILY HOUSE</td>\n",
       "      <td>3.0</td>\n",
       "      <td>2.0</td>\n",
       "      <td>NaN</td>\n",
       "      <td>812803</td>\n",
       "      <td>UnderConstruction</td>\n",
       "      <td>1</td>\n",
       "      <td>Active</td>\n",
       "    </tr>\n",
       "  </tbody>\n",
       "</table>\n",
       "<p>5 rows × 23 columns</p>\n",
       "</div>"
      ],
      "text/plain": [
       "   BuildingID  BoroID           Boro HouseNumber LowHouseNumber  \\\n",
       "0       71635       2          BRONX         860            860   \n",
       "1      311388       3       BROOKLYN         151            151   \n",
       "2      742421       5  STATEN ISLAND           8              8   \n",
       "3      680250       4         QUEENS       99-08          99-08   \n",
       "4      946265       3       BROOKLYN        539A           539A   \n",
       "\n",
       "  HighHouseNumber           StreetName      Zip  Block   Lot  ...  \\\n",
       "0             860      EAST 231 STREET  10466.0   4855    83  ...   \n",
       "1             151      HERKIMER STREET  11216.0   1861    54  ...   \n",
       "2               8       GRISSOM AVENUE  10314.0   2015  7501  ...   \n",
       "3           99-08  METROPOLITAN AVENUE  11375.0   3894    34  ...   \n",
       "4            539A        GREENE AVENUE  11216.0   1794    67  ...   \n",
       "\n",
       "   ManagementProgram  DoBBuildingClassID  DoBBuildingClass LegalStories  \\\n",
       "0                PVT                24.0     NOT AVAILABLE          1.0   \n",
       "1                PVT                25.0    2 FAMILY HOUSE          3.0   \n",
       "2                PVT                23.0    1 FAMILY HOUSE          2.0   \n",
       "3                PVT                24.0     NOT AVAILABLE          2.0   \n",
       "4                PVT                25.0    2 FAMILY HOUSE          3.0   \n",
       "\n",
       "   LegalClassA LegalClassB  RegistrationID          LifeCycle  RecordStatusID  \\\n",
       "0          1.0         0.0               0           Building               1   \n",
       "1          2.0         0.0               0           Building               1   \n",
       "2          1.0         0.0               0           Building               1   \n",
       "3          2.0         0.0               0           Building               1   \n",
       "4          2.0         NaN          812803  UnderConstruction               1   \n",
       "\n",
       "   RecordStatus  \n",
       "0        Active  \n",
       "1        Active  \n",
       "2        Active  \n",
       "3        Active  \n",
       "4        Active  \n",
       "\n",
       "[5 rows x 23 columns]"
      ]
     },
     "execution_count": 368,
     "metadata": {},
     "output_type": "execute_result"
    }
   ],
   "source": [
    "buildings.head()"
   ]
  },
  {
   "cell_type": "code",
   "execution_count": 369,
   "metadata": {},
   "outputs": [
    {
     "data": {
      "text/plain": [
       "Index(['BuildingID', 'BoroID', 'Boro', 'HouseNumber', 'LowHouseNumber',\n",
       "       'HighHouseNumber', 'StreetName', 'Zip', 'Block', 'Lot', 'BIN',\n",
       "       'CommunityBoard', 'CensusTract', 'ManagementProgram',\n",
       "       'DoBBuildingClassID', 'DoBBuildingClass', 'LegalStories', 'LegalClassA',\n",
       "       'LegalClassB', 'RegistrationID', 'LifeCycle', 'RecordStatusID',\n",
       "       'RecordStatus'],\n",
       "      dtype='object')"
      ]
     },
     "execution_count": 369,
     "metadata": {},
     "output_type": "execute_result"
    }
   ],
   "source": [
    "buildings.columns"
   ]
  },
  {
   "cell_type": "code",
   "execution_count": 370,
   "metadata": {},
   "outputs": [
    {
     "data": {
      "text/plain": [
       "(344021, 23)"
      ]
     },
     "execution_count": 370,
     "metadata": {},
     "output_type": "execute_result"
    }
   ],
   "source": [
    "buildings.shape"
   ]
  },
  {
   "cell_type": "markdown",
   "metadata": {},
   "source": [
    "# Merge violations and hpd buildings data"
   ]
  },
  {
   "cell_type": "code",
   "execution_count": 425,
   "metadata": {},
   "outputs": [],
   "source": [
    "violations_buildings = pd.merge(violations_closed_no_outs, buildings,\n",
    "                                            how='left', on='BuildingID', suffixes=('_vio', '_build'))"
   ]
  },
  {
   "cell_type": "code",
   "execution_count": 426,
   "metadata": {},
   "outputs": [
    {
     "data": {
      "text/plain": [
       "Index(['BuildingID', 'BoroID_vio', 'Postcode', 'Story', 'Block_vio', 'Lot_vio',\n",
       "       'Latitude', 'Longitude', 'CommunityBoard_vio', 'CensusTract_vio',\n",
       "       'BIN_vio', 'BBL', 'Days_to_close', 'target', 'BoroID_build', 'Boro',\n",
       "       'HouseNumber', 'LowHouseNumber', 'HighHouseNumber', 'StreetName', 'Zip',\n",
       "       'Block_build', 'Lot_build', 'BIN_build', 'CommunityBoard_build',\n",
       "       'CensusTract_build', 'ManagementProgram', 'DoBBuildingClassID',\n",
       "       'DoBBuildingClass', 'LegalStories', 'LegalClassA', 'LegalClassB',\n",
       "       'RegistrationID', 'LifeCycle', 'RecordStatusID', 'RecordStatus'],\n",
       "      dtype='object')"
      ]
     },
     "execution_count": 426,
     "metadata": {},
     "output_type": "execute_result"
    }
   ],
   "source": [
    "violations_buildings.columns"
   ]
  },
  {
   "cell_type": "code",
   "execution_count": 427,
   "metadata": {},
   "outputs": [],
   "source": [
    "# drop columns not needed\n",
    "\n",
    "violations_buildings.drop(['BoroID_build', 'Boro', 'HouseNumber', 'LowHouseNumber','HighHouseNumber', 'StreetName',\n",
    "                          'Zip', 'Block_build', 'Lot_build', 'BIN_build', 'CommunityBoard_build', 'CensusTract_build',\n",
    "                          'DoBBuildingClassID','RegistrationID', 'RecordStatusID'],axis=1,inplace=True)"
   ]
  },
  {
   "cell_type": "code",
   "execution_count": 428,
   "metadata": {},
   "outputs": [
    {
     "data": {
      "text/plain": [
       "Index(['BuildingID', 'BoroID_vio', 'Postcode', 'Story', 'Block_vio', 'Lot_vio',\n",
       "       'Latitude', 'Longitude', 'CommunityBoard_vio', 'CensusTract_vio',\n",
       "       'BIN_vio', 'BBL', 'Days_to_close', 'target', 'ManagementProgram',\n",
       "       'DoBBuildingClass', 'LegalStories', 'LegalClassA', 'LegalClassB',\n",
       "       'LifeCycle', 'RecordStatus'],\n",
       "      dtype='object')"
      ]
     },
     "execution_count": 428,
     "metadata": {},
     "output_type": "execute_result"
    }
   ],
   "source": [
    "violations_buildings.columns"
   ]
  },
  {
   "cell_type": "markdown",
   "metadata": {},
   "source": [
    "# Read in building water and energy consumption data"
   ]
  },
  {
   "cell_type": "code",
   "execution_count": 388,
   "metadata": {},
   "outputs": [
    {
     "name": "stderr",
     "output_type": "stream",
     "text": [
      "/opt/anaconda3/envs/metis/lib/python3.8/site-packages/IPython/core/interactiveshell.py:3169: DtypeWarning: Columns (9,15,218,219) have mixed types.Specify dtype option on import or set low_memory=False.\n",
      "  has_raised = await self.run_ast_nodes(code_ast.body, cell_name,\n"
     ]
    }
   ],
   "source": [
    "water_energy_buildings = pd.read_csv('Energy_and_Water_Data_Disclosure_for_Local_Law_84_2021__Data_for_Calendar_Year_2020_.csv')"
   ]
  },
  {
   "cell_type": "code",
   "execution_count": 418,
   "metadata": {},
   "outputs": [
    {
     "data": {
      "text/plain": [
       "(28067, 2)"
      ]
     },
     "execution_count": 418,
     "metadata": {},
     "output_type": "execute_result"
    }
   ],
   "source": [
    "water_energy_buildings.shape"
   ]
  },
  {
   "cell_type": "code",
   "execution_count": 419,
   "metadata": {},
   "outputs": [],
   "source": [
    "# drop columns not needed for merge\n",
    "\n",
    "water_energy_buildings = water_energy_buildings[['NYC Building Identification Number (BIN)', 'Year Built']]"
   ]
  },
  {
   "cell_type": "markdown",
   "metadata": {},
   "source": [
    "# Merge violations_buildings and building water and energy consumption data"
   ]
  },
  {
   "cell_type": "code",
   "execution_count": 432,
   "metadata": {},
   "outputs": [
    {
     "name": "stdout",
     "output_type": "stream",
     "text": [
      "<class 'pandas.core.frame.DataFrame'>\n",
      "Int64Index: 117219 entries, 0 to 117218\n",
      "Data columns (total 21 columns):\n",
      " #   Column              Non-Null Count   Dtype          \n",
      "---  ------              --------------   -----          \n",
      " 0   BuildingID          117219 non-null  int64          \n",
      " 1   BoroID_vio          117219 non-null  int64          \n",
      " 2   Postcode            117219 non-null  float64        \n",
      " 3   Story               117188 non-null  object         \n",
      " 4   Block_vio           117219 non-null  int64          \n",
      " 5   Lot_vio             117219 non-null  int64          \n",
      " 6   Latitude            117217 non-null  float64        \n",
      " 7   Longitude           117217 non-null  float64        \n",
      " 8   CommunityBoard_vio  117217 non-null  float64        \n",
      " 9   CensusTract_vio     117217 non-null  float64        \n",
      " 10  BIN_vio             117141 non-null  float64        \n",
      " 11  BBL                 117141 non-null  float64        \n",
      " 12  Days_to_close       117219 non-null  timedelta64[ns]\n",
      " 13  target              117219 non-null  int64          \n",
      " 14  ManagementProgram   117215 non-null  object         \n",
      " 15  DoBBuildingClass    117215 non-null  object         \n",
      " 16  LegalStories        117215 non-null  float64        \n",
      " 17  LegalClassA         117211 non-null  float64        \n",
      " 18  LegalClassB         116725 non-null  float64        \n",
      " 19  LifeCycle           117215 non-null  object         \n",
      " 20  RecordStatus        117215 non-null  object         \n",
      "dtypes: float64(10), int64(5), object(5), timedelta64[ns](1)\n",
      "memory usage: 19.7+ MB\n"
     ]
    }
   ],
   "source": [
    "violations_buildings.info()"
   ]
  },
  {
   "cell_type": "code",
   "execution_count": 430,
   "metadata": {},
   "outputs": [
    {
     "data": {
      "text/plain": [
       "NYC Building Identification Number (BIN)    object\n",
       "Year Built                                   int64\n",
       "dtype: object"
      ]
     },
     "execution_count": 430,
     "metadata": {},
     "output_type": "execute_result"
    }
   ],
   "source": [
    "water_energy_buildings.dtypes"
   ]
  },
  {
   "cell_type": "code",
   "execution_count": 437,
   "metadata": {},
   "outputs": [],
   "source": [
    "# drop BIN_vio with null values in violations_buildings and then convert BIN_vio to int then str for merge with \n",
    "    # water_energy_buildings\n",
    "\n",
    "violations_buildings.dropna(subset=['BIN_vio'],inplace=True)\n",
    "\n",
    "violations_buildings['BIN_vio'] = violations_buildings['BIN_vio'].astype(int)\n",
    "violations_buildings['BIN_vio'] = violations_buildings['BIN_vio'].astype(str)"
   ]
  },
  {
   "cell_type": "code",
   "execution_count": 438,
   "metadata": {},
   "outputs": [
    {
     "data": {
      "text/plain": [
       "2002047    166\n",
       "3120374    162\n",
       "1063331    159\n",
       "2008060    143\n",
       "2003497    143\n",
       "          ... \n",
       "1062696      1\n",
       "3072713      1\n",
       "3117143      1\n",
       "2007735      1\n",
       "2093937      1\n",
       "Name: BIN_vio, Length: 13879, dtype: int64"
      ]
     },
     "execution_count": 438,
     "metadata": {},
     "output_type": "execute_result"
    }
   ],
   "source": [
    "violations_buildings['BIN_vio'].value_counts()"
   ]
  },
  {
   "cell_type": "code",
   "execution_count": 439,
   "metadata": {},
   "outputs": [
    {
     "data": {
      "text/plain": [
       "Not Available    112\n",
       "0000000           26\n",
       "2026596           23\n",
       "1081667           10\n",
       "4542595            6\n",
       "                ... \n",
       "3126369            1\n",
       "1056908            1\n",
       "1090231            1\n",
       "3816816            1\n",
       "4009004            1\n",
       "Name: NYC Building Identification Number (BIN), Length: 26723, dtype: int64"
      ]
     },
     "execution_count": 439,
     "metadata": {},
     "output_type": "execute_result"
    }
   ],
   "source": [
    "water_energy_buildings['NYC Building Identification Number (BIN)'].value_counts()"
   ]
  },
  {
   "cell_type": "code",
   "execution_count": 440,
   "metadata": {},
   "outputs": [],
   "source": [
    "violations_buildings_yrbuilt = pd.merge(violations_buildings, water_energy_buildings,how='left',\n",
    "                                        left_on='BIN_vio', right_on='NYC Building Identification Number (BIN)',suffixes=('_vio', '_yrbuilt'))"
   ]
  },
  {
   "cell_type": "code",
   "execution_count": 441,
   "metadata": {},
   "outputs": [
    {
     "data": {
      "text/plain": [
       "Index(['BuildingID', 'BoroID_vio', 'Postcode', 'Story', 'Block_vio', 'Lot_vio',\n",
       "       'Latitude', 'Longitude', 'CommunityBoard_vio', 'CensusTract_vio',\n",
       "       'BIN_vio', 'BBL', 'Days_to_close', 'target', 'ManagementProgram',\n",
       "       'DoBBuildingClass', 'LegalStories', 'LegalClassA', 'LegalClassB',\n",
       "       'LifeCycle', 'RecordStatus', 'NYC Building Identification Number (BIN)',\n",
       "       'Year Built'],\n",
       "      dtype='object')"
      ]
     },
     "execution_count": 441,
     "metadata": {},
     "output_type": "execute_result"
    }
   ],
   "source": [
    "violations_buildings_yrbuilt.columns"
   ]
  },
  {
   "cell_type": "code",
   "execution_count": 443,
   "metadata": {},
   "outputs": [
    {
     "name": "stdout",
     "output_type": "stream",
     "text": [
      "<class 'pandas.core.frame.DataFrame'>\n",
      "Int64Index: 120001 entries, 0 to 120000\n",
      "Data columns (total 23 columns):\n",
      " #   Column                                    Non-Null Count   Dtype          \n",
      "---  ------                                    --------------   -----          \n",
      " 0   BuildingID                                120001 non-null  int64          \n",
      " 1   BoroID_vio                                120001 non-null  int64          \n",
      " 2   Postcode                                  120001 non-null  float64        \n",
      " 3   Story                                     119970 non-null  object         \n",
      " 4   Block_vio                                 120001 non-null  int64          \n",
      " 5   Lot_vio                                   120001 non-null  int64          \n",
      " 6   Latitude                                  120001 non-null  float64        \n",
      " 7   Longitude                                 120001 non-null  float64        \n",
      " 8   CommunityBoard_vio                        120001 non-null  float64        \n",
      " 9   CensusTract_vio                           120001 non-null  float64        \n",
      " 10  BIN_vio                                   120001 non-null  object         \n",
      " 11  BBL                                       120001 non-null  float64        \n",
      " 12  Days_to_close                             120001 non-null  timedelta64[ns]\n",
      " 13  target                                    120001 non-null  int64          \n",
      " 14  ManagementProgram                         119997 non-null  object         \n",
      " 15  DoBBuildingClass                          119997 non-null  object         \n",
      " 16  LegalStories                              119997 non-null  float64        \n",
      " 17  LegalClassA                               119993 non-null  float64        \n",
      " 18  LegalClassB                               119497 non-null  float64        \n",
      " 19  LifeCycle                                 119997 non-null  object         \n",
      " 20  RecordStatus                              119997 non-null  object         \n",
      " 21  NYC Building Identification Number (BIN)  61591 non-null   object         \n",
      " 22  Year Built                                61591 non-null   float64        \n",
      "dtypes: float64(10), int64(5), object(7), timedelta64[ns](1)\n",
      "memory usage: 22.0+ MB\n"
     ]
    }
   ],
   "source": [
    "violations_buildings_yrbuilt.info()"
   ]
  },
  {
   "cell_type": "code",
   "execution_count": 444,
   "metadata": {},
   "outputs": [],
   "source": [
    "# drop columns not needed\n",
    "\n",
    "violations_buildings_yrbuilt.drop(['NYC Building Identification Number (BIN)'],axis=1,inplace=True)"
   ]
  },
  {
   "cell_type": "code",
   "execution_count": 445,
   "metadata": {},
   "outputs": [
    {
     "data": {
      "text/plain": [
       "{'whiskers': [<matplotlib.lines.Line2D at 0x7f95222158b0>,\n",
       "  <matplotlib.lines.Line2D at 0x7f9522215c40>],\n",
       " 'caps': [<matplotlib.lines.Line2D at 0x7f9522215fd0>,\n",
       "  <matplotlib.lines.Line2D at 0x7f95222203a0>],\n",
       " 'boxes': [<matplotlib.lines.Line2D at 0x7f9522215520>],\n",
       " 'medians': [<matplotlib.lines.Line2D at 0x7f9522220730>],\n",
       " 'fliers': [<matplotlib.lines.Line2D at 0x7f9522220ac0>],\n",
       " 'means': []}"
      ]
     },
     "execution_count": 445,
     "metadata": {},
     "output_type": "execute_result"
    },
    {
     "data": {
      "image/png": "[encoded data removed]",
      "text/plain": [
       "<Figure size 432x288 with 1 Axes>"
      ]
     },
     "metadata": {
      "needs_background": "light"
     },
     "output_type": "display_data"
    }
   ],
   "source": [
    "plt.boxplot(violations_buildings_yrbuilt['Days_to_close'].dt.days)"
   ]
  },
  {
   "cell_type": "code",
   "execution_count": null,
   "metadata": {},
   "outputs": [],
   "source": []
  }
 ],
 "metadata": {
  "kernelspec": {
   "display_name": "Python 3",
   "language": "python",
   "name": "python3"
  },
  "language_info": {
   "codemirror_mode": {
    "name": "ipython",
    "version": 3
   },
   "file_extension": ".py",
   "mimetype": "text/x-python",
   "name": "python",
   "nbconvert_exporter": "python",
   "pygments_lexer": "ipython3",
   "version": "3.8.3"
  }
 },
 "nbformat": 4,
 "nbformat_minor": 5
}
