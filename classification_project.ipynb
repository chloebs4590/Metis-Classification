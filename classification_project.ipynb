{
 "cells": [
  {
   "cell_type": "code",
   "execution_count": 354,
   "id": "61370e1e",
   "metadata": {},
   "outputs": [],
   "source": [
    "import pandas as pd\n",
    "import numpy as np\n",
    "import seaborn as sns\n",
    "import matplotlib.pyplot as plt\n",
    "import statistics\n",
    "import os"
   ]
  },
  {
   "cell_type": "code",
   "execution_count": 173,
   "id": "2c5e89c9",
   "metadata": {},
   "outputs": [
    {
     "data": {
      "text/plain": [
       "'/Users/chloebergsma-safar/Desktop/Metis/NBM_Classification_Project'"
      ]
     },
     "execution_count": 173,
     "metadata": {},
     "output_type": "execute_result"
    }
   ],
   "source": [
    "os.getcwd()"
   ]
  },
  {
   "cell_type": "markdown",
   "id": "31d42310",
   "metadata": {},
   "source": [
    "# Read in Housing Maintenance Code Violations\n",
    "\n",
    "Violations come out of inspections. Most inspections are complaint-based.\n",
    "\n",
    "Inspectors will inspect the complaint issue but also always inspect for 6 other conditions:\n",
    "\n",
    "    1. smoke detectors\n",
    "    2. carbon monoxide detectors\n",
    "    3. lead-based paint (if there's a child under 6)\n",
    "    4. window guards (if there's a child under 11)\n",
    "    5. double cylinder locks\n",
    "    6. bars on the fire escape windows\n",
    "    \n",
    "An inspection may result in a violation for the original complaint issue but it may not, and could result\n",
    "in one or more violations of the routin 6 conditions inspected."
   ]
  },
  {
   "cell_type": "code",
   "execution_count": 189,
   "id": "3b01cedc",
   "metadata": {},
   "outputs": [],
   "source": [
    "# this Housing Maintenance Code Violations dataset uses the following filter: OrderNumber is 616 OR 617 (lead-based paint)\n",
    "violations = pd.read_csv('Housing_Maintenance_Code_Violations_lead.csv')"
   ]
  },
  {
   "cell_type": "code",
   "execution_count": 227,
   "id": "baebc340",
   "metadata": {},
   "outputs": [
    {
     "data": {
      "text/plain": [
       "(170281, 41)"
      ]
     },
     "execution_count": 227,
     "metadata": {},
     "output_type": "execute_result"
    }
   ],
   "source": [
    "violations.shape"
   ]
  },
  {
   "cell_type": "code",
   "execution_count": 228,
   "id": "bf50dd8f",
   "metadata": {},
   "outputs": [
    {
     "data": {
      "text/html": [
       "<div>\n",
       "<style scoped>\n",
       "    .dataframe tbody tr th:only-of-type {\n",
       "        vertical-align: middle;\n",
       "    }\n",
       "\n",
       "    .dataframe tbody tr th {\n",
       "        vertical-align: top;\n",
       "    }\n",
       "\n",
       "    .dataframe thead th {\n",
       "        text-align: right;\n",
       "    }\n",
       "</style>\n",
       "<table border=\"1\" class=\"dataframe\">\n",
       "  <thead>\n",
       "    <tr style=\"text-align: right;\">\n",
       "      <th></th>\n",
       "      <th>Postcode</th>\n",
       "      <th>Apartment</th>\n",
       "      <th>Story</th>\n",
       "      <th>Block</th>\n",
       "      <th>Lot</th>\n",
       "      <th>Class</th>\n",
       "      <th>InspectionDate</th>\n",
       "      <th>ApprovedDate</th>\n",
       "      <th>OriginalCertifyByDate</th>\n",
       "      <th>OriginalCorrectByDate</th>\n",
       "    </tr>\n",
       "  </thead>\n",
       "  <tbody>\n",
       "    <tr>\n",
       "      <th>0</th>\n",
       "      <td>10451.0</td>\n",
       "      <td>31F</td>\n",
       "      <td>5</td>\n",
       "      <td>2482</td>\n",
       "      <td>1</td>\n",
       "      <td>C</td>\n",
       "      <td>10/08/2013</td>\n",
       "      <td>10/09/2013</td>\n",
       "      <td>11/12/2013</td>\n",
       "      <td>11/07/2013</td>\n",
       "    </tr>\n",
       "    <tr>\n",
       "      <th>1</th>\n",
       "      <td>10457.0</td>\n",
       "      <td>3A</td>\n",
       "      <td>3</td>\n",
       "      <td>2825</td>\n",
       "      <td>10</td>\n",
       "      <td>C</td>\n",
       "      <td>10/09/2013</td>\n",
       "      <td>10/17/2013</td>\n",
       "      <td>11/20/2013</td>\n",
       "      <td>11/15/2013</td>\n",
       "    </tr>\n",
       "    <tr>\n",
       "      <th>2</th>\n",
       "      <td>10457.0</td>\n",
       "      <td>3A</td>\n",
       "      <td>3</td>\n",
       "      <td>2825</td>\n",
       "      <td>10</td>\n",
       "      <td>C</td>\n",
       "      <td>10/09/2013</td>\n",
       "      <td>10/17/2013</td>\n",
       "      <td>11/20/2013</td>\n",
       "      <td>11/15/2013</td>\n",
       "    </tr>\n",
       "    <tr>\n",
       "      <th>3</th>\n",
       "      <td>10466.0</td>\n",
       "      <td>2F</td>\n",
       "      <td>2</td>\n",
       "      <td>4840</td>\n",
       "      <td>57</td>\n",
       "      <td>C</td>\n",
       "      <td>11/20/2013</td>\n",
       "      <td>12/03/2013</td>\n",
       "      <td>01/06/2014</td>\n",
       "      <td>01/01/2014</td>\n",
       "    </tr>\n",
       "    <tr>\n",
       "      <th>4</th>\n",
       "      <td>11358.0</td>\n",
       "      <td>2C</td>\n",
       "      <td>2</td>\n",
       "      <td>5331</td>\n",
       "      <td>8</td>\n",
       "      <td>C</td>\n",
       "      <td>10/19/2013</td>\n",
       "      <td>10/26/2013</td>\n",
       "      <td>11/30/2013</td>\n",
       "      <td>11/25/2013</td>\n",
       "    </tr>\n",
       "    <tr>\n",
       "      <th>...</th>\n",
       "      <td>...</td>\n",
       "      <td>...</td>\n",
       "      <td>...</td>\n",
       "      <td>...</td>\n",
       "      <td>...</td>\n",
       "      <td>...</td>\n",
       "      <td>...</td>\n",
       "      <td>...</td>\n",
       "      <td>...</td>\n",
       "      <td>...</td>\n",
       "    </tr>\n",
       "    <tr>\n",
       "      <th>170276</th>\n",
       "      <td>11226.0</td>\n",
       "      <td>A2</td>\n",
       "      <td>1</td>\n",
       "      <td>5221</td>\n",
       "      <td>86</td>\n",
       "      <td>C</td>\n",
       "      <td>12/14/2021</td>\n",
       "      <td>12/17/2021</td>\n",
       "      <td>01/18/2022</td>\n",
       "      <td>01/13/2022</td>\n",
       "    </tr>\n",
       "    <tr>\n",
       "      <th>170277</th>\n",
       "      <td>11226.0</td>\n",
       "      <td>A2</td>\n",
       "      <td>1</td>\n",
       "      <td>5221</td>\n",
       "      <td>86</td>\n",
       "      <td>C</td>\n",
       "      <td>12/14/2021</td>\n",
       "      <td>12/17/2021</td>\n",
       "      <td>01/18/2022</td>\n",
       "      <td>01/13/2022</td>\n",
       "    </tr>\n",
       "    <tr>\n",
       "      <th>170278</th>\n",
       "      <td>10458.0</td>\n",
       "      <td>B</td>\n",
       "      <td>1</td>\n",
       "      <td>3309</td>\n",
       "      <td>25</td>\n",
       "      <td>C</td>\n",
       "      <td>10/18/2006</td>\n",
       "      <td>10/19/2006</td>\n",
       "      <td>11/20/2006</td>\n",
       "      <td>11/15/2006</td>\n",
       "    </tr>\n",
       "    <tr>\n",
       "      <th>170279</th>\n",
       "      <td>10458.0</td>\n",
       "      <td>B</td>\n",
       "      <td>1</td>\n",
       "      <td>3309</td>\n",
       "      <td>25</td>\n",
       "      <td>C</td>\n",
       "      <td>10/18/2006</td>\n",
       "      <td>10/19/2006</td>\n",
       "      <td>11/20/2006</td>\n",
       "      <td>11/15/2006</td>\n",
       "    </tr>\n",
       "    <tr>\n",
       "      <th>170280</th>\n",
       "      <td>10458.0</td>\n",
       "      <td>B</td>\n",
       "      <td>1</td>\n",
       "      <td>3309</td>\n",
       "      <td>25</td>\n",
       "      <td>C</td>\n",
       "      <td>10/18/2006</td>\n",
       "      <td>10/19/2006</td>\n",
       "      <td>11/20/2006</td>\n",
       "      <td>11/15/2006</td>\n",
       "    </tr>\n",
       "  </tbody>\n",
       "</table>\n",
       "<p>170281 rows × 10 columns</p>\n",
       "</div>"
      ],
      "text/plain": [
       "        Postcode Apartment Story  Block  Lot Class InspectionDate  \\\n",
       "0        10451.0       31F     5   2482    1     C     10/08/2013   \n",
       "1        10457.0        3A     3   2825   10     C     10/09/2013   \n",
       "2        10457.0        3A     3   2825   10     C     10/09/2013   \n",
       "3        10466.0        2F     2   4840   57     C     11/20/2013   \n",
       "4        11358.0        2C     2   5331    8     C     10/19/2013   \n",
       "...          ...       ...   ...    ...  ...   ...            ...   \n",
       "170276   11226.0        A2     1   5221   86     C     12/14/2021   \n",
       "170277   11226.0        A2     1   5221   86     C     12/14/2021   \n",
       "170278   10458.0         B     1   3309   25     C     10/18/2006   \n",
       "170279   10458.0         B     1   3309   25     C     10/18/2006   \n",
       "170280   10458.0         B     1   3309   25     C     10/18/2006   \n",
       "\n",
       "       ApprovedDate OriginalCertifyByDate OriginalCorrectByDate  \n",
       "0        10/09/2013            11/12/2013            11/07/2013  \n",
       "1        10/17/2013            11/20/2013            11/15/2013  \n",
       "2        10/17/2013            11/20/2013            11/15/2013  \n",
       "3        12/03/2013            01/06/2014            01/01/2014  \n",
       "4        10/26/2013            11/30/2013            11/25/2013  \n",
       "...             ...                   ...                   ...  \n",
       "170276   12/17/2021            01/18/2022            01/13/2022  \n",
       "170277   12/17/2021            01/18/2022            01/13/2022  \n",
       "170278   10/19/2006            11/20/2006            11/15/2006  \n",
       "170279   10/19/2006            11/20/2006            11/15/2006  \n",
       "170280   10/19/2006            11/20/2006            11/15/2006  \n",
       "\n",
       "[170281 rows x 10 columns]"
      ]
     },
     "execution_count": 228,
     "metadata": {},
     "output_type": "execute_result"
    }
   ],
   "source": [
    "violations.iloc[:,10:20]"
   ]
  },
  {
   "cell_type": "code",
   "execution_count": 229,
   "id": "31311326",
   "metadata": {},
   "outputs": [
    {
     "data": {
      "text/plain": [
       "Index(['ViolationID', 'BuildingID', 'RegistrationID', 'BoroID', 'Borough',\n",
       "       'HouseNumber', 'LowHouseNumber', 'HighHouseNumber', 'StreetName',\n",
       "       'StreetCode', 'Postcode', 'Apartment', 'Story', 'Block', 'Lot', 'Class',\n",
       "       'InspectionDate', 'ApprovedDate', 'OriginalCertifyByDate',\n",
       "       'OriginalCorrectByDate', 'NewCertifyByDate', 'NewCorrectByDate',\n",
       "       'CertifiedDate', 'OrderNumber', 'NOVID', 'NOVDescription',\n",
       "       'NOVIssuedDate', 'CurrentStatusID', 'CurrentStatus',\n",
       "       'CurrentStatusDate', 'NovType', 'ViolationStatus', 'RentImpairing',\n",
       "       'Latitude', 'Longitude', 'CommunityBoard', 'CouncilDistrict',\n",
       "       'CensusTract', 'BIN', 'BBL', 'NTA'],\n",
       "      dtype='object')"
      ]
     },
     "execution_count": 229,
     "metadata": {},
     "output_type": "execute_result"
    }
   ],
   "source": [
    "violations.columns"
   ]
  },
  {
   "cell_type": "code",
   "execution_count": 247,
   "id": "dee6aa99",
   "metadata": {},
   "outputs": [
    {
     "data": {
      "text/plain": [
       "Close    123946\n",
       "Open      46335\n",
       "Name: ViolationStatus, dtype: int64"
      ]
     },
     "execution_count": 247,
     "metadata": {},
     "output_type": "execute_result"
    }
   ],
   "source": [
    "# look at values in ViolationStatus column\n",
    "\n",
    "violations['ViolationStatus'].value_counts()"
   ]
  },
  {
   "cell_type": "code",
   "execution_count": 308,
   "id": "f2cae7e5",
   "metadata": {},
   "outputs": [],
   "source": [
    "# drop columns not needed\n",
    "\n",
    "violations_rev = violations.drop(['RegistrationID', 'HouseNumber', 'LowHouseNumber', 'HighHouseNumber',\n",
    "                                 'StreetName', 'StreetCode', 'Apartment', 'OrderNumber', 'NOVID', 'NOVDescription',\n",
    "                                  'NOVIssuedDate', 'CurrentStatusID', 'NovType','CouncilDistrict', 'NTA'], axis=1)"
   ]
  },
  {
   "cell_type": "code",
   "execution_count": 309,
   "id": "ef1af91c",
   "metadata": {},
   "outputs": [
    {
     "data": {
      "text/plain": [
       "Index(['ViolationID', 'BuildingID', 'BoroID', 'Borough', 'Postcode', 'Story',\n",
       "       'Block', 'Lot', 'Class', 'InspectionDate', 'ApprovedDate',\n",
       "       'OriginalCertifyByDate', 'OriginalCorrectByDate', 'NewCertifyByDate',\n",
       "       'NewCorrectByDate', 'CertifiedDate', 'CurrentStatus',\n",
       "       'CurrentStatusDate', 'ViolationStatus', 'RentImpairing', 'Latitude',\n",
       "       'Longitude', 'CommunityBoard', 'CensusTract', 'BIN', 'BBL'],\n",
       "      dtype='object')"
      ]
     },
     "execution_count": 309,
     "metadata": {},
     "output_type": "execute_result"
    }
   ],
   "source": [
    "violations_rev.columns"
   ]
  },
  {
   "cell_type": "code",
   "execution_count": 310,
   "id": "98f9edbf",
   "metadata": {},
   "outputs": [
    {
     "name": "stdout",
     "output_type": "stream",
     "text": [
      "<class 'pandas.core.frame.DataFrame'>\n",
      "RangeIndex: 170281 entries, 0 to 170280\n",
      "Data columns (total 26 columns):\n",
      " #   Column                 Non-Null Count   Dtype  \n",
      "---  ------                 --------------   -----  \n",
      " 0   ViolationID            170281 non-null  int64  \n",
      " 1   BuildingID             170281 non-null  int64  \n",
      " 2   BoroID                 170281 non-null  int64  \n",
      " 3   Borough                170281 non-null  object \n",
      " 4   Postcode               170280 non-null  float64\n",
      " 5   Story                  170207 non-null  object \n",
      " 6   Block                  170281 non-null  int64  \n",
      " 7   Lot                    170281 non-null  int64  \n",
      " 8   Class                  170281 non-null  object \n",
      " 9   InspectionDate         170281 non-null  object \n",
      " 10  ApprovedDate           170281 non-null  object \n",
      " 11  OriginalCertifyByDate  170011 non-null  object \n",
      " 12  OriginalCorrectByDate  170011 non-null  object \n",
      " 13  NewCertifyByDate       44010 non-null   object \n",
      " 14  NewCorrectByDate       44010 non-null   object \n",
      " 15  CertifiedDate          39313 non-null   object \n",
      " 16  CurrentStatus          170281 non-null  object \n",
      " 17  CurrentStatusDate      170281 non-null  object \n",
      " 18  ViolationStatus        170281 non-null  object \n",
      " 19  RentImpairing          170281 non-null  object \n",
      " 20  Latitude               170272 non-null  float64\n",
      " 21  Longitude              170272 non-null  float64\n",
      " 22  CommunityBoard         170272 non-null  float64\n",
      " 23  CensusTract            170272 non-null  float64\n",
      " 24  BIN                    170156 non-null  float64\n",
      " 25  BBL                    170156 non-null  float64\n",
      "dtypes: float64(7), int64(5), object(14)\n",
      "memory usage: 33.8+ MB\n"
     ]
    }
   ],
   "source": [
    "violations_rev.info()"
   ]
  },
  {
   "cell_type": "code",
   "execution_count": 311,
   "id": "f329816c",
   "metadata": {},
   "outputs": [],
   "source": [
    "# convert date columns to datetime\n",
    "\n",
    "date_cols = ['InspectionDate', 'ApprovedDate', 'OriginalCertifyByDate', 'OriginalCorrectByDate', 'NewCertifyByDate',\n",
    "'NewCorrectByDate', 'CertifiedDate', 'CurrentStatusDate']\n",
    "\n",
    "violations_rev[date_cols] = violations_rev[date_cols].apply(pd.to_datetime)"
   ]
  },
  {
   "cell_type": "code",
   "execution_count": 312,
   "id": "e77d382a",
   "metadata": {},
   "outputs": [],
   "source": [
    "# drop rows with null values in 'OriginalCertifyByDate' column\n",
    "\n",
    "violations_rev.dropna(subset=['OriginalCertifyByDate'], inplace=True)"
   ]
  },
  {
   "cell_type": "code",
   "execution_count": 313,
   "id": "6dc3d02e",
   "metadata": {},
   "outputs": [],
   "source": [
    "# create a CertifyByDate column that assigns values from OriginalCertifyByDate or NewCertifyByDate\n",
    "\n",
    "def program(violations_rev):\n",
    "    if pd.isnull(violations_rev['NewCertifyByDate']) :\n",
    "        return violations_rev['OriginalCertifyByDate']\n",
    "    else :\n",
    "        return violations_rev['NewCertifyByDate']\n",
    "\n",
    "violations_rev['CertifyByDate'] = violations_rev.apply(program, axis=1)"
   ]
  },
  {
   "cell_type": "code",
   "execution_count": 315,
   "id": "f147b191",
   "metadata": {},
   "outputs": [
    {
     "data": {
      "text/plain": [
       "(170011, 27)"
      ]
     },
     "execution_count": 315,
     "metadata": {},
     "output_type": "execute_result"
    }
   ],
   "source": [
    "violations_rev.shape"
   ]
  },
  {
   "cell_type": "code",
   "execution_count": 316,
   "id": "bee26dcd",
   "metadata": {},
   "outputs": [],
   "source": [
    "# create new column that calculates the # of days between CertifyByDate and CurrentStatus\n",
    "\n",
    "violations_rev['Status_from_Certify'] = violations_rev['CurrentStatusDate'] - violations_rev['CertifyByDate']"
   ]
  },
  {
   "cell_type": "code",
   "execution_count": 317,
   "id": "fad9c60a",
   "metadata": {},
   "outputs": [],
   "source": [
    "# create df filtered to closed violations whose current status is not 'VIOLATION WILL BE REINSPECTED'\n",
    "\n",
    "violations_closed = violations_rev[(violations_rev.ViolationStatus == 'Close') & \n",
    "                                   (violations_rev.CurrentStatus != 'VIOLATION WILL BE REINSPECTED')]"
   ]
  },
  {
   "cell_type": "code",
   "execution_count": 318,
   "id": "e8e823aa",
   "metadata": {},
   "outputs": [
    {
     "data": {
      "text/plain": [
       "(123400, 28)"
      ]
     },
     "execution_count": 318,
     "metadata": {},
     "output_type": "execute_result"
    }
   ],
   "source": [
    "violations_closed.shape"
   ]
  },
  {
   "cell_type": "code",
   "execution_count": 319,
   "id": "da039b81",
   "metadata": {},
   "outputs": [
    {
     "data": {
      "text/html": [
       "<div>\n",
       "<style scoped>\n",
       "    .dataframe tbody tr th:only-of-type {\n",
       "        vertical-align: middle;\n",
       "    }\n",
       "\n",
       "    .dataframe tbody tr th {\n",
       "        vertical-align: top;\n",
       "    }\n",
       "\n",
       "    .dataframe thead th {\n",
       "        text-align: right;\n",
       "    }\n",
       "</style>\n",
       "<table border=\"1\" class=\"dataframe\">\n",
       "  <thead>\n",
       "    <tr style=\"text-align: right;\">\n",
       "      <th></th>\n",
       "      <th>InspectionDate</th>\n",
       "      <th>ApprovedDate</th>\n",
       "      <th>OriginalCertifyByDate</th>\n",
       "      <th>OriginalCorrectByDate</th>\n",
       "      <th>NewCertifyByDate</th>\n",
       "      <th>NewCorrectByDate</th>\n",
       "      <th>CertifiedDate</th>\n",
       "      <th>CurrentStatus</th>\n",
       "      <th>CurrentStatusDate</th>\n",
       "      <th>ViolationStatus</th>\n",
       "      <th>RentImpairing</th>\n",
       "      <th>Latitude</th>\n",
       "      <th>Longitude</th>\n",
       "      <th>CommunityBoard</th>\n",
       "      <th>CensusTract</th>\n",
       "      <th>BIN</th>\n",
       "      <th>BBL</th>\n",
       "      <th>CertifyByDate</th>\n",
       "      <th>Status_from_Certify</th>\n",
       "    </tr>\n",
       "  </thead>\n",
       "  <tbody>\n",
       "    <tr>\n",
       "      <th>66320</th>\n",
       "      <td>2016-03-23</td>\n",
       "      <td>2016-03-24</td>\n",
       "      <td>2016-04-27</td>\n",
       "      <td>2016-04-22</td>\n",
       "      <td>2016-10-27</td>\n",
       "      <td>2016-10-22</td>\n",
       "      <td>NaT</td>\n",
       "      <td>VIOLATION CLOSED</td>\n",
       "      <td>2016-06-27</td>\n",
       "      <td>Close</td>\n",
       "      <td>N</td>\n",
       "      <td>40.845609</td>\n",
       "      <td>-73.897569</td>\n",
       "      <td>6.0</td>\n",
       "      <td>395.0</td>\n",
       "      <td>2009599.0</td>\n",
       "      <td>2.029240e+09</td>\n",
       "      <td>2016-10-27</td>\n",
       "      <td>-122 days</td>\n",
       "    </tr>\n",
       "    <tr>\n",
       "      <th>13024</th>\n",
       "      <td>2015-07-06</td>\n",
       "      <td>2015-07-11</td>\n",
       "      <td>2015-08-15</td>\n",
       "      <td>2015-08-10</td>\n",
       "      <td>2015-08-29</td>\n",
       "      <td>2015-08-24</td>\n",
       "      <td>NaT</td>\n",
       "      <td>VIOLATION CLOSED</td>\n",
       "      <td>2015-07-16</td>\n",
       "      <td>Close</td>\n",
       "      <td>N</td>\n",
       "      <td>40.644656</td>\n",
       "      <td>-73.961897</td>\n",
       "      <td>14.0</td>\n",
       "      <td>512.0</td>\n",
       "      <td>3117599.0</td>\n",
       "      <td>3.051220e+09</td>\n",
       "      <td>2015-08-29</td>\n",
       "      <td>-44 days</td>\n",
       "    </tr>\n",
       "    <tr>\n",
       "      <th>13025</th>\n",
       "      <td>2015-07-06</td>\n",
       "      <td>2015-07-11</td>\n",
       "      <td>2015-08-15</td>\n",
       "      <td>2015-08-10</td>\n",
       "      <td>2015-08-29</td>\n",
       "      <td>2015-08-24</td>\n",
       "      <td>NaT</td>\n",
       "      <td>VIOLATION CLOSED</td>\n",
       "      <td>2015-07-16</td>\n",
       "      <td>Close</td>\n",
       "      <td>N</td>\n",
       "      <td>40.644656</td>\n",
       "      <td>-73.961897</td>\n",
       "      <td>14.0</td>\n",
       "      <td>512.0</td>\n",
       "      <td>3117599.0</td>\n",
       "      <td>3.051220e+09</td>\n",
       "      <td>2015-08-29</td>\n",
       "      <td>-44 days</td>\n",
       "    </tr>\n",
       "    <tr>\n",
       "      <th>13026</th>\n",
       "      <td>2015-07-06</td>\n",
       "      <td>2015-07-11</td>\n",
       "      <td>2015-08-15</td>\n",
       "      <td>2015-08-10</td>\n",
       "      <td>2015-08-29</td>\n",
       "      <td>2015-08-24</td>\n",
       "      <td>NaT</td>\n",
       "      <td>VIOLATION CLOSED</td>\n",
       "      <td>2015-07-16</td>\n",
       "      <td>Close</td>\n",
       "      <td>N</td>\n",
       "      <td>40.644656</td>\n",
       "      <td>-73.961897</td>\n",
       "      <td>14.0</td>\n",
       "      <td>512.0</td>\n",
       "      <td>3117599.0</td>\n",
       "      <td>3.051220e+09</td>\n",
       "      <td>2015-08-29</td>\n",
       "      <td>-44 days</td>\n",
       "    </tr>\n",
       "    <tr>\n",
       "      <th>13027</th>\n",
       "      <td>2015-07-06</td>\n",
       "      <td>2015-07-11</td>\n",
       "      <td>2015-08-15</td>\n",
       "      <td>2015-08-10</td>\n",
       "      <td>2015-08-29</td>\n",
       "      <td>2015-08-24</td>\n",
       "      <td>NaT</td>\n",
       "      <td>VIOLATION CLOSED</td>\n",
       "      <td>2015-07-16</td>\n",
       "      <td>Close</td>\n",
       "      <td>N</td>\n",
       "      <td>40.644656</td>\n",
       "      <td>-73.961897</td>\n",
       "      <td>14.0</td>\n",
       "      <td>512.0</td>\n",
       "      <td>3117599.0</td>\n",
       "      <td>3.051220e+09</td>\n",
       "      <td>2015-08-29</td>\n",
       "      <td>-44 days</td>\n",
       "    </tr>\n",
       "    <tr>\n",
       "      <th>...</th>\n",
       "      <td>...</td>\n",
       "      <td>...</td>\n",
       "      <td>...</td>\n",
       "      <td>...</td>\n",
       "      <td>...</td>\n",
       "      <td>...</td>\n",
       "      <td>...</td>\n",
       "      <td>...</td>\n",
       "      <td>...</td>\n",
       "      <td>...</td>\n",
       "      <td>...</td>\n",
       "      <td>...</td>\n",
       "      <td>...</td>\n",
       "      <td>...</td>\n",
       "      <td>...</td>\n",
       "      <td>...</td>\n",
       "      <td>...</td>\n",
       "      <td>...</td>\n",
       "      <td>...</td>\n",
       "    </tr>\n",
       "    <tr>\n",
       "      <th>147605</th>\n",
       "      <td>2005-02-01</td>\n",
       "      <td>2005-02-03</td>\n",
       "      <td>2005-03-07</td>\n",
       "      <td>2005-03-02</td>\n",
       "      <td>NaT</td>\n",
       "      <td>NaT</td>\n",
       "      <td>NaT</td>\n",
       "      <td>VIOLATION CLOSED</td>\n",
       "      <td>2022-02-03</td>\n",
       "      <td>Close</td>\n",
       "      <td>N</td>\n",
       "      <td>40.647282</td>\n",
       "      <td>-73.960198</td>\n",
       "      <td>14.0</td>\n",
       "      <td>51002.0</td>\n",
       "      <td>3117149.0</td>\n",
       "      <td>3.051010e+09</td>\n",
       "      <td>2005-03-07</td>\n",
       "      <td>6177 days</td>\n",
       "    </tr>\n",
       "    <tr>\n",
       "      <th>170013</th>\n",
       "      <td>2005-02-01</td>\n",
       "      <td>2005-02-03</td>\n",
       "      <td>2005-03-07</td>\n",
       "      <td>2005-03-02</td>\n",
       "      <td>NaT</td>\n",
       "      <td>NaT</td>\n",
       "      <td>NaT</td>\n",
       "      <td>VIOLATION CLOSED</td>\n",
       "      <td>2022-02-03</td>\n",
       "      <td>Close</td>\n",
       "      <td>N</td>\n",
       "      <td>40.647282</td>\n",
       "      <td>-73.960198</td>\n",
       "      <td>14.0</td>\n",
       "      <td>51002.0</td>\n",
       "      <td>3117149.0</td>\n",
       "      <td>3.051010e+09</td>\n",
       "      <td>2005-03-07</td>\n",
       "      <td>6177 days</td>\n",
       "    </tr>\n",
       "    <tr>\n",
       "      <th>145853</th>\n",
       "      <td>2004-12-02</td>\n",
       "      <td>2004-12-08</td>\n",
       "      <td>2005-01-09</td>\n",
       "      <td>2005-01-04</td>\n",
       "      <td>NaT</td>\n",
       "      <td>NaT</td>\n",
       "      <td>NaT</td>\n",
       "      <td>VIOLATION CLOSED</td>\n",
       "      <td>2022-01-06</td>\n",
       "      <td>Close</td>\n",
       "      <td>N</td>\n",
       "      <td>40.865932</td>\n",
       "      <td>-73.919610</td>\n",
       "      <td>12.0</td>\n",
       "      <td>293.0</td>\n",
       "      <td>1064785.0</td>\n",
       "      <td>1.022230e+09</td>\n",
       "      <td>2005-01-09</td>\n",
       "      <td>6206 days</td>\n",
       "    </tr>\n",
       "    <tr>\n",
       "      <th>167362</th>\n",
       "      <td>2004-09-08</td>\n",
       "      <td>2004-09-11</td>\n",
       "      <td>2004-10-14</td>\n",
       "      <td>2004-10-09</td>\n",
       "      <td>2004-11-11</td>\n",
       "      <td>2004-11-06</td>\n",
       "      <td>2004-11-15</td>\n",
       "      <td>VIOLATION CLOSED</td>\n",
       "      <td>2021-12-20</td>\n",
       "      <td>Close</td>\n",
       "      <td>N</td>\n",
       "      <td>40.856980</td>\n",
       "      <td>-73.930585</td>\n",
       "      <td>12.0</td>\n",
       "      <td>279.0</td>\n",
       "      <td>1084207.0</td>\n",
       "      <td>1.021700e+09</td>\n",
       "      <td>2004-11-11</td>\n",
       "      <td>6248 days</td>\n",
       "    </tr>\n",
       "    <tr>\n",
       "      <th>167363</th>\n",
       "      <td>2004-09-08</td>\n",
       "      <td>2004-09-11</td>\n",
       "      <td>2004-10-14</td>\n",
       "      <td>2004-10-09</td>\n",
       "      <td>2004-11-11</td>\n",
       "      <td>2004-11-06</td>\n",
       "      <td>2004-11-15</td>\n",
       "      <td>VIOLATION CLOSED</td>\n",
       "      <td>2021-12-20</td>\n",
       "      <td>Close</td>\n",
       "      <td>N</td>\n",
       "      <td>40.856980</td>\n",
       "      <td>-73.930585</td>\n",
       "      <td>12.0</td>\n",
       "      <td>279.0</td>\n",
       "      <td>1084207.0</td>\n",
       "      <td>1.021700e+09</td>\n",
       "      <td>2004-11-11</td>\n",
       "      <td>6248 days</td>\n",
       "    </tr>\n",
       "  </tbody>\n",
       "</table>\n",
       "<p>123400 rows × 19 columns</p>\n",
       "</div>"
      ],
      "text/plain": [
       "       InspectionDate ApprovedDate OriginalCertifyByDate  \\\n",
       "66320      2016-03-23   2016-03-24            2016-04-27   \n",
       "13024      2015-07-06   2015-07-11            2015-08-15   \n",
       "13025      2015-07-06   2015-07-11            2015-08-15   \n",
       "13026      2015-07-06   2015-07-11            2015-08-15   \n",
       "13027      2015-07-06   2015-07-11            2015-08-15   \n",
       "...               ...          ...                   ...   \n",
       "147605     2005-02-01   2005-02-03            2005-03-07   \n",
       "170013     2005-02-01   2005-02-03            2005-03-07   \n",
       "145853     2004-12-02   2004-12-08            2005-01-09   \n",
       "167362     2004-09-08   2004-09-11            2004-10-14   \n",
       "167363     2004-09-08   2004-09-11            2004-10-14   \n",
       "\n",
       "       OriginalCorrectByDate NewCertifyByDate NewCorrectByDate CertifiedDate  \\\n",
       "66320             2016-04-22       2016-10-27       2016-10-22           NaT   \n",
       "13024             2015-08-10       2015-08-29       2015-08-24           NaT   \n",
       "13025             2015-08-10       2015-08-29       2015-08-24           NaT   \n",
       "13026             2015-08-10       2015-08-29       2015-08-24           NaT   \n",
       "13027             2015-08-10       2015-08-29       2015-08-24           NaT   \n",
       "...                      ...              ...              ...           ...   \n",
       "147605            2005-03-02              NaT              NaT           NaT   \n",
       "170013            2005-03-02              NaT              NaT           NaT   \n",
       "145853            2005-01-04              NaT              NaT           NaT   \n",
       "167362            2004-10-09       2004-11-11       2004-11-06    2004-11-15   \n",
       "167363            2004-10-09       2004-11-11       2004-11-06    2004-11-15   \n",
       "\n",
       "           CurrentStatus CurrentStatusDate ViolationStatus RentImpairing  \\\n",
       "66320   VIOLATION CLOSED        2016-06-27           Close             N   \n",
       "13024   VIOLATION CLOSED        2015-07-16           Close             N   \n",
       "13025   VIOLATION CLOSED        2015-07-16           Close             N   \n",
       "13026   VIOLATION CLOSED        2015-07-16           Close             N   \n",
       "13027   VIOLATION CLOSED        2015-07-16           Close             N   \n",
       "...                  ...               ...             ...           ...   \n",
       "147605  VIOLATION CLOSED        2022-02-03           Close             N   \n",
       "170013  VIOLATION CLOSED        2022-02-03           Close             N   \n",
       "145853  VIOLATION CLOSED        2022-01-06           Close             N   \n",
       "167362  VIOLATION CLOSED        2021-12-20           Close             N   \n",
       "167363  VIOLATION CLOSED        2021-12-20           Close             N   \n",
       "\n",
       "         Latitude  Longitude  CommunityBoard  CensusTract        BIN  \\\n",
       "66320   40.845609 -73.897569             6.0        395.0  2009599.0   \n",
       "13024   40.644656 -73.961897            14.0        512.0  3117599.0   \n",
       "13025   40.644656 -73.961897            14.0        512.0  3117599.0   \n",
       "13026   40.644656 -73.961897            14.0        512.0  3117599.0   \n",
       "13027   40.644656 -73.961897            14.0        512.0  3117599.0   \n",
       "...           ...        ...             ...          ...        ...   \n",
       "147605  40.647282 -73.960198            14.0      51002.0  3117149.0   \n",
       "170013  40.647282 -73.960198            14.0      51002.0  3117149.0   \n",
       "145853  40.865932 -73.919610            12.0        293.0  1064785.0   \n",
       "167362  40.856980 -73.930585            12.0        279.0  1084207.0   \n",
       "167363  40.856980 -73.930585            12.0        279.0  1084207.0   \n",
       "\n",
       "                 BBL CertifyByDate Status_from_Certify  \n",
       "66320   2.029240e+09    2016-10-27           -122 days  \n",
       "13024   3.051220e+09    2015-08-29            -44 days  \n",
       "13025   3.051220e+09    2015-08-29            -44 days  \n",
       "13026   3.051220e+09    2015-08-29            -44 days  \n",
       "13027   3.051220e+09    2015-08-29            -44 days  \n",
       "...              ...           ...                 ...  \n",
       "147605  3.051010e+09    2005-03-07           6177 days  \n",
       "170013  3.051010e+09    2005-03-07           6177 days  \n",
       "145853  1.022230e+09    2005-01-09           6206 days  \n",
       "167362  1.021700e+09    2004-11-11           6248 days  \n",
       "167363  1.021700e+09    2004-11-11           6248 days  \n",
       "\n",
       "[123400 rows x 19 columns]"
      ]
     },
     "execution_count": 319,
     "metadata": {},
     "output_type": "execute_result"
    }
   ],
   "source": [
    "violations_closed.iloc[:,9:].sort_values(by='Status_from_Certify')"
   ]
  },
  {
   "cell_type": "code",
   "execution_count": 320,
   "id": "d42630ca",
   "metadata": {},
   "outputs": [
    {
     "name": "stderr",
     "output_type": "stream",
     "text": [
      "<ipython-input-320-169434d59ff8>:10: SettingWithCopyWarning: \n",
      "A value is trying to be set on a copy of a slice from a DataFrame.\n",
      "Try using .loc[row_indexer,col_indexer] = value instead\n",
      "\n",
      "See the caveats in the documentation: https://pandas.pydata.org/pandas-docs/stable/user_guide/indexing.html#returning-a-view-versus-a-copy\n",
      "  violations_closed['Days_to_close'] = violations_closed.apply(days_to_close, axis=1)\n"
     ]
    }
   ],
   "source": [
    "# create a column that calculates # of days between OriginalCertifyByDate and CurrentStatusDate\n",
    "    # or InspectionDate)\n",
    "\n",
    "def days_to_close(violations_closed):\n",
    "    if violations_closed['Status_from_Certify'] < pd.Timedelta(0, unit='d'):\n",
    "        return violations_closed['CurrentStatusDate'] - violations_closed['OriginalCertifyByDate']\n",
    "    else:\n",
    "        return violations_closed['Status_from_Certify']\n",
    "\n",
    "violations_closed['Days_to_close'] = violations_closed.apply(days_to_close, axis=1)"
   ]
  },
  {
   "cell_type": "code",
   "execution_count": 322,
   "id": "0e0ae0cd",
   "metadata": {},
   "outputs": [
    {
     "data": {
      "text/html": [
       "<div>\n",
       "<style scoped>\n",
       "    .dataframe tbody tr th:only-of-type {\n",
       "        vertical-align: middle;\n",
       "    }\n",
       "\n",
       "    .dataframe tbody tr th {\n",
       "        vertical-align: top;\n",
       "    }\n",
       "\n",
       "    .dataframe thead th {\n",
       "        text-align: right;\n",
       "    }\n",
       "</style>\n",
       "<table border=\"1\" class=\"dataframe\">\n",
       "  <thead>\n",
       "    <tr style=\"text-align: right;\">\n",
       "      <th></th>\n",
       "      <th>InspectionDate</th>\n",
       "      <th>ApprovedDate</th>\n",
       "      <th>OriginalCertifyByDate</th>\n",
       "      <th>OriginalCorrectByDate</th>\n",
       "      <th>NewCertifyByDate</th>\n",
       "      <th>NewCorrectByDate</th>\n",
       "      <th>CertifiedDate</th>\n",
       "      <th>CurrentStatus</th>\n",
       "      <th>CurrentStatusDate</th>\n",
       "      <th>ViolationStatus</th>\n",
       "      <th>RentImpairing</th>\n",
       "      <th>Latitude</th>\n",
       "      <th>Longitude</th>\n",
       "      <th>CommunityBoard</th>\n",
       "      <th>CensusTract</th>\n",
       "      <th>BIN</th>\n",
       "      <th>BBL</th>\n",
       "      <th>CertifyByDate</th>\n",
       "      <th>Status_from_Certify</th>\n",
       "      <th>Days_to_close</th>\n",
       "    </tr>\n",
       "  </thead>\n",
       "  <tbody>\n",
       "    <tr>\n",
       "      <th>32907</th>\n",
       "      <td>2018-11-23</td>\n",
       "      <td>2018-11-23</td>\n",
       "      <td>2018-12-29</td>\n",
       "      <td>2018-12-24</td>\n",
       "      <td>NaT</td>\n",
       "      <td>NaT</td>\n",
       "      <td>NaT</td>\n",
       "      <td>VIOLATION CLOSED</td>\n",
       "      <td>2018-11-26</td>\n",
       "      <td>Close</td>\n",
       "      <td>N</td>\n",
       "      <td>40.714880</td>\n",
       "      <td>-73.774575</td>\n",
       "      <td>8.0</td>\n",
       "      <td>472.0</td>\n",
       "      <td>4213409.0</td>\n",
       "      <td>4.099600e+09</td>\n",
       "      <td>2018-12-29</td>\n",
       "      <td>-33 days</td>\n",
       "      <td>-33 days</td>\n",
       "    </tr>\n",
       "    <tr>\n",
       "      <th>24759</th>\n",
       "      <td>2017-07-28</td>\n",
       "      <td>2017-07-28</td>\n",
       "      <td>2017-09-02</td>\n",
       "      <td>2017-08-28</td>\n",
       "      <td>NaT</td>\n",
       "      <td>NaT</td>\n",
       "      <td>NaT</td>\n",
       "      <td>VIOLATION CLOSED</td>\n",
       "      <td>2017-07-31</td>\n",
       "      <td>Close</td>\n",
       "      <td>N</td>\n",
       "      <td>40.828884</td>\n",
       "      <td>-73.937469</td>\n",
       "      <td>10.0</td>\n",
       "      <td>236.0</td>\n",
       "      <td>1060634.0</td>\n",
       "      <td>1.020400e+09</td>\n",
       "      <td>2017-09-02</td>\n",
       "      <td>-33 days</td>\n",
       "      <td>-33 days</td>\n",
       "    </tr>\n",
       "    <tr>\n",
       "      <th>24760</th>\n",
       "      <td>2017-07-28</td>\n",
       "      <td>2017-07-28</td>\n",
       "      <td>2017-09-02</td>\n",
       "      <td>2017-08-28</td>\n",
       "      <td>NaT</td>\n",
       "      <td>NaT</td>\n",
       "      <td>NaT</td>\n",
       "      <td>VIOLATION CLOSED</td>\n",
       "      <td>2017-07-31</td>\n",
       "      <td>Close</td>\n",
       "      <td>N</td>\n",
       "      <td>40.828884</td>\n",
       "      <td>-73.937469</td>\n",
       "      <td>10.0</td>\n",
       "      <td>236.0</td>\n",
       "      <td>1060634.0</td>\n",
       "      <td>1.020400e+09</td>\n",
       "      <td>2017-09-02</td>\n",
       "      <td>-33 days</td>\n",
       "      <td>-33 days</td>\n",
       "    </tr>\n",
       "    <tr>\n",
       "      <th>167032</th>\n",
       "      <td>2018-12-14</td>\n",
       "      <td>2019-03-05</td>\n",
       "      <td>2019-04-08</td>\n",
       "      <td>2019-04-03</td>\n",
       "      <td>NaT</td>\n",
       "      <td>NaT</td>\n",
       "      <td>NaT</td>\n",
       "      <td>VIOLATION CLOSED</td>\n",
       "      <td>2019-03-06</td>\n",
       "      <td>Close</td>\n",
       "      <td>N</td>\n",
       "      <td>40.865693</td>\n",
       "      <td>-73.901913</td>\n",
       "      <td>7.0</td>\n",
       "      <td>265.0</td>\n",
       "      <td>2014667.0</td>\n",
       "      <td>2.032140e+09</td>\n",
       "      <td>2019-04-08</td>\n",
       "      <td>-33 days</td>\n",
       "      <td>-33 days</td>\n",
       "    </tr>\n",
       "    <tr>\n",
       "      <th>22575</th>\n",
       "      <td>2017-03-25</td>\n",
       "      <td>2017-03-30</td>\n",
       "      <td>2017-05-02</td>\n",
       "      <td>2017-04-27</td>\n",
       "      <td>NaT</td>\n",
       "      <td>NaT</td>\n",
       "      <td>NaT</td>\n",
       "      <td>VIOLATION CLOSED</td>\n",
       "      <td>2017-03-30</td>\n",
       "      <td>Close</td>\n",
       "      <td>N</td>\n",
       "      <td>40.893809</td>\n",
       "      <td>-73.858700</td>\n",
       "      <td>12.0</td>\n",
       "      <td>420.0</td>\n",
       "      <td>2063299.0</td>\n",
       "      <td>2.048350e+09</td>\n",
       "      <td>2017-05-02</td>\n",
       "      <td>-33 days</td>\n",
       "      <td>-33 days</td>\n",
       "    </tr>\n",
       "  </tbody>\n",
       "</table>\n",
       "</div>"
      ],
      "text/plain": [
       "       InspectionDate ApprovedDate OriginalCertifyByDate  \\\n",
       "32907      2018-11-23   2018-11-23            2018-12-29   \n",
       "24759      2017-07-28   2017-07-28            2017-09-02   \n",
       "24760      2017-07-28   2017-07-28            2017-09-02   \n",
       "167032     2018-12-14   2019-03-05            2019-04-08   \n",
       "22575      2017-03-25   2017-03-30            2017-05-02   \n",
       "\n",
       "       OriginalCorrectByDate NewCertifyByDate NewCorrectByDate CertifiedDate  \\\n",
       "32907             2018-12-24              NaT              NaT           NaT   \n",
       "24759             2017-08-28              NaT              NaT           NaT   \n",
       "24760             2017-08-28              NaT              NaT           NaT   \n",
       "167032            2019-04-03              NaT              NaT           NaT   \n",
       "22575             2017-04-27              NaT              NaT           NaT   \n",
       "\n",
       "           CurrentStatus CurrentStatusDate ViolationStatus RentImpairing  \\\n",
       "32907   VIOLATION CLOSED        2018-11-26           Close             N   \n",
       "24759   VIOLATION CLOSED        2017-07-31           Close             N   \n",
       "24760   VIOLATION CLOSED        2017-07-31           Close             N   \n",
       "167032  VIOLATION CLOSED        2019-03-06           Close             N   \n",
       "22575   VIOLATION CLOSED        2017-03-30           Close             N   \n",
       "\n",
       "         Latitude  Longitude  CommunityBoard  CensusTract        BIN  \\\n",
       "32907   40.714880 -73.774575             8.0        472.0  4213409.0   \n",
       "24759   40.828884 -73.937469            10.0        236.0  1060634.0   \n",
       "24760   40.828884 -73.937469            10.0        236.0  1060634.0   \n",
       "167032  40.865693 -73.901913             7.0        265.0  2014667.0   \n",
       "22575   40.893809 -73.858700            12.0        420.0  2063299.0   \n",
       "\n",
       "                 BBL CertifyByDate Status_from_Certify Days_to_close  \n",
       "32907   4.099600e+09    2018-12-29            -33 days      -33 days  \n",
       "24759   1.020400e+09    2017-09-02            -33 days      -33 days  \n",
       "24760   1.020400e+09    2017-09-02            -33 days      -33 days  \n",
       "167032  2.032140e+09    2019-04-08            -33 days      -33 days  \n",
       "22575   2.048350e+09    2017-05-02            -33 days      -33 days  "
      ]
     },
     "execution_count": 322,
     "metadata": {},
     "output_type": "execute_result"
    }
   ],
   "source": [
    "violations_closed.iloc[:,9:].sort_values(by='Days_to_close').head()"
   ]
  },
  {
   "cell_type": "code",
   "execution_count": 328,
   "id": "17139121",
   "metadata": {},
   "outputs": [
    {
     "data": {
      "text/plain": [
       "<AxesSubplot:>"
      ]
     },
     "execution_count": 328,
     "metadata": {},
     "output_type": "execute_result"
    },
    {
     "data": {
      "image/png": "[encoded data removed]",
      "text/plain": [
       "<Figure size 432x288 with 1 Axes>"
      ]
     },
     "metadata": {
      "needs_background": "light"
     },
     "output_type": "display_data"
    }
   ],
   "source": [
    "# look at histogram of column representing # of days between (OriginalCertifyByDate or NewCertifyByDate) and \n",
    "    # CurrentStatusDate columns\n",
    "\n",
    "violations_closed['Days_to_close'].dt.days.hist()"
   ]
  },
  {
   "cell_type": "code",
   "execution_count": 329,
   "id": "4fb0d05e",
   "metadata": {},
   "outputs": [
    {
     "data": {
      "text/plain": [
       "count                          123400\n",
       "mean      911 days 18:38:23.533225264\n",
       "std      1338 days 09:11:56.411173600\n",
       "min                -33 days +00:00:00\n",
       "25%                   8 days 00:00:00\n",
       "50%                 111 days 00:00:00\n",
       "75%                1537 days 00:00:00\n",
       "max                6248 days 00:00:00\n",
       "Name: Days_to_close, dtype: object"
      ]
     },
     "execution_count": 329,
     "metadata": {},
     "output_type": "execute_result"
    }
   ],
   "source": [
    "# summary statistics of Days_to_close column\n",
    "\n",
    "violations_closed['Days_to_close'].describe()"
   ]
  },
  {
   "cell_type": "code",
   "execution_count": 333,
   "id": "df7abc27",
   "metadata": {},
   "outputs": [
    {
     "data": {
      "text/plain": [
       "{'whiskers': [<matplotlib.lines.Line2D at 0x7f956b7f45b0>,\n",
       "  <matplotlib.lines.Line2D at 0x7f956b7f4880>],\n",
       " 'caps': [<matplotlib.lines.Line2D at 0x7f956b7f4c40>,\n",
       "  <matplotlib.lines.Line2D at 0x7f956b7f4fd0>],\n",
       " 'boxes': [<matplotlib.lines.Line2D at 0x7f956b7f4160>],\n",
       " 'medians': [<matplotlib.lines.Line2D at 0x7f956b7e93a0>],\n",
       " 'fliers': [<matplotlib.lines.Line2D at 0x7f956b7e9730>],\n",
       " 'means': []}"
      ]
     },
     "execution_count": 333,
     "metadata": {},
     "output_type": "execute_result"
    },
    {
     "data": {
      "image/png": "[encoded data removed]",
      "text/plain": [
       "<Figure size 432x288 with 1 Axes>"
      ]
     },
     "metadata": {
      "needs_background": "light"
     },
     "output_type": "display_data"
    }
   ],
   "source": [
    "# look at box and whiskers plot of Days_to_close column\n",
    "\n",
    "plt.boxplot(violations_closed['Days_to_close'].dt.days)"
   ]
  },
  {
   "cell_type": "code",
   "execution_count": 339,
   "id": "bf673963",
   "metadata": {},
   "outputs": [],
   "source": [
    "# find outliers in Days_to_close\n",
    "\n",
    "# First quartile (Q1)\n",
    "Q1 = np.percentile(violations_closed['Days_to_close'].dt.days, 25, interpolation = 'midpoint')\n",
    "\n",
    "# Third quartile (Q3)\n",
    "Q3 = np.percentile(violations_closed['Days_to_close'].dt.days, 75, interpolation = 'midpoint')\n",
    "\n",
    "# Interquaritle range (IQR)\n",
    "IQR = Q3 - Q1\n",
    "\n",
    "# outliers more than 1.5 times the IQR below Q1\n",
    "outliers_below = Q1 - 1.5 * IQR \n",
    "\n",
    "# outliers more than 1.5 times the IQR above Q3\n",
    "outliers_above = Q3 + 1.5 * IQR"
   ]
  },
  {
   "cell_type": "code",
   "execution_count": 344,
   "id": "0e53450b",
   "metadata": {},
   "outputs": [
    {
     "name": "stdout",
     "output_type": "stream",
     "text": [
      "-2285.5\n",
      "3830.5\n"
     ]
    }
   ],
   "source": [
    "print(outliers_below)\n",
    "print(outliers_above)"
   ]
  },
  {
   "cell_type": "code",
   "execution_count": 347,
   "id": "78d73096",
   "metadata": {},
   "outputs": [],
   "source": [
    "# create df that removes outliers\n",
    "\n",
    "violations_closed_no_outs = violations_closed[(violations_closed['Days_to_close'].dt.days >= -2285.5) & \n",
    "                                              (violations_closed['Days_to_close'].dt.days <= 3830.5)]"
   ]
  },
  {
   "cell_type": "code",
   "execution_count": 348,
   "id": "82d677f3",
   "metadata": {},
   "outputs": [
    {
     "data": {
      "text/plain": [
       "(117219, 29)"
      ]
     },
     "execution_count": 348,
     "metadata": {},
     "output_type": "execute_result"
    }
   ],
   "source": [
    "violations_closed_no_outs.shape"
   ]
  },
  {
   "cell_type": "code",
   "execution_count": 350,
   "id": "826ea9c4",
   "metadata": {},
   "outputs": [
    {
     "data": {
      "text/html": [
       "<div>\n",
       "<style scoped>\n",
       "    .dataframe tbody tr th:only-of-type {\n",
       "        vertical-align: middle;\n",
       "    }\n",
       "\n",
       "    .dataframe tbody tr th {\n",
       "        vertical-align: top;\n",
       "    }\n",
       "\n",
       "    .dataframe thead th {\n",
       "        text-align: right;\n",
       "    }\n",
       "</style>\n",
       "<table border=\"1\" class=\"dataframe\">\n",
       "  <thead>\n",
       "    <tr style=\"text-align: right;\">\n",
       "      <th></th>\n",
       "      <th>InspectionDate</th>\n",
       "      <th>ApprovedDate</th>\n",
       "      <th>OriginalCertifyByDate</th>\n",
       "      <th>OriginalCorrectByDate</th>\n",
       "      <th>NewCertifyByDate</th>\n",
       "      <th>NewCorrectByDate</th>\n",
       "      <th>CertifiedDate</th>\n",
       "      <th>CurrentStatus</th>\n",
       "      <th>CurrentStatusDate</th>\n",
       "      <th>ViolationStatus</th>\n",
       "      <th>RentImpairing</th>\n",
       "      <th>Latitude</th>\n",
       "      <th>Longitude</th>\n",
       "      <th>CommunityBoard</th>\n",
       "      <th>CensusTract</th>\n",
       "      <th>BIN</th>\n",
       "      <th>BBL</th>\n",
       "      <th>CertifyByDate</th>\n",
       "      <th>Status_from_Certify</th>\n",
       "      <th>Days_to_close</th>\n",
       "    </tr>\n",
       "  </thead>\n",
       "  <tbody>\n",
       "    <tr>\n",
       "      <th>0</th>\n",
       "      <td>2013-10-08</td>\n",
       "      <td>2013-10-09</td>\n",
       "      <td>2013-11-12</td>\n",
       "      <td>2013-11-07</td>\n",
       "      <td>NaT</td>\n",
       "      <td>NaT</td>\n",
       "      <td>NaT</td>\n",
       "      <td>VIOLATION CLOSED</td>\n",
       "      <td>2020-08-26</td>\n",
       "      <td>Close</td>\n",
       "      <td>N</td>\n",
       "      <td>40.823932</td>\n",
       "      <td>-73.928033</td>\n",
       "      <td>4.0</td>\n",
       "      <td>63.0</td>\n",
       "      <td>2002968.0</td>\n",
       "      <td>2.024820e+09</td>\n",
       "      <td>2013-11-12</td>\n",
       "      <td>2479 days</td>\n",
       "      <td>2479 days</td>\n",
       "    </tr>\n",
       "    <tr>\n",
       "      <th>1</th>\n",
       "      <td>2013-10-09</td>\n",
       "      <td>2013-10-17</td>\n",
       "      <td>2013-11-20</td>\n",
       "      <td>2013-11-15</td>\n",
       "      <td>2013-12-04</td>\n",
       "      <td>2013-11-29</td>\n",
       "      <td>NaT</td>\n",
       "      <td>VIOLATION CLOSED</td>\n",
       "      <td>2017-08-03</td>\n",
       "      <td>Close</td>\n",
       "      <td>N</td>\n",
       "      <td>40.845765</td>\n",
       "      <td>-73.910292</td>\n",
       "      <td>5.0</td>\n",
       "      <td>22901.0</td>\n",
       "      <td>2007875.0</td>\n",
       "      <td>2.028250e+09</td>\n",
       "      <td>2013-12-04</td>\n",
       "      <td>1338 days</td>\n",
       "      <td>1338 days</td>\n",
       "    </tr>\n",
       "    <tr>\n",
       "      <th>2</th>\n",
       "      <td>2013-10-09</td>\n",
       "      <td>2013-10-17</td>\n",
       "      <td>2013-11-20</td>\n",
       "      <td>2013-11-15</td>\n",
       "      <td>2013-12-04</td>\n",
       "      <td>2013-11-29</td>\n",
       "      <td>NaT</td>\n",
       "      <td>VIOLATION CLOSED</td>\n",
       "      <td>2017-08-03</td>\n",
       "      <td>Close</td>\n",
       "      <td>N</td>\n",
       "      <td>40.845765</td>\n",
       "      <td>-73.910292</td>\n",
       "      <td>5.0</td>\n",
       "      <td>22901.0</td>\n",
       "      <td>2007875.0</td>\n",
       "      <td>2.028250e+09</td>\n",
       "      <td>2013-12-04</td>\n",
       "      <td>1338 days</td>\n",
       "      <td>1338 days</td>\n",
       "    </tr>\n",
       "    <tr>\n",
       "      <th>3</th>\n",
       "      <td>2013-11-20</td>\n",
       "      <td>2013-12-03</td>\n",
       "      <td>2014-01-06</td>\n",
       "      <td>2014-01-01</td>\n",
       "      <td>NaT</td>\n",
       "      <td>NaT</td>\n",
       "      <td>NaT</td>\n",
       "      <td>VIOLATION CLOSED</td>\n",
       "      <td>2021-04-11</td>\n",
       "      <td>Close</td>\n",
       "      <td>N</td>\n",
       "      <td>40.888973</td>\n",
       "      <td>-73.858927</td>\n",
       "      <td>12.0</td>\n",
       "      <td>406.0</td>\n",
       "      <td>2063481.0</td>\n",
       "      <td>2.048400e+09</td>\n",
       "      <td>2014-01-06</td>\n",
       "      <td>2652 days</td>\n",
       "      <td>2652 days</td>\n",
       "    </tr>\n",
       "    <tr>\n",
       "      <th>4</th>\n",
       "      <td>2013-10-19</td>\n",
       "      <td>2013-10-26</td>\n",
       "      <td>2013-11-30</td>\n",
       "      <td>2013-11-25</td>\n",
       "      <td>NaT</td>\n",
       "      <td>NaT</td>\n",
       "      <td>NaT</td>\n",
       "      <td>VIOLATION CLOSED</td>\n",
       "      <td>2013-12-23</td>\n",
       "      <td>Close</td>\n",
       "      <td>N</td>\n",
       "      <td>40.760940</td>\n",
       "      <td>-73.807524</td>\n",
       "      <td>7.0</td>\n",
       "      <td>1171.0</td>\n",
       "      <td>4120371.0</td>\n",
       "      <td>4.053310e+09</td>\n",
       "      <td>2013-11-30</td>\n",
       "      <td>23 days</td>\n",
       "      <td>23 days</td>\n",
       "    </tr>\n",
       "  </tbody>\n",
       "</table>\n",
       "</div>"
      ],
      "text/plain": [
       "  InspectionDate ApprovedDate OriginalCertifyByDate OriginalCorrectByDate  \\\n",
       "0     2013-10-08   2013-10-09            2013-11-12            2013-11-07   \n",
       "1     2013-10-09   2013-10-17            2013-11-20            2013-11-15   \n",
       "2     2013-10-09   2013-10-17            2013-11-20            2013-11-15   \n",
       "3     2013-11-20   2013-12-03            2014-01-06            2014-01-01   \n",
       "4     2013-10-19   2013-10-26            2013-11-30            2013-11-25   \n",
       "\n",
       "  NewCertifyByDate NewCorrectByDate CertifiedDate     CurrentStatus  \\\n",
       "0              NaT              NaT           NaT  VIOLATION CLOSED   \n",
       "1       2013-12-04       2013-11-29           NaT  VIOLATION CLOSED   \n",
       "2       2013-12-04       2013-11-29           NaT  VIOLATION CLOSED   \n",
       "3              NaT              NaT           NaT  VIOLATION CLOSED   \n",
       "4              NaT              NaT           NaT  VIOLATION CLOSED   \n",
       "\n",
       "  CurrentStatusDate ViolationStatus RentImpairing   Latitude  Longitude  \\\n",
       "0        2020-08-26           Close             N  40.823932 -73.928033   \n",
       "1        2017-08-03           Close             N  40.845765 -73.910292   \n",
       "2        2017-08-03           Close             N  40.845765 -73.910292   \n",
       "3        2021-04-11           Close             N  40.888973 -73.858927   \n",
       "4        2013-12-23           Close             N  40.760940 -73.807524   \n",
       "\n",
       "   CommunityBoard  CensusTract        BIN           BBL CertifyByDate  \\\n",
       "0             4.0         63.0  2002968.0  2.024820e+09    2013-11-12   \n",
       "1             5.0      22901.0  2007875.0  2.028250e+09    2013-12-04   \n",
       "2             5.0      22901.0  2007875.0  2.028250e+09    2013-12-04   \n",
       "3            12.0        406.0  2063481.0  2.048400e+09    2014-01-06   \n",
       "4             7.0       1171.0  4120371.0  4.053310e+09    2013-11-30   \n",
       "\n",
       "  Status_from_Certify Days_to_close  \n",
       "0           2479 days     2479 days  \n",
       "1           1338 days     1338 days  \n",
       "2           1338 days     1338 days  \n",
       "3           2652 days     2652 days  \n",
       "4             23 days       23 days  "
      ]
     },
     "execution_count": 350,
     "metadata": {},
     "output_type": "execute_result"
    }
   ],
   "source": [
    "violations_closed_no_outs.iloc[:,9:].head()"
   ]
  },
  {
   "cell_type": "code",
   "execution_count": 357,
   "id": "b61f7abf",
   "metadata": {},
   "outputs": [],
   "source": [
    "med_days = np.median(violations_closed['Days_to_close'].dt.days)"
   ]
  },
  {
   "cell_type": "code",
   "execution_count": 362,
   "id": "93ad917e",
   "metadata": {},
   "outputs": [
    {
     "name": "stderr",
     "output_type": "stream",
     "text": [
      "<ipython-input-362-eea8d7a2384f>:2: SettingWithCopyWarning: \n",
      "A value is trying to be set on a copy of a slice from a DataFrame.\n",
      "Try using .loc[row_indexer,col_indexer] = value instead\n",
      "\n",
      "See the caveats in the documentation: https://pandas.pydata.org/pandas-docs/stable/user_guide/indexing.html#returning-a-view-versus-a-copy\n",
      "  violations_closed_no_outs['target'] = np.where(violations_closed_no_outs['Days_to_close'].dt.days<=(np.median(violations_closed['Days_to_close'].dt.days)), 1, 0)\n"
     ]
    }
   ],
   "source": [
    "# create new column that codes for Days_to_close <= median or > median\n",
    "\n",
    "violations_closed_no_outs['target'] = np.where(violations_closed_no_outs['Days_to_close'].dt.days<=(np.median(violations_closed['Days_to_close'].dt.days)), 1, 0)"
   ]
  },
  {
   "cell_type": "code",
   "execution_count": 365,
   "id": "f6604d54",
   "metadata": {},
   "outputs": [
    {
     "data": {
      "text/plain": [
       "1    61707\n",
       "0    55512\n",
       "Name: target, dtype: int64"
      ]
     },
     "execution_count": 365,
     "metadata": {},
     "output_type": "execute_result"
    }
   ],
   "source": [
    "violations_closed_no_outs['target'].value_counts()"
   ]
  },
  {
   "cell_type": "code",
   "execution_count": 366,
   "id": "61c669fd",
   "metadata": {},
   "outputs": [
    {
     "data": {
      "text/plain": [
       "Index(['ViolationID', 'BuildingID', 'BoroID', 'Borough', 'Postcode', 'Story',\n",
       "       'Block', 'Lot', 'Class', 'InspectionDate', 'ApprovedDate',\n",
       "       'OriginalCertifyByDate', 'OriginalCorrectByDate', 'NewCertifyByDate',\n",
       "       'NewCorrectByDate', 'CertifiedDate', 'CurrentStatus',\n",
       "       'CurrentStatusDate', 'ViolationStatus', 'RentImpairing', 'Latitude',\n",
       "       'Longitude', 'CommunityBoard', 'CensusTract', 'BIN', 'BBL',\n",
       "       'CertifyByDate', 'Status_from_Certify', 'Days_to_close', 'target'],\n",
       "      dtype='object')"
      ]
     },
     "execution_count": 366,
     "metadata": {},
     "output_type": "execute_result"
    }
   ],
   "source": [
    "violations_closed_no_outs.columns"
   ]
  },
  {
   "cell_type": "code",
   "execution_count": 373,
   "id": "985c9e3a",
   "metadata": {},
   "outputs": [],
   "source": [
    "# drop columns not needed for analysis (not including RentImpairing since all values = 'N')\n",
    "\n",
    "violations_closed_no_outs = violations_closed_no_outs[['BuildingID','BoroID','Postcode','Story',\n",
    "                                                      'Block','Lot','Latitude','Longitude',\n",
    "                                                      'CommunityBoard','CensusTract','BIN','BBL','Days_to_close',\n",
    "                                                      'target']]"
   ]
  },
  {
   "cell_type": "markdown",
   "id": "dab5430b",
   "metadata": {},
   "source": [
    "# Read in HPD Buildings"
   ]
  },
  {
   "cell_type": "code",
   "execution_count": 367,
   "id": "ef2501f8",
   "metadata": {},
   "outputs": [
    {
     "name": "stderr",
     "output_type": "stream",
     "text": [
      "/opt/anaconda3/envs/metis/lib/python3.8/site-packages/IPython/core/interactiveshell.py:3169: DtypeWarning: Columns (7) have mixed types.Specify dtype option on import or set low_memory=False.\n",
      "  has_raised = await self.run_ast_nodes(code_ast.body, cell_name,\n"
     ]
    }
   ],
   "source": [
    "buildings = pd.read_csv('Buildings_Subject_to_HPD_Jurisdiction.csv')"
   ]
  },
  {
   "cell_type": "code",
   "execution_count": 368,
   "id": "82816425",
   "metadata": {},
   "outputs": [
    {
     "data": {
      "text/html": [
       "<div>\n",
       "<style scoped>\n",
       "    .dataframe tbody tr th:only-of-type {\n",
       "        vertical-align: middle;\n",
       "    }\n",
       "\n",
       "    .dataframe tbody tr th {\n",
       "        vertical-align: top;\n",
       "    }\n",
       "\n",
       "    .dataframe thead th {\n",
       "        text-align: right;\n",
       "    }\n",
       "</style>\n",
       "<table border=\"1\" class=\"dataframe\">\n",
       "  <thead>\n",
       "    <tr style=\"text-align: right;\">\n",
       "      <th></th>\n",
       "      <th>BuildingID</th>\n",
       "      <th>BoroID</th>\n",
       "      <th>Boro</th>\n",
       "      <th>HouseNumber</th>\n",
       "      <th>LowHouseNumber</th>\n",
       "      <th>HighHouseNumber</th>\n",
       "      <th>StreetName</th>\n",
       "      <th>Zip</th>\n",
       "      <th>Block</th>\n",
       "      <th>Lot</th>\n",
       "      <th>...</th>\n",
       "      <th>ManagementProgram</th>\n",
       "      <th>DoBBuildingClassID</th>\n",
       "      <th>DoBBuildingClass</th>\n",
       "      <th>LegalStories</th>\n",
       "      <th>LegalClassA</th>\n",
       "      <th>LegalClassB</th>\n",
       "      <th>RegistrationID</th>\n",
       "      <th>LifeCycle</th>\n",
       "      <th>RecordStatusID</th>\n",
       "      <th>RecordStatus</th>\n",
       "    </tr>\n",
       "  </thead>\n",
       "  <tbody>\n",
       "    <tr>\n",
       "      <th>0</th>\n",
       "      <td>71635</td>\n",
       "      <td>2</td>\n",
       "      <td>BRONX</td>\n",
       "      <td>860</td>\n",
       "      <td>860</td>\n",
       "      <td>860</td>\n",
       "      <td>EAST 231 STREET</td>\n",
       "      <td>10466.0</td>\n",
       "      <td>4855</td>\n",
       "      <td>83</td>\n",
       "      <td>...</td>\n",
       "      <td>PVT</td>\n",
       "      <td>24.0</td>\n",
       "      <td>NOT AVAILABLE</td>\n",
       "      <td>1.0</td>\n",
       "      <td>1.0</td>\n",
       "      <td>0.0</td>\n",
       "      <td>0</td>\n",
       "      <td>Building</td>\n",
       "      <td>1</td>\n",
       "      <td>Active</td>\n",
       "    </tr>\n",
       "    <tr>\n",
       "      <th>1</th>\n",
       "      <td>311388</td>\n",
       "      <td>3</td>\n",
       "      <td>BROOKLYN</td>\n",
       "      <td>151</td>\n",
       "      <td>151</td>\n",
       "      <td>151</td>\n",
       "      <td>HERKIMER STREET</td>\n",
       "      <td>11216.0</td>\n",
       "      <td>1861</td>\n",
       "      <td>54</td>\n",
       "      <td>...</td>\n",
       "      <td>PVT</td>\n",
       "      <td>25.0</td>\n",
       "      <td>2 FAMILY HOUSE</td>\n",
       "      <td>3.0</td>\n",
       "      <td>2.0</td>\n",
       "      <td>0.0</td>\n",
       "      <td>0</td>\n",
       "      <td>Building</td>\n",
       "      <td>1</td>\n",
       "      <td>Active</td>\n",
       "    </tr>\n",
       "    <tr>\n",
       "      <th>2</th>\n",
       "      <td>742421</td>\n",
       "      <td>5</td>\n",
       "      <td>STATEN ISLAND</td>\n",
       "      <td>8</td>\n",
       "      <td>8</td>\n",
       "      <td>8</td>\n",
       "      <td>GRISSOM AVENUE</td>\n",
       "      <td>10314.0</td>\n",
       "      <td>2015</td>\n",
       "      <td>7501</td>\n",
       "      <td>...</td>\n",
       "      <td>PVT</td>\n",
       "      <td>23.0</td>\n",
       "      <td>1 FAMILY HOUSE</td>\n",
       "      <td>2.0</td>\n",
       "      <td>1.0</td>\n",
       "      <td>0.0</td>\n",
       "      <td>0</td>\n",
       "      <td>Building</td>\n",
       "      <td>1</td>\n",
       "      <td>Active</td>\n",
       "    </tr>\n",
       "    <tr>\n",
       "      <th>3</th>\n",
       "      <td>680250</td>\n",
       "      <td>4</td>\n",
       "      <td>QUEENS</td>\n",
       "      <td>99-08</td>\n",
       "      <td>99-08</td>\n",
       "      <td>99-08</td>\n",
       "      <td>METROPOLITAN AVENUE</td>\n",
       "      <td>11375.0</td>\n",
       "      <td>3894</td>\n",
       "      <td>34</td>\n",
       "      <td>...</td>\n",
       "      <td>PVT</td>\n",
       "      <td>24.0</td>\n",
       "      <td>NOT AVAILABLE</td>\n",
       "      <td>2.0</td>\n",
       "      <td>2.0</td>\n",
       "      <td>0.0</td>\n",
       "      <td>0</td>\n",
       "      <td>Building</td>\n",
       "      <td>1</td>\n",
       "      <td>Active</td>\n",
       "    </tr>\n",
       "    <tr>\n",
       "      <th>4</th>\n",
       "      <td>946265</td>\n",
       "      <td>3</td>\n",
       "      <td>BROOKLYN</td>\n",
       "      <td>539A</td>\n",
       "      <td>539A</td>\n",
       "      <td>539A</td>\n",
       "      <td>GREENE AVENUE</td>\n",
       "      <td>11216.0</td>\n",
       "      <td>1794</td>\n",
       "      <td>67</td>\n",
       "      <td>...</td>\n",
       "      <td>PVT</td>\n",
       "      <td>25.0</td>\n",
       "      <td>2 FAMILY HOUSE</td>\n",
       "      <td>3.0</td>\n",
       "      <td>2.0</td>\n",
       "      <td>NaN</td>\n",
       "      <td>812803</td>\n",
       "      <td>UnderConstruction</td>\n",
       "      <td>1</td>\n",
       "      <td>Active</td>\n",
       "    </tr>\n",
       "  </tbody>\n",
       "</table>\n",
       "<p>5 rows × 23 columns</p>\n",
       "</div>"
      ],
      "text/plain": [
       "   BuildingID  BoroID           Boro HouseNumber LowHouseNumber  \\\n",
       "0       71635       2          BRONX         860            860   \n",
       "1      311388       3       BROOKLYN         151            151   \n",
       "2      742421       5  STATEN ISLAND           8              8   \n",
       "3      680250       4         QUEENS       99-08          99-08   \n",
       "4      946265       3       BROOKLYN        539A           539A   \n",
       "\n",
       "  HighHouseNumber           StreetName      Zip  Block   Lot  ...  \\\n",
       "0             860      EAST 231 STREET  10466.0   4855    83  ...   \n",
       "1             151      HERKIMER STREET  11216.0   1861    54  ...   \n",
       "2               8       GRISSOM AVENUE  10314.0   2015  7501  ...   \n",
       "3           99-08  METROPOLITAN AVENUE  11375.0   3894    34  ...   \n",
       "4            539A        GREENE AVENUE  11216.0   1794    67  ...   \n",
       "\n",
       "   ManagementProgram  DoBBuildingClassID  DoBBuildingClass LegalStories  \\\n",
       "0                PVT                24.0     NOT AVAILABLE          1.0   \n",
       "1                PVT                25.0    2 FAMILY HOUSE          3.0   \n",
       "2                PVT                23.0    1 FAMILY HOUSE          2.0   \n",
       "3                PVT                24.0     NOT AVAILABLE          2.0   \n",
       "4                PVT                25.0    2 FAMILY HOUSE          3.0   \n",
       "\n",
       "   LegalClassA LegalClassB  RegistrationID          LifeCycle  RecordStatusID  \\\n",
       "0          1.0         0.0               0           Building               1   \n",
       "1          2.0         0.0               0           Building               1   \n",
       "2          1.0         0.0               0           Building               1   \n",
       "3          2.0         0.0               0           Building               1   \n",
       "4          2.0         NaN          812803  UnderConstruction               1   \n",
       "\n",
       "   RecordStatus  \n",
       "0        Active  \n",
       "1        Active  \n",
       "2        Active  \n",
       "3        Active  \n",
       "4        Active  \n",
       "\n",
       "[5 rows x 23 columns]"
      ]
     },
     "execution_count": 368,
     "metadata": {},
     "output_type": "execute_result"
    }
   ],
   "source": [
    "buildings.head()"
   ]
  },
  {
   "cell_type": "code",
   "execution_count": 369,
   "id": "b650eb75",
   "metadata": {},
   "outputs": [
    {
     "data": {
      "text/plain": [
       "Index(['BuildingID', 'BoroID', 'Boro', 'HouseNumber', 'LowHouseNumber',\n",
       "       'HighHouseNumber', 'StreetName', 'Zip', 'Block', 'Lot', 'BIN',\n",
       "       'CommunityBoard', 'CensusTract', 'ManagementProgram',\n",
       "       'DoBBuildingClassID', 'DoBBuildingClass', 'LegalStories', 'LegalClassA',\n",
       "       'LegalClassB', 'RegistrationID', 'LifeCycle', 'RecordStatusID',\n",
       "       'RecordStatus'],\n",
       "      dtype='object')"
      ]
     },
     "execution_count": 369,
     "metadata": {},
     "output_type": "execute_result"
    }
   ],
   "source": [
    "buildings.columns"
   ]
  },
  {
   "cell_type": "code",
   "execution_count": 370,
   "id": "410a04d4",
   "metadata": {},
   "outputs": [
    {
     "data": {
      "text/plain": [
       "(344021, 23)"
      ]
     },
     "execution_count": 370,
     "metadata": {},
     "output_type": "execute_result"
    }
   ],
   "source": [
    "buildings.shape"
   ]
  },
  {
   "cell_type": "markdown",
   "id": "c1478dc8",
   "metadata": {},
   "source": [
    "# Merge violations and hpd buildings data"
   ]
  },
  {
   "cell_type": "code",
   "execution_count": 425,
   "id": "67322c4a",
   "metadata": {},
   "outputs": [],
   "source": [
    "violations_buildings = pd.merge(violations_closed_no_outs, buildings,\n",
    "                                            how='left', on='BuildingID', suffixes=('_vio', '_build'))"
   ]
  },
  {
   "cell_type": "code",
   "execution_count": 426,
   "id": "0baec7b2",
   "metadata": {},
   "outputs": [
    {
     "data": {
      "text/plain": [
       "Index(['BuildingID', 'BoroID_vio', 'Postcode', 'Story', 'Block_vio', 'Lot_vio',\n",
       "       'Latitude', 'Longitude', 'CommunityBoard_vio', 'CensusTract_vio',\n",
       "       'BIN_vio', 'BBL', 'Days_to_close', 'target', 'BoroID_build', 'Boro',\n",
       "       'HouseNumber', 'LowHouseNumber', 'HighHouseNumber', 'StreetName', 'Zip',\n",
       "       'Block_build', 'Lot_build', 'BIN_build', 'CommunityBoard_build',\n",
       "       'CensusTract_build', 'ManagementProgram', 'DoBBuildingClassID',\n",
       "       'DoBBuildingClass', 'LegalStories', 'LegalClassA', 'LegalClassB',\n",
       "       'RegistrationID', 'LifeCycle', 'RecordStatusID', 'RecordStatus'],\n",
       "      dtype='object')"
      ]
     },
     "execution_count": 426,
     "metadata": {},
     "output_type": "execute_result"
    }
   ],
   "source": [
    "violations_buildings.columns"
   ]
  },
  {
   "cell_type": "code",
   "execution_count": 427,
   "id": "e3458dc3",
   "metadata": {},
   "outputs": [],
   "source": [
    "# drop columns not needed\n",
    "\n",
    "violations_buildings.drop(['BoroID_build', 'Boro', 'HouseNumber', 'LowHouseNumber','HighHouseNumber', 'StreetName',\n",
    "                          'Zip', 'Block_build', 'Lot_build', 'BIN_build', 'CommunityBoard_build', 'CensusTract_build',\n",
    "                          'DoBBuildingClassID','RegistrationID', 'RecordStatusID'],axis=1,inplace=True)"
   ]
  },
  {
   "cell_type": "code",
   "execution_count": 428,
   "id": "1c4534cb",
   "metadata": {},
   "outputs": [
    {
     "data": {
      "text/plain": [
       "Index(['BuildingID', 'BoroID_vio', 'Postcode', 'Story', 'Block_vio', 'Lot_vio',\n",
       "       'Latitude', 'Longitude', 'CommunityBoard_vio', 'CensusTract_vio',\n",
       "       'BIN_vio', 'BBL', 'Days_to_close', 'target', 'ManagementProgram',\n",
       "       'DoBBuildingClass', 'LegalStories', 'LegalClassA', 'LegalClassB',\n",
       "       'LifeCycle', 'RecordStatus'],\n",
       "      dtype='object')"
      ]
     },
     "execution_count": 428,
     "metadata": {},
     "output_type": "execute_result"
    }
   ],
   "source": [
    "violations_buildings.columns"
   ]
  },
  {
   "cell_type": "markdown",
   "id": "de36dcbc",
   "metadata": {},
   "source": [
    "# Read in building water and energy consumption data"
   ]
  },
  {
   "cell_type": "code",
   "execution_count": 388,
   "id": "bdde13a8",
   "metadata": {},
   "outputs": [
    {
     "name": "stderr",
     "output_type": "stream",
     "text": [
      "/opt/anaconda3/envs/metis/lib/python3.8/site-packages/IPython/core/interactiveshell.py:3169: DtypeWarning: Columns (9,15,218,219) have mixed types.Specify dtype option on import or set low_memory=False.\n",
      "  has_raised = await self.run_ast_nodes(code_ast.body, cell_name,\n"
     ]
    }
   ],
   "source": [
    "water_energy_buildings = pd.read_csv('Energy_and_Water_Data_Disclosure_for_Local_Law_84_2021__Data_for_Calendar_Year_2020_.csv')"
   ]
  },
  {
   "cell_type": "code",
   "execution_count": 418,
   "id": "fa32d306",
   "metadata": {},
   "outputs": [
    {
     "data": {
      "text/plain": [
       "(28067, 2)"
      ]
     },
     "execution_count": 418,
     "metadata": {},
     "output_type": "execute_result"
    }
   ],
   "source": [
    "water_energy_buildings.shape"
   ]
  },
  {
   "cell_type": "code",
   "execution_count": 419,
   "id": "01f39394",
   "metadata": {},
   "outputs": [],
   "source": [
    "# drop columns not needed for merge\n",
    "\n",
    "water_energy_buildings = water_energy_buildings[['NYC Building Identification Number (BIN)', 'Year Built']]"
   ]
  },
  {
   "cell_type": "markdown",
   "id": "7d255575",
   "metadata": {},
   "source": [
    "# Merge violations_buildings and building water and energy consumption data"
   ]
  },
  {
   "cell_type": "code",
   "execution_count": 432,
   "id": "66b3e406",
   "metadata": {},
   "outputs": [
    {
     "name": "stdout",
     "output_type": "stream",
     "text": [
      "<class 'pandas.core.frame.DataFrame'>\n",
      "Int64Index: 117219 entries, 0 to 117218\n",
      "Data columns (total 21 columns):\n",
      " #   Column              Non-Null Count   Dtype          \n",
      "---  ------              --------------   -----          \n",
      " 0   BuildingID          117219 non-null  int64          \n",
      " 1   BoroID_vio          117219 non-null  int64          \n",
      " 2   Postcode            117219 non-null  float64        \n",
      " 3   Story               117188 non-null  object         \n",
      " 4   Block_vio           117219 non-null  int64          \n",
      " 5   Lot_vio             117219 non-null  int64          \n",
      " 6   Latitude            117217 non-null  float64        \n",
      " 7   Longitude           117217 non-null  float64        \n",
      " 8   CommunityBoard_vio  117217 non-null  float64        \n",
      " 9   CensusTract_vio     117217 non-null  float64        \n",
      " 10  BIN_vio             117141 non-null  float64        \n",
      " 11  BBL                 117141 non-null  float64        \n",
      " 12  Days_to_close       117219 non-null  timedelta64[ns]\n",
      " 13  target              117219 non-null  int64          \n",
      " 14  ManagementProgram   117215 non-null  object         \n",
      " 15  DoBBuildingClass    117215 non-null  object         \n",
      " 16  LegalStories        117215 non-null  float64        \n",
      " 17  LegalClassA         117211 non-null  float64        \n",
      " 18  LegalClassB         116725 non-null  float64        \n",
      " 19  LifeCycle           117215 non-null  object         \n",
      " 20  RecordStatus        117215 non-null  object         \n",
      "dtypes: float64(10), int64(5), object(5), timedelta64[ns](1)\n",
      "memory usage: 19.7+ MB\n"
     ]
    }
   ],
   "source": [
    "violations_buildings.info()"
   ]
  },
  {
   "cell_type": "code",
   "execution_count": 430,
   "id": "1bcd6086",
   "metadata": {},
   "outputs": [
    {
     "data": {
      "text/plain": [
       "NYC Building Identification Number (BIN)    object\n",
       "Year Built                                   int64\n",
       "dtype: object"
      ]
     },
     "execution_count": 430,
     "metadata": {},
     "output_type": "execute_result"
    }
   ],
   "source": [
    "water_energy_buildings.dtypes"
   ]
  },
  {
   "cell_type": "code",
   "execution_count": 437,
   "id": "2870877a",
   "metadata": {},
   "outputs": [],
   "source": [
    "# drop BIN_vio with null values in violations_buildings and then convert BIN_vio to int then str for merge with \n",
    "    # water_energy_buildings\n",
    "\n",
    "violations_buildings.dropna(subset=['BIN_vio'],inplace=True)\n",
    "\n",
    "violations_buildings['BIN_vio'] = violations_buildings['BIN_vio'].astype(int)\n",
    "violations_buildings['BIN_vio'] = violations_buildings['BIN_vio'].astype(str)"
   ]
  },
  {
   "cell_type": "code",
   "execution_count": 438,
   "id": "b7d33253",
   "metadata": {},
   "outputs": [
    {
     "data": {
      "text/plain": [
       "2002047    166\n",
       "3120374    162\n",
       "1063331    159\n",
       "2008060    143\n",
       "2003497    143\n",
       "          ... \n",
       "1062696      1\n",
       "3072713      1\n",
       "3117143      1\n",
       "2007735      1\n",
       "2093937      1\n",
       "Name: BIN_vio, Length: 13879, dtype: int64"
      ]
     },
     "execution_count": 438,
     "metadata": {},
     "output_type": "execute_result"
    }
   ],
   "source": [
    "violations_buildings['BIN_vio'].value_counts()"
   ]
  },
  {
   "cell_type": "code",
   "execution_count": 439,
   "id": "447aa94b",
   "metadata": {},
   "outputs": [
    {
     "data": {
      "text/plain": [
       "Not Available    112\n",
       "0000000           26\n",
       "2026596           23\n",
       "1081667           10\n",
       "4542595            6\n",
       "                ... \n",
       "3126369            1\n",
       "1056908            1\n",
       "1090231            1\n",
       "3816816            1\n",
       "4009004            1\n",
       "Name: NYC Building Identification Number (BIN), Length: 26723, dtype: int64"
      ]
     },
     "execution_count": 439,
     "metadata": {},
     "output_type": "execute_result"
    }
   ],
   "source": [
    "water_energy_buildings['NYC Building Identification Number (BIN)'].value_counts()"
   ]
  },
  {
   "cell_type": "code",
   "execution_count": 440,
   "id": "175124d7",
   "metadata": {},
   "outputs": [],
   "source": [
    "violations_buildings_yrbuilt = pd.merge(violations_buildings, water_energy_buildings,how='left',\n",
    "                                        left_on='BIN_vio', right_on='NYC Building Identification Number (BIN)',suffixes=('_vio', '_yrbuilt'))"
   ]
  },
  {
   "cell_type": "code",
   "execution_count": 441,
   "id": "20357799",
   "metadata": {},
   "outputs": [
    {
     "data": {
      "text/plain": [
       "Index(['BuildingID', 'BoroID_vio', 'Postcode', 'Story', 'Block_vio', 'Lot_vio',\n",
       "       'Latitude', 'Longitude', 'CommunityBoard_vio', 'CensusTract_vio',\n",
       "       'BIN_vio', 'BBL', 'Days_to_close', 'target', 'ManagementProgram',\n",
       "       'DoBBuildingClass', 'LegalStories', 'LegalClassA', 'LegalClassB',\n",
       "       'LifeCycle', 'RecordStatus', 'NYC Building Identification Number (BIN)',\n",
       "       'Year Built'],\n",
       "      dtype='object')"
      ]
     },
     "execution_count": 441,
     "metadata": {},
     "output_type": "execute_result"
    }
   ],
   "source": [
    "violations_buildings_yrbuilt.columns"
   ]
  },
  {
   "cell_type": "code",
   "execution_count": 443,
   "id": "75a3ca43",
   "metadata": {},
   "outputs": [
    {
     "name": "stdout",
     "output_type": "stream",
     "text": [
      "<class 'pandas.core.frame.DataFrame'>\n",
      "Int64Index: 120001 entries, 0 to 120000\n",
      "Data columns (total 23 columns):\n",
      " #   Column                                    Non-Null Count   Dtype          \n",
      "---  ------                                    --------------   -----          \n",
      " 0   BuildingID                                120001 non-null  int64          \n",
      " 1   BoroID_vio                                120001 non-null  int64          \n",
      " 2   Postcode                                  120001 non-null  float64        \n",
      " 3   Story                                     119970 non-null  object         \n",
      " 4   Block_vio                                 120001 non-null  int64          \n",
      " 5   Lot_vio                                   120001 non-null  int64          \n",
      " 6   Latitude                                  120001 non-null  float64        \n",
      " 7   Longitude                                 120001 non-null  float64        \n",
      " 8   CommunityBoard_vio                        120001 non-null  float64        \n",
      " 9   CensusTract_vio                           120001 non-null  float64        \n",
      " 10  BIN_vio                                   120001 non-null  object         \n",
      " 11  BBL                                       120001 non-null  float64        \n",
      " 12  Days_to_close                             120001 non-null  timedelta64[ns]\n",
      " 13  target                                    120001 non-null  int64          \n",
      " 14  ManagementProgram                         119997 non-null  object         \n",
      " 15  DoBBuildingClass                          119997 non-null  object         \n",
      " 16  LegalStories                              119997 non-null  float64        \n",
      " 17  LegalClassA                               119993 non-null  float64        \n",
      " 18  LegalClassB                               119497 non-null  float64        \n",
      " 19  LifeCycle                                 119997 non-null  object         \n",
      " 20  RecordStatus                              119997 non-null  object         \n",
      " 21  NYC Building Identification Number (BIN)  61591 non-null   object         \n",
      " 22  Year Built                                61591 non-null   float64        \n",
      "dtypes: float64(10), int64(5), object(7), timedelta64[ns](1)\n",
      "memory usage: 22.0+ MB\n"
     ]
    }
   ],
   "source": [
    "violations_buildings_yrbuilt.info()"
   ]
  },
  {
   "cell_type": "code",
   "execution_count": 444,
   "id": "b73b0913",
   "metadata": {},
   "outputs": [],
   "source": [
    "# drop columns not needed\n",
    "\n",
    "violations_buildings_yrbuilt.drop(['NYC Building Identification Number (BIN)'],axis=1,inplace=True)"
   ]
  }
 ],
 "metadata": {
  "kernelspec": {
   "display_name": "Python [conda env:metis] *",
   "language": "python",
   "name": "conda-env-metis-py"
  },
  "language_info": {
   "codemirror_mode": {
    "name": "ipython",
    "version": 3
   },
   "file_extension": ".py",
   "mimetype": "text/x-python",
   "name": "python",
   "nbconvert_exporter": "python",
   "pygments_lexer": "ipython3",
   "version": "3.8.10"
  }
 },
 "nbformat": 4,
 "nbformat_minor": 5
}
